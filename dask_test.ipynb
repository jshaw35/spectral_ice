{
 "cells": [
  {
   "cell_type": "markdown",
   "id": "92da50c0-00c0-4ea3-ba16-b25498005d10",
   "metadata": {},
   "source": [
    "Original file notes"
   ]
  },
  {
   "cell_type": "markdown",
   "id": "f0c447a9-a484-4333-920a-0dbacc133bf7",
   "metadata": {},
   "source": [
    "# Calculate Arctic Regional ice mass budget terms from CESM2-LE\n",
    "\n",
    "* **Description**: Reads in and creates regional integrated values from CESM2-LE\n",
    "* **Input data**: CESM2-LE data, read using intake-esm\n",
    "* **Output data**: Netcdf with processed ice state for all members\n",
    "* **Creator**: Alice DuVivier\n",
    "* **Date**: August 2021"
   ]
  },
  {
   "cell_type": "markdown",
   "id": "d63a1bfd-1ecc-4838-afcd-ee43cc691145",
   "metadata": {},
   "source": [
    "I have commented comments out pop_tools here since I don't nned it."
   ]
  },
  {
   "cell_type": "code",
   "execution_count": 1,
   "id": "b4336626-375a-4948-bf95-e93218ef0617",
   "metadata": {},
   "outputs": [
    {
     "name": "stderr",
     "output_type": "stream",
     "text": [
      "/glade/work/jonahshaw/miniconda3/envs/cheydask/lib/python3.7/site-packages/ncar_jobqueue/cluster.py:31: UserWarning: Unable to determine which NCAR cluster you are running on... Using an instance of `distributed.LocalCluster` class.\n",
      "  'Unable to determine which NCAR cluster you are running on... Using an instance of `distributed.LocalCluster` class.'\n"
     ]
    }
   ],
   "source": [
    "import xarray as xr\n",
    "import numpy as np\n",
    "import matplotlib.pyplot as plt\n",
    "# import pop_tools\n",
    "from datetime import timedelta\n",
    "import glob\n",
    "import dask\n",
    "from matplotlib.gridspec import GridSpec\n",
    "import pandas as pd\n",
    "\n",
    "import intake\n",
    "from distributed import Client\n",
    "from ncar_jobqueue import NCARCluster\n"
   ]
  },
  {
   "cell_type": "markdown",
   "id": "e981cb23-cc53-425d-b30e-ed8ea3239347",
   "metadata": {},
   "source": [
    "^always get this error that makes it seem like the program doesn't realize that it is actually running on Casper."
   ]
  },
  {
   "cell_type": "markdown",
   "id": "96a536b2-7c76-4798-ac88-27ee14e91ade",
   "metadata": {},
   "source": [
    "Spin up dask cluster"
   ]
  },
  {
   "cell_type": "markdown",
   "id": "7a95be4b-8218-4505-b800-51f29ba04752",
   "metadata": {},
   "source": [
    "I have only replaced the \"project\" line here. It was giving me a cluster to run on a few weeks ago and I am not sure what has changed. \n",
    "I tried running both on a casper login node and a casper pbs batch with no success.\n",
    "Perhaps updates to the Jupyterhub are causing issues?"
   ]
  },
  {
   "cell_type": "code",
   "execution_count": 2,
   "id": "ba8c25c5-d426-4966-92bc-5abbc50cd537",
   "metadata": {
    "tags": []
   },
   "outputs": [
    {
     "name": "stdout",
     "output_type": "stream",
     "text": [
      "PBSCluster('tcp://10.12.206.63:42353', workers=0, threads=0, memory=0 B)\n"
     ]
    }
   ],
   "source": [
    "# import dask\n",
    "\n",
    "# Use dask jobqueue\n",
    "from dask_jobqueue import PBSCluster\n",
    "\n",
    "# Import a client\n",
    "from dask.distributed import Client\n",
    "\n",
    "# Setup your PBSCluster\n",
    "cluster = PBSCluster(\n",
    "    cores=2, # The number of cores you want\n",
    "    memory='32 GB', # Amount of memory\n",
    "    processes=1, # How many processes\n",
    "    queue='casper', # The type of queue to utilize (/glade/u/apps/dav/opt/usr/bin/execcasper)\n",
    "    local_directory='$TMPDIR', # Use your local directory\n",
    "    #resource_spec='select=1:ncpus=2:mem=256GB', # Specify resources\n",
    "    project='UCUC0007', # Input your project ID here\n",
    "    # project='P93300665', # Input your project ID here\n",
    "    walltime='04:00:00', # Amount of wall time\n",
    "    interface='ib0', # Interface to use\n",
    ")\n",
    "\n",
    "print(cluster)\n",
    "\n",
    "# Scale up\n",
    "cluster.scale(32)\n",
    "\n",
    "# Change your url to the dask dashboard so you can see it\n",
    "dask.config.set({'distributed.dashboard.link':'https://jupyterhub.hpc.ucar.edu/stable/user/{USER}/proxy/{port}/status'})\n",
    "\n",
    "# Setup your client\n",
    "client = Client(cluster)"
   ]
  },
  {
   "cell_type": "code",
   "execution_count": 6,
   "id": "b0dbccf7-0ebf-491f-a87f-690cb08a973c",
   "metadata": {},
   "outputs": [
    {
     "ename": "NameError",
     "evalue": "name 'subset' is not defined",
     "output_type": "error",
     "traceback": [
      "\u001b[0;31m---------------------------------------------------------------------------\u001b[0m",
      "\u001b[0;31mNameError\u001b[0m                                 Traceback (most recent call last)",
      "\u001b[0;32m<timed exec>\u001b[0m in \u001b[0;36m<module>\u001b[0;34m\u001b[0m\n",
      "\u001b[0;31mNameError\u001b[0m: name 'subset' is not defined"
     ]
    }
   ],
   "source": [
    "%%time\n",
    "with dask.config.set(**{'array.slicing.split_large_chunks': True}):\n",
    "    dsets = subset.to_dataset_dict(cdf_kwargs={'chunks': {'time':240}, 'decode_times': True})"
   ]
  }
 ],
 "metadata": {
  "kernelspec": {
   "display_name": "Python [conda env:miniconda3-cheydask]",
   "language": "python",
   "name": "conda-env-miniconda3-cheydask-py"
  },
  "language_info": {
   "codemirror_mode": {
    "name": "ipython",
    "version": 3
   },
   "file_extension": ".py",
   "mimetype": "text/x-python",
   "name": "python",
   "nbconvert_exporter": "python",
   "pygments_lexer": "ipython3",
   "version": "3.7.8"
  }
 },
 "nbformat": 4,
 "nbformat_minor": 5
}
