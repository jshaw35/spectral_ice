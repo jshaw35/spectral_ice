{
 "cells": [
  {
   "cell_type": "markdown",
   "id": "0b073b82-ee3e-4555-a664-8d103705471d",
   "metadata": {
    "tags": []
   },
   "source": [
    "# Make intended \"Figure 1\" for spectral ice paper\n",
    "\n",
    "### Jonah Shaw, 09/20/2021"
   ]
  },
  {
   "cell_type": "markdown",
   "id": "8c512193-1576-4e5c-a800-6d365f00c200",
   "metadata": {},
   "source": [
    "Four panels (potentially more) with contour plots of observed monthly trends  \n",
    "1. dT/dt (GISStemp or HadCrut?)  \n",
    "2. Ice extent trend (need to find gridded monthly product)\n",
    "3. CERES ASR (03/2000 - 02/2020 or 01/2001 - 01/2020)\n",
    "4. CERES OLR (03/2000 - 02/2020 or 01/2001 - 01/2020)"
   ]
  },
  {
   "cell_type": "markdown",
   "id": "b704b531-e55a-47d5-87e0-42ee3360c5f3",
   "metadata": {},
   "source": [
    "### Do imports"
   ]
  },
  {
   "cell_type": "code",
   "execution_count": 1,
   "id": "0e99c01a-c14e-43f7-a7f4-4a7c5c5ba048",
   "metadata": {},
   "outputs": [
    {
     "name": "stdout",
     "output_type": "stream",
     "text": [
      "The autoreload extension is already loaded. To reload it, use:\n",
      "  %reload_ext autoreload\n"
     ]
    }
   ],
   "source": [
    "import sys\n",
    "# Add common resources folder to path\n",
    "sys.path.append('/glade/u/home/jonahshaw/Scripts/git_repos/spectral_ice/')\n",
    "sys.path.append('/glade/u/home/jonahshaw/Scripts/git_repos/spectral_ice/Common/') # is this good or not good. I should reorg.\n",
    "# sys.path.append(\"/home/jonahks/git_repos/netcdf_analysis/Common/\")\n",
    "\n",
    "from imports import (\n",
    "    pd, np, xr, mpl, plt, sns, os, \n",
    "    datetime, sys, crt, gridspec,\n",
    "    ccrs, metrics, Iterable, cmaps,\n",
    "    glob\n",
    "    )\n",
    "\n",
    "from functions import (\n",
    "    masked_average, add_weights, sp_map,\n",
    "    season_mean, get_dpm, leap_year, regress_1d,\n",
    "    to_png, polarCentral_set_latlim, add_map_features,\n",
    "    stats, plot_trends, MidpointNormalize\n",
    "    )\n",
    "\n",
    "from collections import deque\n",
    "%matplotlib inline"
   ]
  },
  {
   "cell_type": "markdown",
   "id": "3c2caed9-d148-4a47-9035-60fbf4dcf327",
   "metadata": {},
   "source": [
    "## Load datasets\n",
    "\n",
    "CERES, GISStemp, HadSST, NSIDC"
   ]
  },
  {
   "cell_type": "markdown",
   "id": "5efefd3d-1d4d-4a14-9680-d57dc8db612c",
   "metadata": {
    "tags": []
   },
   "source": [
    "## Load GISStemp data"
   ]
  },
  {
   "cell_type": "markdown",
   "id": "8b3a95e5-73b8-4553-a05a-d38446b5a713",
   "metadata": {},
   "source": [
    "The GISS record runs from 1880 until 2021-01, whereas CERES runs 2002-03 to 2021-02."
   ]
  },
  {
   "cell_type": "code",
   "execution_count": 2,
   "id": "99f50dc9-dc37-4912-a31e-9ad81fcaeb5e",
   "metadata": {},
   "outputs": [],
   "source": [
    "gisstemp_path = '/glade/work/jenkay/obs/GISTEMP/'"
   ]
  },
  {
   "cell_type": "code",
   "execution_count": 3,
   "id": "01346a3e-1b90-4950-aecb-4c0bba27ed3d",
   "metadata": {},
   "outputs": [],
   "source": [
    "giss1 = xr.open_dataset('%s/%s' % (gisstemp_path,'air.2x2.1200.mon.anom.comb.nc')) # longer time period here"
   ]
  },
  {
   "cell_type": "code",
   "execution_count": 4,
   "id": "c20f65b4-67ba-48f3-8aeb-d55381f9198e",
   "metadata": {},
   "outputs": [],
   "source": [
    "giss_tsel = giss1.sel(time=slice('2000-03','2021-03'))['air']"
   ]
  },
  {
   "cell_type": "code",
   "execution_count": 5,
   "id": "22ee2fed-5d5e-434e-9281-1d992abf6ec1",
   "metadata": {},
   "outputs": [],
   "source": [
    "giss1.close()"
   ]
  },
  {
   "cell_type": "markdown",
   "id": "26bcc5fa-ff4f-461e-ad99-08cfe95db443",
   "metadata": {},
   "source": [
    "## Load HadSST3.1 data\n",
    "\n",
    "Haven't used this before, but trying to find something with temperature records from the Arctic."
   ]
  },
  {
   "cell_type": "code",
   "execution_count": 6,
   "id": "1d035139-cadb-4fd0-9409-c2069ab59d20",
   "metadata": {},
   "outputs": [],
   "source": [
    "hadsst_path = '/glade/work/jonahshaw/obs/HadSST3.0/'\n",
    "hadsst_file = 'HadSST.3.1.1.0.median.nc'"
   ]
  },
  {
   "cell_type": "code",
   "execution_count": 7,
   "id": "3d6517e4-c62d-4c02-87ca-40cd08db274c",
   "metadata": {},
   "outputs": [],
   "source": [
    "hadsst = xr.open_dataset('%s/%s' % (hadsst_path,hadsst_file))['sst']"
   ]
  },
  {
   "cell_type": "markdown",
   "id": "b99e766a-042c-4b6c-96af-d362a6fb59d5",
   "metadata": {},
   "source": [
    "## Load NSIDC data\n",
    "\n",
    "Using the G10010 V2 product for now."
   ]
  },
  {
   "cell_type": "markdown",
   "id": "4290c147-24a1-4065-9bb4-169256a6f0a1",
   "metadata": {},
   "source": [
    "The ancilliary data has the lat/lon point for each gridcell"
   ]
  },
  {
   "cell_type": "code",
   "execution_count": 6,
   "id": "17201c1c-011c-41f7-942e-9a0cccb637c9",
   "metadata": {},
   "outputs": [],
   "source": [
    "g10010_path = '/glade/work/jonahshaw/obs/NSIDC/G10010_V2/'\n",
    "g10010_file = 'G10010_sibt1850_v2.0.nc'"
   ]
  },
  {
   "cell_type": "code",
   "execution_count": 7,
   "id": "2f89019d-4156-49e8-8e69-81060018753b",
   "metadata": {},
   "outputs": [],
   "source": [
    "nsidc_seaice = xr.open_dataset('%s/%s' % (g10010_path,g10010_file))"
   ]
  },
  {
   "cell_type": "markdown",
   "id": "4fb3a07b-a31e-413e-9985-12a74f783d75",
   "metadata": {},
   "source": [
    "Using the G02202 V4 product (recommended by Walt Meier)"
   ]
  },
  {
   "cell_type": "code",
   "execution_count": 10,
   "id": "91298eb0-ff73-4ec8-980a-bb0d584aaf54",
   "metadata": {},
   "outputs": [],
   "source": [
    "g02202_path = '/glade/work/jonahshaw/obs/NSIDC/G02202_V4/'"
   ]
  },
  {
   "cell_type": "code",
   "execution_count": 11,
   "id": "ac492620-6ca8-48cf-80fe-f4cba020f85a",
   "metadata": {},
   "outputs": [],
   "source": [
    "g02202_files = glob.glob('%s*.nc' % (g02202_path))\n",
    "g02202_files.sort()"
   ]
  },
  {
   "cell_type": "code",
   "execution_count": 12,
   "id": "ce777389-ecb4-409f-b861-1ce684fd2dc7",
   "metadata": {},
   "outputs": [
    {
     "name": "stderr",
     "output_type": "stream",
     "text": [
      "/glade/work/jonahshaw/miniconda3/envs/cheycomp/lib/python3.7/site-packages/xarray/conventions.py:498: SerializationWarning: variable 'cdr_seaice_conc_monthly' has _Unsigned attribute but is not of integer type. Ignoring attribute.\n",
      "  decode_timedelta=decode_timedelta,\n",
      "/glade/work/jonahshaw/miniconda3/envs/cheycomp/lib/python3.7/site-packages/xarray/conventions.py:498: SerializationWarning: variable 'melt_onset_day_cdr_seaice_conc_monthly' has _Unsigned attribute but is not of integer type. Ignoring attribute.\n",
      "  decode_timedelta=decode_timedelta,\n",
      "/glade/work/jonahshaw/miniconda3/envs/cheycomp/lib/python3.7/site-packages/xarray/conventions.py:498: SerializationWarning: variable 'nsidc_bt_seaice_conc_monthly' has _Unsigned attribute but is not of integer type. Ignoring attribute.\n",
      "  decode_timedelta=decode_timedelta,\n",
      "/glade/work/jonahshaw/miniconda3/envs/cheycomp/lib/python3.7/site-packages/xarray/conventions.py:498: SerializationWarning: variable 'nsidc_nt_seaice_conc_monthly' has _Unsigned attribute but is not of integer type. Ignoring attribute.\n",
      "  decode_timedelta=decode_timedelta,\n",
      "/glade/work/jonahshaw/miniconda3/envs/cheycomp/lib/python3.7/site-packages/xarray/conventions.py:498: SerializationWarning: variable 'qa_of_cdr_seaice_conc_monthly' has _Unsigned attribute but is not of integer type. Ignoring attribute.\n",
      "  decode_timedelta=decode_timedelta,\n"
     ]
    }
   ],
   "source": [
    "g02202_ancilliary = xr.open_dataset(g02202_files[0])\n",
    "g02202_test = xr.open_dataset(g02202_files[1])"
   ]
  },
  {
   "cell_type": "code",
   "execution_count": 19,
   "id": "83dcbfaf-3bdd-4c5f-880b-e4ff021c7daa",
   "metadata": {},
   "outputs": [
    {
     "data": {
      "text/html": [
       "<div><svg style=\"position: absolute; width: 0; height: 0; overflow: hidden\">\n",
       "<defs>\n",
       "<symbol id=\"icon-database\" viewBox=\"0 0 32 32\">\n",
       "<path d=\"M16 0c-8.837 0-16 2.239-16 5v4c0 2.761 7.163 5 16 5s16-2.239 16-5v-4c0-2.761-7.163-5-16-5z\"></path>\n",
       "<path d=\"M16 17c-8.837 0-16-2.239-16-5v6c0 2.761 7.163 5 16 5s16-2.239 16-5v-6c0 2.761-7.163 5-16 5z\"></path>\n",
       "<path d=\"M16 26c-8.837 0-16-2.239-16-5v6c0 2.761 7.163 5 16 5s16-2.239 16-5v-6c0 2.761-7.163 5-16 5z\"></path>\n",
       "</symbol>\n",
       "<symbol id=\"icon-file-text2\" viewBox=\"0 0 32 32\">\n",
       "<path d=\"M28.681 7.159c-0.694-0.947-1.662-2.053-2.724-3.116s-2.169-2.030-3.116-2.724c-1.612-1.182-2.393-1.319-2.841-1.319h-15.5c-1.378 0-2.5 1.121-2.5 2.5v27c0 1.378 1.122 2.5 2.5 2.5h23c1.378 0 2.5-1.122 2.5-2.5v-19.5c0-0.448-0.137-1.23-1.319-2.841zM24.543 5.457c0.959 0.959 1.712 1.825 2.268 2.543h-4.811v-4.811c0.718 0.556 1.584 1.309 2.543 2.268zM28 29.5c0 0.271-0.229 0.5-0.5 0.5h-23c-0.271 0-0.5-0.229-0.5-0.5v-27c0-0.271 0.229-0.5 0.5-0.5 0 0 15.499-0 15.5 0v7c0 0.552 0.448 1 1 1h7v19.5z\"></path>\n",
       "<path d=\"M23 26h-14c-0.552 0-1-0.448-1-1s0.448-1 1-1h14c0.552 0 1 0.448 1 1s-0.448 1-1 1z\"></path>\n",
       "<path d=\"M23 22h-14c-0.552 0-1-0.448-1-1s0.448-1 1-1h14c0.552 0 1 0.448 1 1s-0.448 1-1 1z\"></path>\n",
       "<path d=\"M23 18h-14c-0.552 0-1-0.448-1-1s0.448-1 1-1h14c0.552 0 1 0.448 1 1s-0.448 1-1 1z\"></path>\n",
       "</symbol>\n",
       "</defs>\n",
       "</svg>\n",
       "<style>/* CSS stylesheet for displaying xarray objects in jupyterlab.\n",
       " *\n",
       " */\n",
       "\n",
       ":root {\n",
       "  --xr-font-color0: var(--jp-content-font-color0, rgba(0, 0, 0, 1));\n",
       "  --xr-font-color2: var(--jp-content-font-color2, rgba(0, 0, 0, 0.54));\n",
       "  --xr-font-color3: var(--jp-content-font-color3, rgba(0, 0, 0, 0.38));\n",
       "  --xr-border-color: var(--jp-border-color2, #e0e0e0);\n",
       "  --xr-disabled-color: var(--jp-layout-color3, #bdbdbd);\n",
       "  --xr-background-color: var(--jp-layout-color0, white);\n",
       "  --xr-background-color-row-even: var(--jp-layout-color1, white);\n",
       "  --xr-background-color-row-odd: var(--jp-layout-color2, #eeeeee);\n",
       "}\n",
       "\n",
       "html[theme=dark],\n",
       "body.vscode-dark {\n",
       "  --xr-font-color0: rgba(255, 255, 255, 1);\n",
       "  --xr-font-color2: rgba(255, 255, 255, 0.54);\n",
       "  --xr-font-color3: rgba(255, 255, 255, 0.38);\n",
       "  --xr-border-color: #1F1F1F;\n",
       "  --xr-disabled-color: #515151;\n",
       "  --xr-background-color: #111111;\n",
       "  --xr-background-color-row-even: #111111;\n",
       "  --xr-background-color-row-odd: #313131;\n",
       "}\n",
       "\n",
       ".xr-wrap {\n",
       "  display: block;\n",
       "  min-width: 300px;\n",
       "  max-width: 700px;\n",
       "}\n",
       "\n",
       ".xr-text-repr-fallback {\n",
       "  /* fallback to plain text repr when CSS is not injected (untrusted notebook) */\n",
       "  display: none;\n",
       "}\n",
       "\n",
       ".xr-header {\n",
       "  padding-top: 6px;\n",
       "  padding-bottom: 6px;\n",
       "  margin-bottom: 4px;\n",
       "  border-bottom: solid 1px var(--xr-border-color);\n",
       "}\n",
       "\n",
       ".xr-header > div,\n",
       ".xr-header > ul {\n",
       "  display: inline;\n",
       "  margin-top: 0;\n",
       "  margin-bottom: 0;\n",
       "}\n",
       "\n",
       ".xr-obj-type,\n",
       ".xr-array-name {\n",
       "  margin-left: 2px;\n",
       "  margin-right: 10px;\n",
       "}\n",
       "\n",
       ".xr-obj-type {\n",
       "  color: var(--xr-font-color2);\n",
       "}\n",
       "\n",
       ".xr-sections {\n",
       "  padding-left: 0 !important;\n",
       "  display: grid;\n",
       "  grid-template-columns: 150px auto auto 1fr 20px 20px;\n",
       "}\n",
       "\n",
       ".xr-section-item {\n",
       "  display: contents;\n",
       "}\n",
       "\n",
       ".xr-section-item input {\n",
       "  display: none;\n",
       "}\n",
       "\n",
       ".xr-section-item input + label {\n",
       "  color: var(--xr-disabled-color);\n",
       "}\n",
       "\n",
       ".xr-section-item input:enabled + label {\n",
       "  cursor: pointer;\n",
       "  color: var(--xr-font-color2);\n",
       "}\n",
       "\n",
       ".xr-section-item input:enabled + label:hover {\n",
       "  color: var(--xr-font-color0);\n",
       "}\n",
       "\n",
       ".xr-section-summary {\n",
       "  grid-column: 1;\n",
       "  color: var(--xr-font-color2);\n",
       "  font-weight: 500;\n",
       "}\n",
       "\n",
       ".xr-section-summary > span {\n",
       "  display: inline-block;\n",
       "  padding-left: 0.5em;\n",
       "}\n",
       "\n",
       ".xr-section-summary-in:disabled + label {\n",
       "  color: var(--xr-font-color2);\n",
       "}\n",
       "\n",
       ".xr-section-summary-in + label:before {\n",
       "  display: inline-block;\n",
       "  content: '►';\n",
       "  font-size: 11px;\n",
       "  width: 15px;\n",
       "  text-align: center;\n",
       "}\n",
       "\n",
       ".xr-section-summary-in:disabled + label:before {\n",
       "  color: var(--xr-disabled-color);\n",
       "}\n",
       "\n",
       ".xr-section-summary-in:checked + label:before {\n",
       "  content: '▼';\n",
       "}\n",
       "\n",
       ".xr-section-summary-in:checked + label > span {\n",
       "  display: none;\n",
       "}\n",
       "\n",
       ".xr-section-summary,\n",
       ".xr-section-inline-details {\n",
       "  padding-top: 4px;\n",
       "  padding-bottom: 4px;\n",
       "}\n",
       "\n",
       ".xr-section-inline-details {\n",
       "  grid-column: 2 / -1;\n",
       "}\n",
       "\n",
       ".xr-section-details {\n",
       "  display: none;\n",
       "  grid-column: 1 / -1;\n",
       "  margin-bottom: 5px;\n",
       "}\n",
       "\n",
       ".xr-section-summary-in:checked ~ .xr-section-details {\n",
       "  display: contents;\n",
       "}\n",
       "\n",
       ".xr-array-wrap {\n",
       "  grid-column: 1 / -1;\n",
       "  display: grid;\n",
       "  grid-template-columns: 20px auto;\n",
       "}\n",
       "\n",
       ".xr-array-wrap > label {\n",
       "  grid-column: 1;\n",
       "  vertical-align: top;\n",
       "}\n",
       "\n",
       ".xr-preview {\n",
       "  color: var(--xr-font-color3);\n",
       "}\n",
       "\n",
       ".xr-array-preview,\n",
       ".xr-array-data {\n",
       "  padding: 0 5px !important;\n",
       "  grid-column: 2;\n",
       "}\n",
       "\n",
       ".xr-array-data,\n",
       ".xr-array-in:checked ~ .xr-array-preview {\n",
       "  display: none;\n",
       "}\n",
       "\n",
       ".xr-array-in:checked ~ .xr-array-data,\n",
       ".xr-array-preview {\n",
       "  display: inline-block;\n",
       "}\n",
       "\n",
       ".xr-dim-list {\n",
       "  display: inline-block !important;\n",
       "  list-style: none;\n",
       "  padding: 0 !important;\n",
       "  margin: 0;\n",
       "}\n",
       "\n",
       ".xr-dim-list li {\n",
       "  display: inline-block;\n",
       "  padding: 0;\n",
       "  margin: 0;\n",
       "}\n",
       "\n",
       ".xr-dim-list:before {\n",
       "  content: '(';\n",
       "}\n",
       "\n",
       ".xr-dim-list:after {\n",
       "  content: ')';\n",
       "}\n",
       "\n",
       ".xr-dim-list li:not(:last-child):after {\n",
       "  content: ',';\n",
       "  padding-right: 5px;\n",
       "}\n",
       "\n",
       ".xr-has-index {\n",
       "  font-weight: bold;\n",
       "}\n",
       "\n",
       ".xr-var-list,\n",
       ".xr-var-item {\n",
       "  display: contents;\n",
       "}\n",
       "\n",
       ".xr-var-item > div,\n",
       ".xr-var-item label,\n",
       ".xr-var-item > .xr-var-name span {\n",
       "  background-color: var(--xr-background-color-row-even);\n",
       "  margin-bottom: 0;\n",
       "}\n",
       "\n",
       ".xr-var-item > .xr-var-name:hover span {\n",
       "  padding-right: 5px;\n",
       "}\n",
       "\n",
       ".xr-var-list > li:nth-child(odd) > div,\n",
       ".xr-var-list > li:nth-child(odd) > label,\n",
       ".xr-var-list > li:nth-child(odd) > .xr-var-name span {\n",
       "  background-color: var(--xr-background-color-row-odd);\n",
       "}\n",
       "\n",
       ".xr-var-name {\n",
       "  grid-column: 1;\n",
       "}\n",
       "\n",
       ".xr-var-dims {\n",
       "  grid-column: 2;\n",
       "}\n",
       "\n",
       ".xr-var-dtype {\n",
       "  grid-column: 3;\n",
       "  text-align: right;\n",
       "  color: var(--xr-font-color2);\n",
       "}\n",
       "\n",
       ".xr-var-preview {\n",
       "  grid-column: 4;\n",
       "}\n",
       "\n",
       ".xr-var-name,\n",
       ".xr-var-dims,\n",
       ".xr-var-dtype,\n",
       ".xr-preview,\n",
       ".xr-attrs dt {\n",
       "  white-space: nowrap;\n",
       "  overflow: hidden;\n",
       "  text-overflow: ellipsis;\n",
       "  padding-right: 10px;\n",
       "}\n",
       "\n",
       ".xr-var-name:hover,\n",
       ".xr-var-dims:hover,\n",
       ".xr-var-dtype:hover,\n",
       ".xr-attrs dt:hover {\n",
       "  overflow: visible;\n",
       "  width: auto;\n",
       "  z-index: 1;\n",
       "}\n",
       "\n",
       ".xr-var-attrs,\n",
       ".xr-var-data {\n",
       "  display: none;\n",
       "  background-color: var(--xr-background-color) !important;\n",
       "  padding-bottom: 5px !important;\n",
       "}\n",
       "\n",
       ".xr-var-attrs-in:checked ~ .xr-var-attrs,\n",
       ".xr-var-data-in:checked ~ .xr-var-data {\n",
       "  display: block;\n",
       "}\n",
       "\n",
       ".xr-var-data > table {\n",
       "  float: right;\n",
       "}\n",
       "\n",
       ".xr-var-name span,\n",
       ".xr-var-data,\n",
       ".xr-attrs {\n",
       "  padding-left: 25px !important;\n",
       "}\n",
       "\n",
       ".xr-attrs,\n",
       ".xr-var-attrs,\n",
       ".xr-var-data {\n",
       "  grid-column: 1 / -1;\n",
       "}\n",
       "\n",
       "dl.xr-attrs {\n",
       "  padding: 0;\n",
       "  margin: 0;\n",
       "  display: grid;\n",
       "  grid-template-columns: 125px auto;\n",
       "}\n",
       "\n",
       ".xr-attrs dt, dd {\n",
       "  padding: 0;\n",
       "  margin: 0;\n",
       "  float: left;\n",
       "  padding-right: 10px;\n",
       "  width: auto;\n",
       "}\n",
       "\n",
       ".xr-attrs dt {\n",
       "  font-weight: normal;\n",
       "  grid-column: 1;\n",
       "}\n",
       "\n",
       ".xr-attrs dt:hover span {\n",
       "  display: inline-block;\n",
       "  background: var(--xr-background-color);\n",
       "  padding-right: 10px;\n",
       "}\n",
       "\n",
       ".xr-attrs dd {\n",
       "  grid-column: 2;\n",
       "  white-space: pre-wrap;\n",
       "  word-break: break-all;\n",
       "}\n",
       "\n",
       ".xr-icon-database,\n",
       ".xr-icon-file-text2 {\n",
       "  display: inline-block;\n",
       "  vertical-align: middle;\n",
       "  width: 1em;\n",
       "  height: 1.5em !important;\n",
       "  stroke-width: 0;\n",
       "  stroke: currentColor;\n",
       "  fill: currentColor;\n",
       "}\n",
       "</style><pre class='xr-text-repr-fallback'>&lt;xarray.DataArray &#x27;cdr_seaice_conc_monthly&#x27; (y: 448, x: 304)&gt;\n",
       "array([[0.  , 0.  , 0.  , ..., 2.54, 2.54, 2.54],\n",
       "       [0.  , 0.  , 0.  , ..., 2.54, 2.54, 2.54],\n",
       "       [0.  , 0.  , 0.  , ..., 2.54, 2.54, 2.54],\n",
       "       ...,\n",
       "       [2.54, 2.54, 2.54, ..., 0.  , 0.  , 0.  ],\n",
       "       [2.54, 2.54, 2.54, ..., 0.  , 0.  , 0.  ],\n",
       "       [2.54, 2.54, 2.54, ..., 0.  , 0.  , 0.  ]], dtype=float32)\n",
       "Coordinates:\n",
       "    time     datetime64[ns] 2000-01-01\n",
       "    xgrid    (x) float32 -3837500.0 -3812500.0 ... 3712500.0 3737500.0\n",
       "    ygrid    (y) float32 5837500.0 5812500.0 5787500.0 ... -5312500.0 -5337500.0\n",
       "Dimensions without coordinates: y, x\n",
       "Attributes:\n",
       "    long_name:            NOAA/NSIDC Climate Data Record of Passive Microwave...\n",
       "    standard_name:        sea_ice_area_fraction\n",
       "    units:                1\n",
       "    flag_values:          [251 252 253 254 255]\n",
       "    flag_meanings:        pole_hole lakes coastal land_mask missing_data\n",
       "    datum:                +ellps=urn:ogc:def:crs:EPSG::4326\n",
       "    grid_mapping:         projection\n",
       "    reference:            https://nsidc.org/data/g02202/versions/4/\n",
       "    ancillary_variables:  stdev_of_cdr_seaice_conc_monthly qa_of_cdr_seaice_c...\n",
       "    valid_range:          [  0 100]</pre><div class='xr-wrap' hidden><div class='xr-header'><div class='xr-obj-type'>xarray.DataArray</div><div class='xr-array-name'>'cdr_seaice_conc_monthly'</div><ul class='xr-dim-list'><li><span>y</span>: 448</li><li><span>x</span>: 304</li></ul></div><ul class='xr-sections'><li class='xr-section-item'><div class='xr-array-wrap'><input id='section-11a45b7e-c54f-4b59-96a1-975aed152abe' class='xr-array-in' type='checkbox' checked><label for='section-11a45b7e-c54f-4b59-96a1-975aed152abe' title='Show/hide data repr'><svg class='icon xr-icon-database'><use xlink:href='#icon-database'></use></svg></label><div class='xr-array-preview xr-preview'><span>0.0 0.0 0.0 0.0 0.0 0.0 0.0 0.0 ... 0.0 0.0 0.0 0.0 0.0 0.0 0.0 0.0</span></div><div class='xr-array-data'><pre>array([[0.  , 0.  , 0.  , ..., 2.54, 2.54, 2.54],\n",
       "       [0.  , 0.  , 0.  , ..., 2.54, 2.54, 2.54],\n",
       "       [0.  , 0.  , 0.  , ..., 2.54, 2.54, 2.54],\n",
       "       ...,\n",
       "       [2.54, 2.54, 2.54, ..., 0.  , 0.  , 0.  ],\n",
       "       [2.54, 2.54, 2.54, ..., 0.  , 0.  , 0.  ],\n",
       "       [2.54, 2.54, 2.54, ..., 0.  , 0.  , 0.  ]], dtype=float32)</pre></div></div></li><li class='xr-section-item'><input id='section-dc2fb35e-55d6-4544-8f1e-506e390941e3' class='xr-section-summary-in' type='checkbox'  checked><label for='section-dc2fb35e-55d6-4544-8f1e-506e390941e3' class='xr-section-summary' >Coordinates: <span>(3)</span></label><div class='xr-section-inline-details'></div><div class='xr-section-details'><ul class='xr-var-list'><li class='xr-var-item'><div class='xr-var-name'><span>time</span></div><div class='xr-var-dims'>()</div><div class='xr-var-dtype'>datetime64[ns]</div><div class='xr-var-preview xr-preview'>2000-01-01</div><input id='attrs-9bd7c706-a5a9-4497-9193-72c946fc210a' class='xr-var-attrs-in' type='checkbox' ><label for='attrs-9bd7c706-a5a9-4497-9193-72c946fc210a' title='Show/Hide attributes'><svg class='icon xr-icon-file-text2'><use xlink:href='#icon-file-text2'></use></svg></label><input id='data-d72b53ee-88b3-4f45-8044-9749dc6f0962' class='xr-var-data-in' type='checkbox'><label for='data-d72b53ee-88b3-4f45-8044-9749dc6f0962' title='Show/Hide data repr'><svg class='icon xr-icon-database'><use xlink:href='#icon-database'></use></svg></label><div class='xr-var-attrs'><dl class='xr-attrs'><dt><span>standard_name :</span></dt><dd>time</dd><dt><span>long_name :</span></dt><dd>ANSI date</dd><dt><span>axis :</span></dt><dd>T</dd></dl></div><div class='xr-var-data'><pre>array(&#x27;2000-01-01T00:00:00.000000000&#x27;, dtype=&#x27;datetime64[ns]&#x27;)</pre></div></li><li class='xr-var-item'><div class='xr-var-name'><span>xgrid</span></div><div class='xr-var-dims'>(x)</div><div class='xr-var-dtype'>float32</div><div class='xr-var-preview xr-preview'>-3837500.0 -3812500.0 ... 3737500.0</div><input id='attrs-cb81f8df-5710-40a0-8efb-a15d8785d3af' class='xr-var-attrs-in' type='checkbox' ><label for='attrs-cb81f8df-5710-40a0-8efb-a15d8785d3af' title='Show/Hide attributes'><svg class='icon xr-icon-file-text2'><use xlink:href='#icon-file-text2'></use></svg></label><input id='data-a8ecae1c-64eb-4b67-8d2d-1d1495945cb7' class='xr-var-data-in' type='checkbox'><label for='data-a8ecae1c-64eb-4b67-8d2d-1d1495945cb7' title='Show/Hide data repr'><svg class='icon xr-icon-database'><use xlink:href='#icon-database'></use></svg></label><div class='xr-var-attrs'><dl class='xr-attrs'><dt><span>valid_range :</span></dt><dd>[-3850000.  3750000.]</dd><dt><span>units :</span></dt><dd>meters</dd><dt><span>long_name :</span></dt><dd>projection_grid_x_centers</dd><dt><span>standard_name :</span></dt><dd>projection_x_coordinate</dd><dt><span>axis :</span></dt><dd>X</dd></dl></div><div class='xr-var-data'><pre>array([-3837500., -3812500., -3787500., ...,  3687500.,  3712500.,  3737500.],\n",
       "      dtype=float32)</pre></div></li><li class='xr-var-item'><div class='xr-var-name'><span>ygrid</span></div><div class='xr-var-dims'>(y)</div><div class='xr-var-dtype'>float32</div><div class='xr-var-preview xr-preview'>5837500.0 5812500.0 ... -5337500.0</div><input id='attrs-dc94b6e2-4bf8-4a29-a1a1-19434101f0c5' class='xr-var-attrs-in' type='checkbox' ><label for='attrs-dc94b6e2-4bf8-4a29-a1a1-19434101f0c5' title='Show/Hide attributes'><svg class='icon xr-icon-file-text2'><use xlink:href='#icon-file-text2'></use></svg></label><input id='data-8d0a79b6-ac1e-49fb-9965-221cbdae236e' class='xr-var-data-in' type='checkbox'><label for='data-8d0a79b6-ac1e-49fb-9965-221cbdae236e' title='Show/Hide data repr'><svg class='icon xr-icon-database'><use xlink:href='#icon-database'></use></svg></label><div class='xr-var-attrs'><dl class='xr-attrs'><dt><span>valid_range :</span></dt><dd>[-5350000.  5850000.]</dd><dt><span>units :</span></dt><dd>meters</dd><dt><span>long_name :</span></dt><dd>projection_grid_y_centers</dd><dt><span>standard_name :</span></dt><dd>projection_y_coordinate</dd><dt><span>axis :</span></dt><dd>Y</dd></dl></div><div class='xr-var-data'><pre>array([ 5837500.,  5812500.,  5787500., ..., -5287500., -5312500., -5337500.],\n",
       "      dtype=float32)</pre></div></li></ul></div></li><li class='xr-section-item'><input id='section-a3905813-f63a-4ae3-be70-bb50c1a84605' class='xr-section-summary-in' type='checkbox'  ><label for='section-a3905813-f63a-4ae3-be70-bb50c1a84605' class='xr-section-summary' >Attributes: <span>(10)</span></label><div class='xr-section-inline-details'></div><div class='xr-section-details'><dl class='xr-attrs'><dt><span>long_name :</span></dt><dd>NOAA/NSIDC Climate Data Record of Passive Microwave Monthly Northern Hemisphere Sea Ice Concentration</dd><dt><span>standard_name :</span></dt><dd>sea_ice_area_fraction</dd><dt><span>units :</span></dt><dd>1</dd><dt><span>flag_values :</span></dt><dd>[251 252 253 254 255]</dd><dt><span>flag_meanings :</span></dt><dd>pole_hole lakes coastal land_mask missing_data</dd><dt><span>datum :</span></dt><dd>+ellps=urn:ogc:def:crs:EPSG::4326</dd><dt><span>grid_mapping :</span></dt><dd>projection</dd><dt><span>reference :</span></dt><dd>https://nsidc.org/data/g02202/versions/4/</dd><dt><span>ancillary_variables :</span></dt><dd>stdev_of_cdr_seaice_conc_monthly qa_of_cdr_seaice_conc_monthly</dd><dt><span>valid_range :</span></dt><dd>[  0 100]</dd></dl></div></li></ul></div></div>"
      ],
      "text/plain": [
       "<xarray.DataArray 'cdr_seaice_conc_monthly' (y: 448, x: 304)>\n",
       "array([[0.  , 0.  , 0.  , ..., 2.54, 2.54, 2.54],\n",
       "       [0.  , 0.  , 0.  , ..., 2.54, 2.54, 2.54],\n",
       "       [0.  , 0.  , 0.  , ..., 2.54, 2.54, 2.54],\n",
       "       ...,\n",
       "       [2.54, 2.54, 2.54, ..., 0.  , 0.  , 0.  ],\n",
       "       [2.54, 2.54, 2.54, ..., 0.  , 0.  , 0.  ],\n",
       "       [2.54, 2.54, 2.54, ..., 0.  , 0.  , 0.  ]], dtype=float32)\n",
       "Coordinates:\n",
       "    time     datetime64[ns] 2000-01-01\n",
       "    xgrid    (x) float32 -3837500.0 -3812500.0 ... 3712500.0 3737500.0\n",
       "    ygrid    (y) float32 5837500.0 5812500.0 5787500.0 ... -5312500.0 -5337500.0\n",
       "Dimensions without coordinates: y, x\n",
       "Attributes:\n",
       "    long_name:            NOAA/NSIDC Climate Data Record of Passive Microwave...\n",
       "    standard_name:        sea_ice_area_fraction\n",
       "    units:                1\n",
       "    flag_values:          [251 252 253 254 255]\n",
       "    flag_meanings:        pole_hole lakes coastal land_mask missing_data\n",
       "    datum:                +ellps=urn:ogc:def:crs:EPSG::4326\n",
       "    grid_mapping:         projection\n",
       "    reference:            https://nsidc.org/data/g02202/versions/4/\n",
       "    ancillary_variables:  stdev_of_cdr_seaice_conc_monthly qa_of_cdr_seaice_c...\n",
       "    valid_range:          [  0 100]"
      ]
     },
     "execution_count": 19,
     "metadata": {},
     "output_type": "execute_result"
    }
   ],
   "source": [
    "g02202_test['cdr_seaice_conc_monthly'][0]"
   ]
  },
  {
   "cell_type": "markdown",
   "id": "519d34ed-a1cd-4d0f-8daa-0114bc36ebfd",
   "metadata": {},
   "source": [
    "This is wack"
   ]
  },
  {
   "cell_type": "code",
   "execution_count": 23,
   "id": "30cee537-124c-4494-a345-0be06511a5ee",
   "metadata": {},
   "outputs": [
    {
     "data": {
      "text/plain": [
       "<matplotlib.contour.QuadContourSet at 0x2af8f83b2c50>"
      ]
     },
     "execution_count": 23,
     "metadata": {},
     "output_type": "execute_result"
    },
    {
     "data": {
      "image/png": "[encoded data removed]",
      "text/plain": [
       "<Figure size 432x288 with 1 Axes>"
      ]
     },
     "metadata": {
      "needs_background": "light"
     },
     "output_type": "display_data"
    }
   ],
   "source": [
    "plt.contourf(g02202_ancilliary['longitude'],g02202_ancilliary['latitude'],g02202_test['cdr_seaice_conc_monthly'][0])"
   ]
  },
  {
   "cell_type": "markdown",
   "id": "aedb4a84-a3fb-44da-899b-095e08c46ea4",
   "metadata": {
    "tags": []
   },
   "source": [
    "## Load CERES data\n",
    "\n",
    "I am using files from Brian Medeiros (most recent, somehow processed)"
   ]
  },
  {
   "cell_type": "code",
   "execution_count": 8,
   "id": "d23b1bf0-7d35-4f05-ae86-5b695ed8af9a",
   "metadata": {},
   "outputs": [],
   "source": [
    "ceres_savedir = '/glade/work/jonahshaw/obs/CERES/tseries/'\n",
    "\n",
    "ceres_path = '/glade/work/brianpm/observations/ceres'\n",
    "ceres_files = glob.glob('%s/CERES_EBAF_Ed4.1_Subset*.nc' % ceres_path)"
   ]
  },
  {
   "cell_type": "code",
   "execution_count": 9,
   "id": "da75674b-8ce2-4f1d-90d6-6c7fa3cae062",
   "metadata": {},
   "outputs": [],
   "source": [
    "# Loaded save timeseries or process them from Brian Medeiros' monthly data\n",
    "if os.path.exists('%s/CERES_EBAF_Ed4.1_ASR_200003-202102.nc' % ceres_savedir):\n",
    "    ceres_asr = xr.open_dataset('%s/CERES_EBAF_Ed4.1_ASR_200003-202102.nc' % ceres_savedir)\n",
    "    \n",
    "if os.path.exists('%s/CERES_EBAF_Ed4.1_OLR_200003-202102.nc' % ceres_savedir):\n",
    "    ceres_olr = xr.open_dataset('%s/CERES_EBAF_Ed4.1_OLR_200003-202102.nc' % ceres_savedir)\n",
    "\n",
    "if (not os.path.exists('%s/CERES_EBAF_Ed4.1_OLR_200003-202102.nc' % ceres_savedir)) or (not os.path.exists('%s/CERES_EBAF_Ed4.1_ASR_200003-202102.nc' % ceres_savedir)):    \n",
    "    all_ceres = xr.open_mfdataset(ceres_files)\n",
    "    \n",
    "    if not os.path.exists('%s/CERES_EBAF_Ed4.1_ASR_200003-202102.nc' % ceres_savedir):\n",
    "        ceres_asr = all_ceres['solar_mon'] - all_ceres['toa_sw_all_mon']\n",
    "        \n",
    "    if not os.path.exists('%s/CERES_EBAF_Ed4.1_OLR_200003-202102.nc' % ceres_savedir):\n",
    "        ceres_olr = all_ceres['toa_lw_all_mon']"
   ]
  },
  {
   "cell_type": "markdown",
   "id": "6f3028e7-69d9-47e0-ba02-7e81d5527ab5",
   "metadata": {},
   "source": [
    "## Define function for computing trends"
   ]
  },
  {
   "cell_type": "markdown",
   "id": "93136420-ba3d-40ef-abd1-610ce12e1ee2",
   "metadata": {},
   "source": [
    "#### New slower function that uses scipy.stats.linregress via apply_ufunc and gets info on statistical significance"
   ]
  },
  {
   "cell_type": "code",
   "execution_count": 11,
   "id": "facce013-e6be-4ec1-8f27-612cf3a078b6",
   "metadata": {
    "tags": []
   },
   "outputs": [],
   "source": [
    "def linregress1d_np(data, times):\n",
    "#     print(f\"data: {data.shape} | x: {times.shape}\") # different formatting syntax\n",
    "    return stats.linregress(times, data)"
   ]
  },
  {
   "cell_type": "code",
   "execution_count": 12,
   "id": "70af93e0-c459-4de9-b42d-21c288860bc4",
   "metadata": {},
   "outputs": [],
   "source": [
    "def vectorized_linregress(data):\n",
    "    '''\n",
    "    Package for my vectorized linregress call. Not very general.\n",
    "    '''\n",
    "    \n",
    "    regressed_month = xr.apply_ufunc(\n",
    "    linregress1d_np,  # first the function\n",
    "    data,  # now arguments in the order expected by 'regress1_np'\n",
    "    data.year,\n",
    "    input_core_dims=[[\"year\"], [\"year\"],],\n",
    "    output_core_dims= [[] for _ in range(5)],\n",
    "    exclude_dims=set((\"year\",)),\n",
    "    vectorize=True,\n",
    "    dask=\"parallelized\",\n",
    "    output_dtypes=[data.dtype for _ in range(5)], # one per output\n",
    "    )\n",
    "    \n",
    "    return regressed_month"
   ]
  },
  {
   "cell_type": "markdown",
   "id": "6aa34073-f90d-439c-be10-82e5dcbecc6f",
   "metadata": {
    "tags": []
   },
   "source": [
    "## Calculate trends and statistical significance"
   ]
  },
  {
   "cell_type": "markdown",
   "id": "50475534-7a8b-4876-b49b-70224ab9f4f8",
   "metadata": {},
   "source": [
    "#### CERES ASR"
   ]
  },
  {
   "cell_type": "code",
   "execution_count": 13,
   "id": "6e927d37-bf1d-4a1c-a382-de6bb27f6710",
   "metadata": {},
   "outputs": [],
   "source": [
    "# Subset data so computations are lighter and significance tests make sense\n",
    "ceres_asr_subset = ceres_asr['ASR'].sel(time=slice('2001-01-01','2020-12-31'),lat=slice(58,90)).mean('lon')"
   ]
  },
  {
   "cell_type": "code",
   "execution_count": 14,
   "id": "bf5cbe20-785f-4086-95fe-af353ff5c93d",
   "metadata": {},
   "outputs": [],
   "source": [
    "# create empty arrays for needed output\n",
    "asr_trends = xr.zeros_like(ceres_asr_subset.groupby('time.month').mean('time'))\n",
    "asr_rvalues = asr_trends.copy()\n",
    "asr_pvalues = asr_trends.copy()\n",
    "\n",
    "# Potentially I should be able to format this to avoid this for loop too\n",
    "for i,_month in ceres_asr_subset.groupby('time.month'):\n",
    "    \n",
    "    _yearlydata = _month.groupby('time.year').mean('time')    \n",
    "    regressed_month = vectorized_linregress(_yearlydata)\n",
    "    \n",
    "    ii = i-1 # the count starts at month 1 (January) but we need to index starting at 0\n",
    "    asr_trends[ii] = regressed_month[0]\n",
    "    asr_rvalues[ii] = regressed_month[2]\n",
    "    asr_pvalues[ii] = regressed_month[3]\n",
    "\n",
    "# Calculate statistical significance\n",
    "N = len(_yearlydata.year)\n",
    "dof=N-2\n",
    "\n",
    "tcrit=stats.t.ppf(0.975,dof)  ## two-sided 95%\n",
    "t=asr_rvalues*np.sqrt(N-2)/np.sqrt((1-asr_rvalues*asr_rvalues))\n",
    "\n",
    "statsig_asr=(1-asr_pvalues)*100"
   ]
  },
  {
   "cell_type": "markdown",
   "id": "0ac53b72-9f24-46dd-9495-c8ccea2f5b44",
   "metadata": {},
   "source": [
    "#### CERES OLR"
   ]
  },
  {
   "cell_type": "code",
   "execution_count": 15,
   "id": "56db515c-0bb3-4da7-820e-9bea661bba20",
   "metadata": {},
   "outputs": [],
   "source": [
    "# Subset data so computations are lighter and significance tests make sense\n",
    "ceres_olr_subset = ceres_olr['OLR'].sel(time=slice('2001-01-01','2020-12-31'),lat=slice(58,90)).mean('lon')"
   ]
  },
  {
   "cell_type": "code",
   "execution_count": 16,
   "id": "1c73cd65-5dfd-48d4-a8fd-4409de4506af",
   "metadata": {},
   "outputs": [],
   "source": [
    "# create empty arrays for needed output\n",
    "olr_trends = xr.zeros_like(ceres_olr_subset.groupby('time.month').mean('time'))\n",
    "olr_rvalues = olr_trends.copy()\n",
    "olr_pvalues = olr_trends.copy()\n",
    "\n",
    "# Potentially I should be able to format this to avoid this for loop too\n",
    "for i,_month in ceres_olr_subset.groupby('time.month'):\n",
    "    \n",
    "    _yearlydata = _month.groupby('time.year').mean('time')\n",
    "    regressed_month = vectorized_linregress(_yearlydata)\n",
    "    \n",
    "    ii = i-1 # the count starts at month 1 (January) but we need to index starting at 0\n",
    "    olr_trends[ii] = regressed_month[0]\n",
    "    olr_rvalues[ii] = regressed_month[2]\n",
    "    olr_pvalues[ii] = regressed_month[3]\n",
    "    \n",
    "# Calculate statistical significance\n",
    "N = len(_yearlydata.year)\n",
    "dof = N - 2\n",
    "\n",
    "tcrit = stats.t.ppf(0.975,dof)  ## two-sided 95%\n",
    "t = olr_rvalues * np.sqrt(N - 2) / np.sqrt((1 - olr_rvalues * olr_rvalues))\n",
    "\n",
    "statsig_olr = (1 - olr_pvalues) * 100 # student's two-tailed t-test\n",
    "notnull_olr = t > tcrit # disproving the null hypothesis (slope is zero)"
   ]
  },
  {
   "cell_type": "markdown",
   "id": "6d9494c4-2918-4315-bf8f-1d1cd83e874f",
   "metadata": {},
   "source": [
    "#### Temperature from GISStemp"
   ]
  },
  {
   "cell_type": "code",
   "execution_count": 17,
   "id": "e0e990c4-eff7-4eef-9d03-e3ec502d4c3a",
   "metadata": {},
   "outputs": [],
   "source": [
    "# Subset data so computations are lighter and significance tests make sense\n",
    "gisstemp_subset = giss_tsel.sel(time=slice('2001-01-01','2020-12-31'),lat=slice(None,58)).mean('lon')"
   ]
  },
  {
   "cell_type": "code",
   "execution_count": 18,
   "id": "7620dbfd-27df-4566-91f9-57918b91f929",
   "metadata": {},
   "outputs": [],
   "source": [
    "# create empty arrays for needed output\n",
    "gisstemp_trends = xr.zeros_like(gisstemp_subset.groupby('time.month').mean('time'))\n",
    "gisstemp_rvalues = gisstemp_trends.copy()\n",
    "gisstemp_pvalues = gisstemp_trends.copy()\n",
    "\n",
    "# Potentially I should be able to format this to avoid this for loop too\n",
    "for i,_month in gisstemp_subset.groupby('time.month'):\n",
    "    \n",
    "    _yearlydata = _month.groupby('time.year').mean('time')\n",
    "    regressed_month = vectorized_linregress(_yearlydata)\n",
    "    \n",
    "    ii = i-1 # the count starts at month 1 (January) but we need to index starting at 0\n",
    "    gisstemp_trends[ii] = regressed_month[0]\n",
    "    gisstemp_rvalues[ii] = regressed_month[2]\n",
    "    gisstemp_pvalues[ii] = regressed_month[3]\n",
    "\n",
    "# Calculate statistical significance\n",
    "N = len(_yearlydata.year)\n",
    "dof = N - 2\n",
    "\n",
    "tcrit = stats.t.ppf(0.975,dof)  ## two-sided 95%\n",
    "t = gisstemp_rvalues * np.sqrt(N - 2) / np.sqrt((1 - gisstemp_rvalues * gisstemp_rvalues))\n",
    "\n",
    "statsig_gisstemp = (1 - gisstemp_pvalues) * 100 # student's two-tailed t-test\n",
    "notnull_gisstemp = t > tcrit # disproving the null hypothesis (slope is zero)"
   ]
  },
  {
   "cell_type": "markdown",
   "id": "e65821cb-e020-4d34-8abb-5f37027cb96e",
   "metadata": {
    "tags": []
   },
   "source": [
    "#### Ice Concentration from NSIDC G10010"
   ]
  },
  {
   "cell_type": "code",
   "execution_count": 19,
   "id": "801ee8be-2666-4624-8dd2-18ca469d3403",
   "metadata": {},
   "outputs": [],
   "source": [
    "try:\n",
    "    nsidc_seaice = nsidc_seaice.rename({'latitude':'lat','longitude':'lon'})\n",
    "except:\n",
    "    pass\n",
    "\n",
    "# Subset by time and latitude\n",
    "g10010_tsel = nsidc_seaice.sel(time=slice('2001-01-01','2020-12-31'),lat=slice(90,59))\n",
    "\n",
    "# Need to perform a masked and weighted average because areas are not constant and land cells must be masked\n",
    "g10010_subset = masked_average(g10010_tsel['seaice_conc'],dim=['lon'],\n",
    "                                      weights=g10010_tsel['Gridcell_Area'],mask=(g10010_tsel['LandRegion_mask']==20))"
   ]
  },
  {
   "cell_type": "code",
   "execution_count": 20,
   "id": "ee7bf31c-5338-469a-ac68-d292cd724b94",
   "metadata": {},
   "outputs": [],
   "source": [
    "# create empty arrays for needed output\n",
    "g10010_trends = xr.zeros_like(g10010_subset.groupby('time.month').mean('time'))\n",
    "g10010_rvalues = g10010_trends.copy()\n",
    "g10010_pvalues = g10010_trends.copy()\n",
    "\n",
    "# Potentially I should be able to format this to avoid this for loop too\n",
    "for i,_month in g10010_subset.groupby('time.month'):\n",
    "    \n",
    "    _yearlydata = _month.groupby('time.year').mean('time')\n",
    "    regressed_month = vectorized_linregress(_yearlydata)\n",
    "    \n",
    "    ii = i-1 # the count starts at month 1 (January) but we need to index starting at 0\n",
    "    g10010_trends[ii] = regressed_month[0]\n",
    "    g10010_rvalues[ii] = regressed_month[2]\n",
    "    g10010_pvalues[ii] = regressed_month[3]\n",
    "    \n",
    "# Calculate statistical significance\n",
    "N = len(_yearlydata.year)\n",
    "dof = N - 2\n",
    "\n",
    "tcrit = stats.t.ppf(0.975,dof)  ## two-sided 95%\n",
    "t = g10010_rvalues * np.sqrt(N - 2) / np.sqrt((1 - g10010_rvalues * g10010_rvalues))\n",
    "\n",
    "statsig_g10010 = (1 - g10010_pvalues) * 100 # student's two-tailed t-test\n",
    "notnull_g10010 = t > tcrit # disproving the null hypothesis (slope is zero)"
   ]
  },
  {
   "cell_type": "markdown",
   "id": "19250604-ddf3-469a-8bba-9f92aa7b67ca",
   "metadata": {},
   "source": [
    "#### Wrap data for better visualization"
   ]
  },
  {
   "cell_type": "code",
   "execution_count": 42,
   "id": "54b045c3-aab4-4c4a-b952-0f2a44e141fc",
   "metadata": {},
   "outputs": [],
   "source": [
    "outtie = xr.concat([asr_trends,asr_trends[0].assign_coords({'month':13})],dim='month')"
   ]
  },
  {
   "cell_type": "code",
   "execution_count": 43,
   "id": "0f9289f0-4ea1-4f98-aa3c-5451f6f0e245",
   "metadata": {},
   "outputs": [
    {
     "data": {
      "text/plain": [
       "<matplotlib.collections.QuadMesh at 0x2ad1c4a73950>"
      ]
     },
     "execution_count": 43,
     "metadata": {},
     "output_type": "execute_result"
    },
    {
     "data": {
      "image/png": "[encoded data removed]",
      "text/plain": [
       "<Figure size 432x288 with 2 Axes>"
      ]
     },
     "metadata": {
      "needs_background": "light"
     },
     "output_type": "display_data"
    }
   ],
   "source": [
    "outtie.plot()"
   ]
  },
  {
   "cell_type": "markdown",
   "id": "29184ac6-4529-490f-9c0b-a9b8f1a6163c",
   "metadata": {
    "tags": []
   },
   "source": [
    "### Plot summary data"
   ]
  },
  {
   "cell_type": "markdown",
   "id": "853da196-6db2-41f6-ab33-2f7cf9640814",
   "metadata": {},
   "source": [
    "#### Wrap data"
   ]
  },
  {
   "cell_type": "code",
   "execution_count": 38,
   "id": "f863be9a-37a1-44f2-888f-f5a7f1037aa4",
   "metadata": {},
   "outputs": [],
   "source": [
    "files = [gisstemp_trends,statsig_gisstemp,\n",
    "         g10010_trends,statsig_g10010,\n",
    "         asr_trends,statsig_asr,\n",
    "         olr_trends,statsig_olr]\n",
    "\n",
    "for _file in files:\n",
    "    _file = xr.concat([_file,_file[0].assign_coords({'month':13})],dim='month')"
   ]
  },
  {
   "cell_type": "code",
   "execution_count": 46,
   "id": "eadcfdef-5198-4c87-81d3-984cdc76d506",
   "metadata": {},
   "outputs": [],
   "source": [
    "gisstemp_trends_wrapped = xr.concat([gisstemp_trends,gisstemp_trends[0].assign_coords({'month':13})],dim='month')\n",
    "statsig_gisstemp_wrapped = xr.concat([statsig_gisstemp,statsig_gisstemp[0].assign_coords({'month':13})],dim='month')\n",
    "\n",
    "g10010_trends_wrapped = xr.concat([g10010_trends,g10010_trends[0].assign_coords({'month':13})],dim='month')\n",
    "statsig_g10010_wrapped = xr.concat([statsig_g10010,statsig_g10010[0].assign_coords({'month':13})],dim='month')\n",
    "\n",
    "asr_trends_wrapped = xr.concat([asr_trends,asr_trends[0].assign_coords({'month':13})],dim='month')\n",
    "statsig_asr_wrapped = xr.concat([statsig_asr,statsig_asr[0].assign_coords({'month':13})],dim='month')\n",
    "\n",
    "olr_trends_wrapped = xr.concat([olr_trends,olr_trends[0].assign_coords({'month':13})],dim='month')\n",
    "statsig_olr_wrapped = xr.concat([statsig_olr,statsig_olr[0].assign_coords({'month':13})],dim='month')"
   ]
  },
  {
   "cell_type": "code",
   "execution_count": 75,
   "id": "803d3370-3402-472c-b622-5a1875c5e30c",
   "metadata": {},
   "outputs": [],
   "source": [
    "# palette = sns.diverging_palette(250, 30, l=65, center=\"light\", as_cmap=True)\n",
    "\n",
    "# palette = sns.color_palette(\"vlag\", as_cmap=True)\n",
    "\n",
    "# palette = sns.diverging_palette(145, 300, s=60, as_cmap=True)\n",
    "\n",
    "# palette = cmaps.ncl_default\n",
    "\n",
    "# palette = sns.color_palette(\"coolwarm\", as_cmap=True)\n",
    "\n",
    "# palette = sns.diverging_palette(200, 300, s=60, as_cmap=True)\n",
    "\n",
    "palette = sns.diverging_palette(257, 10, s=99, l=44, sep=50, n=8, as_cmap=True)"
   ]
  },
  {
   "cell_type": "code",
   "execution_count": 72,
   "id": "97a80d8b-9072-45c3-9c45-8c7ac5f394db",
   "metadata": {},
   "outputs": [
    {
     "data": {
      "application/vnd.jupyter.widget-view+json": {
       "model_id": "93ad2924ded241bda7e1f3e1aa2d69b2",
       "version_major": 2,
       "version_minor": 0
      },
      "text/plain": [
       "interactive(children=(IntSlider(value=220, description='h_neg', max=359), IntSlider(value=10, description='h_p…"
      ]
     },
     "metadata": {},
     "output_type": "display_data"
    },
    {
     "data": {
      "text/plain": [
       "[(0.2519971417644415, 0.4987337088076726, 0.5751602783606602),\n",
       " (0.43026136111758173, 0.6200066482697917, 0.6787801878373952),\n",
       " (0.6085255804707219, 0.7412795877319109, 0.7824000973141302),\n",
       " (0.786789799823862, 0.86255252719403, 0.8860200067908652),\n",
       " (0.95, 0.95, 0.95),\n",
       " (0.954577257933482, 0.7665309859226215, 0.7803256889894359),\n",
       " (0.9197182699854205, 0.5873587656270927, 0.6117400023569117),\n",
       " (0.884859282037359, 0.40818654533156384, 0.4431543157243877),\n",
       " (0.8510408608937171, 0.23436274952246883, 0.2796010376480583)]"
      ]
     },
     "execution_count": 72,
     "metadata": {},
     "output_type": "execute_result"
    }
   ],
   "source": [
    "sns.choose_diverging_palette()"
   ]
  },
  {
   "cell_type": "code",
   "execution_count": null,
   "id": "7db8656e-2aed-4aee-9b19-54fde217c3ea",
   "metadata": {},
   "outputs": [],
   "source": [
    "fig1,axs = plt.subplots(nrows=2,ncols=2,figsize=(15,15))\n",
    "\n",
    "axes = axs.flat\n",
    "\n",
    "ytick_labels = np.array([60,65,70,75,80,90])\n",
    "yticks = np.sin(np.pi*ytick_labels/180)\n",
    "\n",
    "xtick_labels = ['J','F','M','A','M','J','J','A','S','O','N','D','J']\n",
    "xticks = np.arange(1,13.01,1)\n",
    "\n",
    "# Set axis ticks accounting for area weighting\n",
    "for _ax in axes:\n",
    "    _ax.set_ylim(np.sin(np.pi/3),1)\n",
    "    _ax.set_yticks(yticks)\n",
    "    _ax.set_yticklabels(ytick_labels)\n",
    "    _ax.set_xticks(xticks)\n",
    "    _ax.set_xticklabels(xtick_labels)\n",
    "    \n",
    "lat_weighted0 = np.sin(np.pi/180*gisstemp_trends['lat'])\n",
    "im0 = axes[0].contourf(gisstemp_trends_wrapped['month'],lat_weighted0,gisstemp_trends_wrapped.transpose('lat','month'),\n",
    "                       cmap=palette,norm=MidpointNormalize(midpoint=0,vmin=-0.1,vmax=0.4))\n",
    "stip = axes[0].contourf(statsig_gisstemp_wrapped['month'],lat_weighted0,statsig_gisstemp_wrapped.transpose('lat','month'), colors='none',levels=[0,99,100],\n",
    "                        hatches=[None,'//'],extend='neither')\n",
    "axes[0].set_title('GISStemp Surface Temperature Trends',fontsize=14)\n",
    "plt.colorbar(im0,ax=axes[0],label='K/yr')\n",
    "\n",
    "lat_weighted1 = np.sin(np.pi/180*g10010_trends['lat'])\n",
    "im1 = axes[1].contourf(g10010_trends_wrapped['month'],lat_weighted1,g10010_trends_wrapped.transpose('lat','month'),\n",
    "                       cmap=palette,norm=MidpointNormalize(midpoint=0,vmin=-1.75,vmax=0.5))\n",
    "stip = axes[1].contourf(g10010_trends_wrapped['month'],lat_weighted1,statsig_g10010_wrapped.transpose('lat','month'), colors='none',levels=[0,95,100],\n",
    "                        hatches=[None,'//'],extend='neither')\n",
    "axes[1].set_title('Sea Ice concentration',fontsize=14)\n",
    "plt.colorbar(im1,ax=axes[1],label='%/yr')\n",
    "\n",
    "lat_weighted2 = np.sin(np.pi/180*asr_trends['lat'])\n",
    "im2 = axes[2].contourf(asr_trends_wrapped['month'],lat_weighted2,asr_trends_wrapped.transpose('lat','month'),\n",
    "                       cmap=palette,norm=MidpointNormalize(midpoint=0,vmin=-0.4,vmax=1.0))#,levels=np.arange(-1.0,1.01,0.2))\n",
    "stip = axes[2].contourf(statsig_asr_wrapped['month'],lat_weighted2,statsig_asr_wrapped.transpose('lat','month'), colors='none',levels=[0,95,100],\n",
    "                        hatches=[None,'//'],extend='neither')\n",
    "axes[2].set_title('CERES ASR Trend',fontsize=14)\n",
    "plt.colorbar(im2,ax=axes[2],label='Wm$^{-2}$yr$^{-1}$')\n",
    "\n",
    "lat_weighted3 = np.sin(np.pi/180*olr_trends['lat'])\n",
    "im3 = axes[3].contourf(olr_trends_wrapped['month'],lat_weighted3,olr_trends_wrapped.transpose('lat','month'),\n",
    "                       cmap=palette,norm=MidpointNormalize(midpoint=0,vmin=-0.2,vmax=0.5),levels=np.arange(-0.2,0.51,0.1))\n",
    "stip = axes[3].contourf(statsig_olr_wrapped['month'],lat_weighted3,statsig_olr_wrapped.transpose('lat','month'), colors='none',levels=[0,95,100],\n",
    "                        hatches=[None,'//'],extend='neither')\n",
    "axes[3].set_title('CERES OLR Trends',fontsize=14)\n",
    "plt.colorbar(im3,ax=axes[3],label='Wm$^{-2}$yr$^{-1}$')\n"
   ]
  },
  {
   "cell_type": "code",
   "execution_count": 45,
   "id": "b5e74362-052b-4c07-92dc-5e9e494972b0",
   "metadata": {},
   "outputs": [
    {
     "data": {
      "text/plain": [
       "<matplotlib.colorbar.Colorbar at 0x2ad1c529d450>"
      ]
     },
     "execution_count": 45,
     "metadata": {},
     "output_type": "execute_result"
    },
    {
     "data": {
      "image/png": "[encoded data removed]",
      "text/plain": [
       "<Figure size 1080x1080 with 8 Axes>"
      ]
     },
     "metadata": {
      "needs_background": "light"
     },
     "output_type": "display_data"
    }
   ],
   "source": [
    "fig1,axs = plt.subplots(nrows=2,ncols=2,figsize=(15,15))\n",
    "\n",
    "axes = axs.flat\n",
    "\n",
    "ytick_labels = np.array([60,65,70,75,80,90])\n",
    "yticks = np.sin(np.pi*ytick_labels/180)\n",
    "\n",
    "xtick_labels = ['J','F','M','A','M','J','J','A','S','O','N','D']\n",
    "xticks = np.arange(1,12.01,1)\n",
    "\n",
    "# Set axis ticks accounting for area weighting\n",
    "for _ax in axes:\n",
    "    _ax.set_ylim(np.sin(np.pi/3),1)\n",
    "    _ax.set_yticks(yticks)\n",
    "    _ax.set_yticklabels(ytick_labels)\n",
    "    _ax.set_xticks(xticks)\n",
    "    _ax.set_xticklabels(xtick_labels)\n",
    "    \n",
    "lat_weighted0 = np.sin(np.pi/180*gisstemp_trends['lat'])\n",
    "im0 = axes[0].contourf(gisstemp_trends['month'],lat_weighted0,gisstemp_trends.transpose('lat','month'),\n",
    "                       cmap=cmaps.ncl_default,norm=MidpointNormalize(midpoint=0,vmin=-0.1,vmax=0.4))\n",
    "stip = axes[0].contourf(statsig_gisstemp['month'],lat_weighted0,statsig_gisstemp.transpose('lat','month'), colors='none',levels=[0,95,100],\n",
    "                        hatches=[None,'//'],extend='neither')\n",
    "axes[0].set_title('GISStemp Surface Temperature Trends',fontsize=14)\n",
    "plt.colorbar(im0,ax=axes[0],label='K/yr')\n",
    "\n",
    "lat_weighted1 = np.sin(np.pi/180*g10010_trends['lat'])\n",
    "im1 = axes[1].contourf(g10010_trends['month'],lat_weighted1,g10010_trends.transpose('lat','month'),\n",
    "                       cmap=cmaps.ncl_default,norm=MidpointNormalize(midpoint=0,vmin=-1.75,vmax=0.5))\n",
    "stip = axes[1].contourf(g10010_trends['month'],lat_weighted1,statsig_g10010.transpose('lat','month'), colors='none',levels=[0,95,100],\n",
    "                        hatches=[None,'//'],extend='neither')\n",
    "axes[1].set_title('Sea Ice concentration (%/yr)',fontsize=14)\n",
    "plt.colorbar(im1,ax=axes[1],label='%/yr')\n",
    "\n",
    "lat_weighted2 = np.sin(np.pi/180*asr_trends['lat'])\n",
    "im2 = axes[2].contourf(asr_trends['month'],lat_weighted2,asr_trends.transpose('lat','month'),\n",
    "                       cmap=cmaps.ncl_default,norm=MidpointNormalize(midpoint=0,vmin=-0.4,vmax=1.0))#,levels=np.arange(-1.0,1.01,0.2))\n",
    "stip = axes[2].contourf(statsig_asr['month'],lat_weighted2,statsig_asr.transpose('lat','month'), colors='none',levels=[0,95,100],\n",
    "                        hatches=[None,'//'],extend='neither')\n",
    "axes[2].set_title('CERES ASR Trend',fontsize=14)\n",
    "plt.colorbar(im2,ax=axes[2],label='Wm$^{-2}$yr$^{-1}$')\n",
    "\n",
    "lat_weighted3 = np.sin(np.pi/180*olr_trends['lat'])\n",
    "im3 = axes[3].contourf(olr_trends['month'],lat_weighted3,olr_trends.transpose('lat','month'),\n",
    "                       cmap=cmaps.ncl_default,norm=MidpointNormalize(midpoint=0,vmin=-0.2,vmax=0.5),levels=np.arange(-0.2,0.51,0.1))\n",
    "stip = axes[3].contourf(statsig_olr['month'],lat_weighted3,statsig_olr.transpose('lat','month'), colors='none',levels=[0,95,100],\n",
    "                        hatches=[None,'//'],extend='neither')\n",
    "axes[3].set_title('CERES OLR Trends',fontsize=14)\n",
    "plt.colorbar(im3,ax=axes[3],label='Wm$^{-2}$yr$^{-1}$')\n"
   ]
  },
  {
   "cell_type": "code",
   "execution_count": null,
   "id": "75e51b1b-d160-49d5-8c90-e6d6b2ecaf75",
   "metadata": {},
   "outputs": [],
   "source": []
  }
 ],
 "metadata": {
  "kernelspec": {
   "display_name": "Python [conda env:miniconda3-cheycomp]",
   "language": "python",
   "name": "conda-env-miniconda3-cheycomp-py"
  },
  "language_info": {
   "codemirror_mode": {
    "name": "ipython",
    "version": 3
   },
   "file_extension": ".py",
   "mimetype": "text/x-python",
   "name": "python",
   "nbconvert_exporter": "python",
   "pygments_lexer": "ipython3",
   "version": "3.7.8"
  }
 },
 "nbformat": 4,
 "nbformat_minor": 5
}
