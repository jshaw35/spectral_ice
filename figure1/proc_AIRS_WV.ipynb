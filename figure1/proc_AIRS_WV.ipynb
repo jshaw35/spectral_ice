{
 "cells": [
  {
   "cell_type": "markdown",
   "id": "67349120-354e-4d44-8c1b-6f92b6f27958",
   "metadata": {},
   "source": [
    "# AIRS Water Vapor"
   ]
  },
  {
   "cell_type": "markdown",
   "id": "7b80b5e6-3cdb-4dd9-b340-de141cb2d96a",
   "metadata": {},
   "source": [
    "Read from retrievals and processed for comparison with CESM1-LE"
   ]
  },
  {
   "cell_type": "markdown",
   "id": "b6fd0e3f-d63c-40fb-8975-fac842cc4346",
   "metadata": {},
   "source": [
    "### Do imports"
   ]
  },
  {
   "cell_type": "code",
   "execution_count": 1,
   "id": "2ea49bd9-cf7f-40a9-bd80-7a3596c19123",
   "metadata": {},
   "outputs": [
    {
     "name": "stdout",
     "output_type": "stream",
     "text": [
      "The autoreload extension is already loaded. To reload it, use:\n",
      "  %reload_ext autoreload\n"
     ]
    }
   ],
   "source": [
    "import sys\n",
    "# Add common resources folder to path\n",
    "sys.path.append('/glade/u/home/jonahshaw/Scripts/git_repos/spectral_ice/')\n",
    "sys.path.append('/glade/u/home/jonahshaw/Scripts/git_repos/spectral_ice/Common/') # is this good or not good. I should reorg.\n",
    "# sys.path.append(\"/home/jonahks/git_repos/netcdf_analysis/Common/\")\n",
    "\n",
    "from imports import (\n",
    "    pd, np, xr, mpl, plt, sns, os, \n",
    "    datetime, gridspec, ccrs, \n",
    "    Iterable, cmaps, glob\n",
    "    )\n",
    "\n",
    "from functions import (\n",
    "    masked_average, add_weights, leap_year,\n",
    "    to_png, stats, MidpointNormalize, fix_cesm_time\n",
    "    )\n",
    "\n",
    "from collections import deque\n",
    "%matplotlib inline"
   ]
  },
  {
   "cell_type": "code",
   "execution_count": 2,
   "id": "3b2cfd72-944f-4c13-aa15-dc5acfe69371",
   "metadata": {},
   "outputs": [],
   "source": [
    "airs_dir = '/glade/work/jonahshaw/obs/AIRS/AIRS3STM_7.0/'"
   ]
  },
  {
   "cell_type": "code",
   "execution_count": 3,
   "id": "13c36f7d-c8bc-4ba6-8515-081f50c7ab1b",
   "metadata": {},
   "outputs": [],
   "source": [
    "airs_files = glob.glob('%s/*.nc4' % airs_dir)\n",
    "airs_files.sort()"
   ]
  },
  {
   "cell_type": "markdown",
   "id": "fbd0a5c1-45cf-47ba-8efa-555a21ba9bc1",
   "metadata": {},
   "source": [
    "### Add time coordinate to AIRS L3 files so that I can open later efficiently with open_mfdataset"
   ]
  },
  {
   "cell_type": "code",
   "execution_count": 39,
   "id": "defca9db-0518-4cff-9358-bcfd6c402bea",
   "metadata": {},
   "outputs": [
    {
     "name": "stdout",
     "output_type": "stream",
     "text": [
      "/glade/work/jonahshaw/obs/AIRS/AIRS3STM_7.0//time_added/AIRS.2002.09.01.L3.RetStd_IR030.v7.0.3.0.G20175163230.hdf.nc4\n",
      "/glade/work/jonahshaw/obs/AIRS/AIRS3STM_7.0//time_added/AIRS.2002.10.01.L3.RetStd_IR031.v7.0.3.0.G20218134003.hdf.nc4\n",
      "/glade/work/jonahshaw/obs/AIRS/AIRS3STM_7.0//time_added/AIRS.2002.11.01.L3.RetStd_IR030.v7.0.3.0.G20218133642.hdf.nc4\n",
      "/glade/work/jonahshaw/obs/AIRS/AIRS3STM_7.0//time_added/AIRS.2002.12.01.L3.RetStd_IR031.v7.0.3.0.G20218133629.hdf.nc4\n",
      "/glade/work/jonahshaw/obs/AIRS/AIRS3STM_7.0//time_added/AIRS.2003.01.01.L3.RetStd_IR031.v7.0.3.0.G20217173932.hdf.nc4\n",
      "/glade/work/jonahshaw/obs/AIRS/AIRS3STM_7.0//time_added/AIRS.2003.02.01.L3.RetStd_IR028.v7.0.3.0.G20217173600.hdf.nc4\n",
      "/glade/work/jonahshaw/obs/AIRS/AIRS3STM_7.0//time_added/AIRS.2003.03.01.L3.RetStd_IR031.v7.0.3.0.G20217173747.hdf.nc4\n",
      "/glade/work/jonahshaw/obs/AIRS/AIRS3STM_7.0//time_added/AIRS.2003.04.01.L3.RetStd_IR030.v7.0.3.0.G20174141813.hdf.nc4\n",
      "/glade/work/jonahshaw/obs/AIRS/AIRS3STM_7.0//time_added/AIRS.2003.05.01.L3.RetStd_IR031.v7.0.3.0.G20217183834.hdf.nc4\n",
      "/glade/work/jonahshaw/obs/AIRS/AIRS3STM_7.0//time_added/AIRS.2003.06.01.L3.RetStd_IR030.v7.0.3.0.G20171234211.hdf.nc4\n",
      "/glade/work/jonahshaw/obs/AIRS/AIRS3STM_7.0//time_added/AIRS.2003.07.01.L3.RetStd_IR031.v7.0.3.0.G20218101211.hdf.nc4\n",
      "/glade/work/jonahshaw/obs/AIRS/AIRS3STM_7.0//time_added/AIRS.2003.08.01.L3.RetStd_IR031.v7.0.3.0.G20218101222.hdf.nc4\n",
      "/glade/work/jonahshaw/obs/AIRS/AIRS3STM_7.0//time_added/AIRS.2003.09.01.L3.RetStd_IR030.v7.0.3.0.G20174225208.hdf.nc4\n",
      "/glade/work/jonahshaw/obs/AIRS/AIRS3STM_7.0//time_added/AIRS.2003.10.01.L3.RetStd_IR031.v7.0.3.0.G20218143612.hdf.nc4\n",
      "/glade/work/jonahshaw/obs/AIRS/AIRS3STM_7.0//time_added/AIRS.2003.11.01.L3.RetStd_IR030.v7.0.3.0.G20218143235.hdf.nc4\n",
      "/glade/work/jonahshaw/obs/AIRS/AIRS3STM_7.0//time_added/AIRS.2003.12.01.L3.RetStd_IR031.v7.0.3.0.G20218141731.hdf.nc4\n",
      "/glade/work/jonahshaw/obs/AIRS/AIRS3STM_7.0//time_added/AIRS.2004.01.01.L3.RetStd_IR031.v7.0.3.0.G20217160916.hdf.nc4\n",
      "/glade/work/jonahshaw/obs/AIRS/AIRS3STM_7.0//time_added/AIRS.2004.02.01.L3.RetStd_IR029.v7.0.3.0.G20217160823.hdf.nc4\n",
      "/glade/work/jonahshaw/obs/AIRS/AIRS3STM_7.0//time_added/AIRS.2004.03.01.L3.RetStd_IR031.v7.0.3.0.G20217160834.hdf.nc4\n",
      "/glade/work/jonahshaw/obs/AIRS/AIRS3STM_7.0//time_added/AIRS.2004.04.01.L3.RetStd_IR030.v7.0.3.0.G20170205834.hdf.nc4\n",
      "/glade/work/jonahshaw/obs/AIRS/AIRS3STM_7.0//time_added/AIRS.2004.05.01.L3.RetStd_IR031.v7.0.3.0.G20217190152.hdf.nc4\n",
      "/glade/work/jonahshaw/obs/AIRS/AIRS3STM_7.0//time_added/AIRS.2004.06.01.L3.RetStd_IR030.v7.0.3.0.G20170205702.hdf.nc4\n",
      "/glade/work/jonahshaw/obs/AIRS/AIRS3STM_7.0//time_added/AIRS.2004.07.01.L3.RetStd_IR031.v7.0.3.0.G20218055233.hdf.nc4\n",
      "/glade/work/jonahshaw/obs/AIRS/AIRS3STM_7.0//time_added/AIRS.2004.08.01.L3.RetStd_IR031.v7.0.3.0.G20218055212.hdf.nc4\n",
      "/glade/work/jonahshaw/obs/AIRS/AIRS3STM_7.0//time_added/AIRS.2004.09.01.L3.RetStd_IR030.v7.0.3.0.G20171084154.hdf.nc4\n",
      "/glade/work/jonahshaw/obs/AIRS/AIRS3STM_7.0//time_added/AIRS.2004.10.01.L3.RetStd_IR031.v7.0.3.0.G20218151014.hdf.nc4\n",
      "/glade/work/jonahshaw/obs/AIRS/AIRS3STM_7.0//time_added/AIRS.2004.11.01.L3.RetStd_IR030.v7.0.3.0.G20218150947.hdf.nc4\n",
      "/glade/work/jonahshaw/obs/AIRS/AIRS3STM_7.0//time_added/AIRS.2004.12.01.L3.RetStd_IR031.v7.0.3.0.G20218150945.hdf.nc4\n",
      "/glade/work/jonahshaw/obs/AIRS/AIRS3STM_7.0//time_added/AIRS.2005.01.01.L3.RetStd_IR031.v7.0.3.0.G20217151253.hdf.nc4\n",
      "/glade/work/jonahshaw/obs/AIRS/AIRS3STM_7.0//time_added/AIRS.2005.02.01.L3.RetStd_IR028.v7.0.3.0.G20217151152.hdf.nc4\n",
      "/glade/work/jonahshaw/obs/AIRS/AIRS3STM_7.0//time_added/AIRS.2005.03.01.L3.RetStd_IR031.v7.0.3.0.G20217151332.hdf.nc4\n",
      "/glade/work/jonahshaw/obs/AIRS/AIRS3STM_7.0//time_added/AIRS.2005.04.01.L3.RetStd_IR030.v7.0.3.0.G20168195630.hdf.nc4\n",
      "/glade/work/jonahshaw/obs/AIRS/AIRS3STM_7.0//time_added/AIRS.2005.05.01.L3.RetStd_IR031.v7.0.3.0.G20217191300.hdf.nc4\n",
      "/glade/work/jonahshaw/obs/AIRS/AIRS3STM_7.0//time_added/AIRS.2005.06.01.L3.RetStd_IR030.v7.0.3.0.G20168195622.hdf.nc4\n",
      "/glade/work/jonahshaw/obs/AIRS/AIRS3STM_7.0//time_added/AIRS.2005.07.01.L3.RetStd_IR031.v7.0.3.0.G20218051720.hdf.nc4\n",
      "/glade/work/jonahshaw/obs/AIRS/AIRS3STM_7.0//time_added/AIRS.2005.08.01.L3.RetStd_IR031.v7.0.3.0.G20218051716.hdf.nc4\n",
      "/glade/work/jonahshaw/obs/AIRS/AIRS3STM_7.0//time_added/AIRS.2005.09.01.L3.RetStd_IR030.v7.0.3.0.G20169045526.hdf.nc4\n",
      "/glade/work/jonahshaw/obs/AIRS/AIRS3STM_7.0//time_added/AIRS.2005.10.01.L3.RetStd_IR031.v7.0.3.0.G20218172530.hdf.nc4\n",
      "/glade/work/jonahshaw/obs/AIRS/AIRS3STM_7.0//time_added/AIRS.2005.11.01.L3.RetStd_IR030.v7.0.3.0.G20218172439.hdf.nc4\n",
      "/glade/work/jonahshaw/obs/AIRS/AIRS3STM_7.0//time_added/AIRS.2005.12.01.L3.RetStd_IR031.v7.0.3.0.G20218172530.hdf.nc4\n",
      "/glade/work/jonahshaw/obs/AIRS/AIRS3STM_7.0//time_added/AIRS.2006.01.01.L3.RetStd_IR031.v7.0.3.0.G20217143806.hdf.nc4\n",
      "/glade/work/jonahshaw/obs/AIRS/AIRS3STM_7.0//time_added/AIRS.2006.02.01.L3.RetStd_IR028.v7.0.3.0.G20217143656.hdf.nc4\n",
      "/glade/work/jonahshaw/obs/AIRS/AIRS3STM_7.0//time_added/AIRS.2006.03.01.L3.RetStd_IR031.v7.0.3.0.G20217143747.hdf.nc4\n",
      "/glade/work/jonahshaw/obs/AIRS/AIRS3STM_7.0//time_added/AIRS.2006.04.01.L3.RetStd_IR030.v7.0.3.0.G20166100852.hdf.nc4\n",
      "/glade/work/jonahshaw/obs/AIRS/AIRS3STM_7.0//time_added/AIRS.2006.05.01.L3.RetStd_IR031.v7.0.3.0.G20217194224.hdf.nc4\n",
      "/glade/work/jonahshaw/obs/AIRS/AIRS3STM_7.0//time_added/AIRS.2006.06.01.L3.RetStd_IR030.v7.0.3.0.G20166101419.hdf.nc4\n",
      "/glade/work/jonahshaw/obs/AIRS/AIRS3STM_7.0//time_added/AIRS.2006.07.01.L3.RetStd_IR031.v7.0.3.0.G20218044441.hdf.nc4\n",
      "/glade/work/jonahshaw/obs/AIRS/AIRS3STM_7.0//time_added/AIRS.2006.08.01.L3.RetStd_IR031.v7.0.3.0.G20218044441.hdf.nc4\n",
      "/glade/work/jonahshaw/obs/AIRS/AIRS3STM_7.0//time_added/AIRS.2006.09.01.L3.RetStd_IR030.v7.0.3.0.G20167155918.hdf.nc4\n",
      "/glade/work/jonahshaw/obs/AIRS/AIRS3STM_7.0//time_added/AIRS.2006.10.01.L3.RetStd_IR031.v7.0.3.0.G20218183622.hdf.nc4\n",
      "/glade/work/jonahshaw/obs/AIRS/AIRS3STM_7.0//time_added/AIRS.2006.11.01.L3.RetStd_IR030.v7.0.3.0.G20218183538.hdf.nc4\n",
      "/glade/work/jonahshaw/obs/AIRS/AIRS3STM_7.0//time_added/AIRS.2006.12.01.L3.RetStd_IR031.v7.0.3.0.G20218183602.hdf.nc4\n",
      "/glade/work/jonahshaw/obs/AIRS/AIRS3STM_7.0//time_added/AIRS.2007.01.01.L3.RetStd_IR031.v7.0.3.0.G20217122949.hdf.nc4\n",
      "/glade/work/jonahshaw/obs/AIRS/AIRS3STM_7.0//time_added/AIRS.2007.02.01.L3.RetStd_IR028.v7.0.3.0.G20217122914.hdf.nc4\n",
      "/glade/work/jonahshaw/obs/AIRS/AIRS3STM_7.0//time_added/AIRS.2007.03.01.L3.RetStd_IR031.v7.0.3.0.G20217123002.hdf.nc4\n",
      "/glade/work/jonahshaw/obs/AIRS/AIRS3STM_7.0//time_added/AIRS.2007.04.01.L3.RetStd_IR030.v7.0.3.0.G20164143558.hdf.nc4\n",
      "/glade/work/jonahshaw/obs/AIRS/AIRS3STM_7.0//time_added/AIRS.2007.05.01.L3.RetStd_IR031.v7.0.3.0.G20217195230.hdf.nc4\n",
      "/glade/work/jonahshaw/obs/AIRS/AIRS3STM_7.0//time_added/AIRS.2007.06.01.L3.RetStd_IR030.v7.0.3.0.G20164142551.hdf.nc4\n",
      "/glade/work/jonahshaw/obs/AIRS/AIRS3STM_7.0//time_added/AIRS.2007.07.01.L3.RetStd_IR031.v7.0.3.0.G20218040125.hdf.nc4\n",
      "/glade/work/jonahshaw/obs/AIRS/AIRS3STM_7.0//time_added/AIRS.2007.08.01.L3.RetStd_IR031.v7.0.3.0.G20218040114.hdf.nc4\n",
      "/glade/work/jonahshaw/obs/AIRS/AIRS3STM_7.0//time_added/AIRS.2007.09.01.L3.RetStd_IR030.v7.0.3.0.G20165001212.hdf.nc4\n",
      "/glade/work/jonahshaw/obs/AIRS/AIRS3STM_7.0//time_added/AIRS.2007.10.01.L3.RetStd_IR031.v7.0.3.0.G20218191541.hdf.nc4\n",
      "/glade/work/jonahshaw/obs/AIRS/AIRS3STM_7.0//time_added/AIRS.2007.11.01.L3.RetStd_IR030.v7.0.3.0.G20218191516.hdf.nc4\n",
      "/glade/work/jonahshaw/obs/AIRS/AIRS3STM_7.0//time_added/AIRS.2007.12.01.L3.RetStd_IR031.v7.0.3.0.G20218191539.hdf.nc4\n",
      "/glade/work/jonahshaw/obs/AIRS/AIRS3STM_7.0//time_added/AIRS.2008.01.01.L3.RetStd_IR031.v7.0.3.0.G20217115340.hdf.nc4\n",
      "/glade/work/jonahshaw/obs/AIRS/AIRS3STM_7.0//time_added/AIRS.2008.02.01.L3.RetStd_IR029.v7.0.3.0.G20217115326.hdf.nc4\n",
      "/glade/work/jonahshaw/obs/AIRS/AIRS3STM_7.0//time_added/AIRS.2008.03.01.L3.RetStd_IR031.v7.0.3.0.G20217115406.hdf.nc4\n",
      "/glade/work/jonahshaw/obs/AIRS/AIRS3STM_7.0//time_added/AIRS.2008.04.01.L3.RetStd_IR030.v7.0.3.0.G20162230941.hdf.nc4\n",
      "/glade/work/jonahshaw/obs/AIRS/AIRS3STM_7.0//time_added/AIRS.2008.05.01.L3.RetStd_IR031.v7.0.3.0.G20217195951.hdf.nc4\n",
      "/glade/work/jonahshaw/obs/AIRS/AIRS3STM_7.0//time_added/AIRS.2008.06.01.L3.RetStd_IR030.v7.0.3.0.G20162232831.hdf.nc4\n",
      "/glade/work/jonahshaw/obs/AIRS/AIRS3STM_7.0//time_added/AIRS.2008.07.01.L3.RetStd_IR031.v7.0.3.0.G20218033155.hdf.nc4\n",
      "/glade/work/jonahshaw/obs/AIRS/AIRS3STM_7.0//time_added/AIRS.2008.08.01.L3.RetStd_IR031.v7.0.3.0.G20218033201.hdf.nc4\n",
      "/glade/work/jonahshaw/obs/AIRS/AIRS3STM_7.0//time_added/AIRS.2008.09.01.L3.RetStd_IR030.v7.0.3.0.G20163154546.hdf.nc4\n",
      "/glade/work/jonahshaw/obs/AIRS/AIRS3STM_7.0//time_added/AIRS.2008.10.01.L3.RetStd_IR031.v7.0.3.0.G20218200031.hdf.nc4\n",
      "/glade/work/jonahshaw/obs/AIRS/AIRS3STM_7.0//time_added/AIRS.2008.11.01.L3.RetStd_IR030.v7.0.3.0.G20218200007.hdf.nc4\n",
      "/glade/work/jonahshaw/obs/AIRS/AIRS3STM_7.0//time_added/AIRS.2008.12.01.L3.RetStd_IR031.v7.0.3.0.G20218200034.hdf.nc4\n",
      "/glade/work/jonahshaw/obs/AIRS/AIRS3STM_7.0//time_added/AIRS.2009.01.01.L3.RetStd_IR031.v7.0.3.0.G20217111540.hdf.nc4\n",
      "/glade/work/jonahshaw/obs/AIRS/AIRS3STM_7.0//time_added/AIRS.2009.02.01.L3.RetStd_IR028.v7.0.3.0.G20217111623.hdf.nc4\n",
      "/glade/work/jonahshaw/obs/AIRS/AIRS3STM_7.0//time_added/AIRS.2009.03.01.L3.RetStd_IR031.v7.0.3.0.G20217111517.hdf.nc4\n",
      "/glade/work/jonahshaw/obs/AIRS/AIRS3STM_7.0//time_added/AIRS.2009.04.01.L3.RetStd_IR030.v7.0.3.0.G20160154619.hdf.nc4\n",
      "/glade/work/jonahshaw/obs/AIRS/AIRS3STM_7.0//time_added/AIRS.2009.05.01.L3.RetStd_IR031.v7.0.3.0.G20217202848.hdf.nc4\n",
      "/glade/work/jonahshaw/obs/AIRS/AIRS3STM_7.0//time_added/AIRS.2009.06.01.L3.RetStd_IR030.v7.0.3.0.G20160154558.hdf.nc4\n",
      "/glade/work/jonahshaw/obs/AIRS/AIRS3STM_7.0//time_added/AIRS.2009.07.01.L3.RetStd_IR031.v7.0.3.0.G20218025908.hdf.nc4\n",
      "/glade/work/jonahshaw/obs/AIRS/AIRS3STM_7.0//time_added/AIRS.2009.08.01.L3.RetStd_IR031.v7.0.3.0.G20218025908.hdf.nc4\n",
      "/glade/work/jonahshaw/obs/AIRS/AIRS3STM_7.0//time_added/AIRS.2009.09.01.L3.RetStd_IR030.v7.0.3.0.G20162103634.hdf.nc4\n",
      "/glade/work/jonahshaw/obs/AIRS/AIRS3STM_7.0//time_added/AIRS.2009.10.01.L3.RetStd_IR031.v7.0.3.0.G20218213528.hdf.nc4\n",
      "/glade/work/jonahshaw/obs/AIRS/AIRS3STM_7.0//time_added/AIRS.2009.11.01.L3.RetStd_IR030.v7.0.3.0.G20218213453.hdf.nc4\n",
      "/glade/work/jonahshaw/obs/AIRS/AIRS3STM_7.0//time_added/AIRS.2009.12.01.L3.RetStd_IR031.v7.0.3.0.G20218213525.hdf.nc4\n",
      "/glade/work/jonahshaw/obs/AIRS/AIRS3STM_7.0//time_added/AIRS.2010.01.01.L3.RetStd_IR031.v7.0.3.0.G20217101104.hdf.nc4\n",
      "/glade/work/jonahshaw/obs/AIRS/AIRS3STM_7.0//time_added/AIRS.2010.02.01.L3.RetStd_IR028.v7.0.3.0.G20216232946.hdf.nc4\n",
      "/glade/work/jonahshaw/obs/AIRS/AIRS3STM_7.0//time_added/AIRS.2010.03.01.L3.RetStd_IR031.v7.0.3.0.G20216233029.hdf.nc4\n",
      "/glade/work/jonahshaw/obs/AIRS/AIRS3STM_7.0//time_added/AIRS.2010.04.01.L3.RetStd_IR030.v7.0.3.0.G20158163427.hdf.nc4\n",
      "/glade/work/jonahshaw/obs/AIRS/AIRS3STM_7.0//time_added/AIRS.2010.05.01.L3.RetStd_IR031.v7.0.3.0.G20217203412.hdf.nc4\n",
      "/glade/work/jonahshaw/obs/AIRS/AIRS3STM_7.0//time_added/AIRS.2010.06.01.L3.RetStd_IR030.v7.0.3.0.G20206221012.hdf.nc4\n",
      "/glade/work/jonahshaw/obs/AIRS/AIRS3STM_7.0//time_added/AIRS.2010.07.01.L3.RetStd_IR031.v7.0.3.0.G20218022913.hdf.nc4\n",
      "/glade/work/jonahshaw/obs/AIRS/AIRS3STM_7.0//time_added/AIRS.2010.08.01.L3.RetStd_IR031.v7.0.3.0.G20218022849.hdf.nc4\n",
      "/glade/work/jonahshaw/obs/AIRS/AIRS3STM_7.0//time_added/AIRS.2010.09.01.L3.RetStd_IR030.v7.0.3.0.G20160020959.hdf.nc4\n",
      "/glade/work/jonahshaw/obs/AIRS/AIRS3STM_7.0//time_added/AIRS.2010.10.01.L3.RetStd_IR031.v7.0.3.0.G20218222513.hdf.nc4\n",
      "/glade/work/jonahshaw/obs/AIRS/AIRS3STM_7.0//time_added/AIRS.2010.11.01.L3.RetStd_IR030.v7.0.3.0.G20218222446.hdf.nc4\n",
      "/glade/work/jonahshaw/obs/AIRS/AIRS3STM_7.0//time_added/AIRS.2010.12.01.L3.RetStd_IR031.v7.0.3.0.G20218222456.hdf.nc4\n",
      "/glade/work/jonahshaw/obs/AIRS/AIRS3STM_7.0//time_added/AIRS.2011.01.01.L3.RetStd_IR031.v7.0.3.0.G20216223223.hdf.nc4\n",
      "/glade/work/jonahshaw/obs/AIRS/AIRS3STM_7.0//time_added/AIRS.2011.02.01.L3.RetStd_IR028.v7.0.3.0.G20216223221.hdf.nc4\n",
      "/glade/work/jonahshaw/obs/AIRS/AIRS3STM_7.0//time_added/AIRS.2011.03.01.L3.RetStd_IR031.v7.0.3.0.G20216223309.hdf.nc4\n",
      "/glade/work/jonahshaw/obs/AIRS/AIRS3STM_7.0//time_added/AIRS.2011.04.01.L3.RetStd_IR030.v7.0.3.0.G20156221721.hdf.nc4\n",
      "/glade/work/jonahshaw/obs/AIRS/AIRS3STM_7.0//time_added/AIRS.2011.05.01.L3.RetStd_IR031.v7.0.3.0.G20217205135.hdf.nc4\n",
      "/glade/work/jonahshaw/obs/AIRS/AIRS3STM_7.0//time_added/AIRS.2011.06.01.L3.RetStd_IR030.v7.0.3.0.G20157140604.hdf.nc4\n",
      "/glade/work/jonahshaw/obs/AIRS/AIRS3STM_7.0//time_added/AIRS.2011.07.01.L3.RetStd_IR031.v7.0.3.0.G20218014449.hdf.nc4\n",
      "/glade/work/jonahshaw/obs/AIRS/AIRS3STM_7.0//time_added/AIRS.2011.08.01.L3.RetStd_IR031.v7.0.3.0.G20218014444.hdf.nc4\n",
      "/glade/work/jonahshaw/obs/AIRS/AIRS3STM_7.0//time_added/AIRS.2011.09.01.L3.RetStd_IR030.v7.0.3.0.G20157234554.hdf.nc4\n",
      "/glade/work/jonahshaw/obs/AIRS/AIRS3STM_7.0//time_added/AIRS.2011.10.01.L3.RetStd_IR031.v7.0.3.0.G20218230651.hdf.nc4\n",
      "/glade/work/jonahshaw/obs/AIRS/AIRS3STM_7.0//time_added/AIRS.2011.11.01.L3.RetStd_IR030.v7.0.3.0.G20218230616.hdf.nc4\n",
      "/glade/work/jonahshaw/obs/AIRS/AIRS3STM_7.0//time_added/AIRS.2011.12.01.L3.RetStd_IR031.v7.0.3.0.G20218230629.hdf.nc4\n",
      "/glade/work/jonahshaw/obs/AIRS/AIRS3STM_7.0//time_added/AIRS.2012.01.01.L3.RetStd_IR031.v7.0.3.0.G20216205950.hdf.nc4\n",
      "/glade/work/jonahshaw/obs/AIRS/AIRS3STM_7.0//time_added/AIRS.2012.02.01.L3.RetStd_IR029.v7.0.3.0.G20216205957.hdf.nc4\n",
      "/glade/work/jonahshaw/obs/AIRS/AIRS3STM_7.0//time_added/AIRS.2012.03.01.L3.RetStd_IR031.v7.0.3.0.G20216210256.hdf.nc4\n",
      "/glade/work/jonahshaw/obs/AIRS/AIRS3STM_7.0//time_added/AIRS.2012.04.01.L3.RetStd_IR030.v7.0.3.0.G20154173152.hdf.nc4\n",
      "/glade/work/jonahshaw/obs/AIRS/AIRS3STM_7.0//time_added/AIRS.2012.05.01.L3.RetStd_IR031.v7.0.3.0.G20217211941.hdf.nc4\n",
      "/glade/work/jonahshaw/obs/AIRS/AIRS3STM_7.0//time_added/AIRS.2012.06.01.L3.RetStd_IR030.v7.0.3.0.G20155151410.hdf.nc4\n",
      "/glade/work/jonahshaw/obs/AIRS/AIRS3STM_7.0//time_added/AIRS.2012.07.01.L3.RetStd_IR031.v7.0.3.0.G20218011424.hdf.nc4\n",
      "/glade/work/jonahshaw/obs/AIRS/AIRS3STM_7.0//time_added/AIRS.2012.08.01.L3.RetStd_IR031.v7.0.3.0.G20218011249.hdf.nc4\n",
      "/glade/work/jonahshaw/obs/AIRS/AIRS3STM_7.0//time_added/AIRS.2012.09.01.L3.RetStd_IR030.v7.0.3.0.G20156010652.hdf.nc4\n",
      "/glade/work/jonahshaw/obs/AIRS/AIRS3STM_7.0//time_added/AIRS.2012.10.01.L3.RetStd_IR031.v7.0.3.0.G20219081951.hdf.nc4\n",
      "/glade/work/jonahshaw/obs/AIRS/AIRS3STM_7.0//time_added/AIRS.2012.11.01.L3.RetStd_IR030.v7.0.3.0.G20219081930.hdf.nc4\n",
      "/glade/work/jonahshaw/obs/AIRS/AIRS3STM_7.0//time_added/AIRS.2012.12.01.L3.RetStd_IR031.v7.0.3.0.G20219082125.hdf.nc4\n",
      "/glade/work/jonahshaw/obs/AIRS/AIRS3STM_7.0//time_added/AIRS.2013.01.01.L3.RetStd_IR031.v7.0.3.0.G20216182809.hdf.nc4\n",
      "/glade/work/jonahshaw/obs/AIRS/AIRS3STM_7.0//time_added/AIRS.2013.02.01.L3.RetStd_IR028.v7.0.3.0.G20216190815.hdf.nc4\n",
      "/glade/work/jonahshaw/obs/AIRS/AIRS3STM_7.0//time_added/AIRS.2013.03.01.L3.RetStd_IR031.v7.0.3.0.G20216172718.hdf.nc4\n",
      "/glade/work/jonahshaw/obs/AIRS/AIRS3STM_7.0//time_added/AIRS.2013.04.01.L3.RetStd_IR030.v7.0.3.0.G20151162536.hdf.nc4\n",
      "/glade/work/jonahshaw/obs/AIRS/AIRS3STM_7.0//time_added/AIRS.2013.05.01.L3.RetStd_IR031.v7.0.3.0.G20217213819.hdf.nc4\n",
      "/glade/work/jonahshaw/obs/AIRS/AIRS3STM_7.0//time_added/AIRS.2013.06.01.L3.RetStd_IR030.v7.0.3.0.G20151191619.hdf.nc4\n",
      "/glade/work/jonahshaw/obs/AIRS/AIRS3STM_7.0//time_added/AIRS.2013.07.01.L3.RetStd_IR031.v7.0.3.0.G20218004003.hdf.nc4\n",
      "/glade/work/jonahshaw/obs/AIRS/AIRS3STM_7.0//time_added/AIRS.2013.08.01.L3.RetStd_IR031.v7.0.3.0.G20218003902.hdf.nc4\n",
      "/glade/work/jonahshaw/obs/AIRS/AIRS3STM_7.0//time_added/AIRS.2013.09.01.L3.RetStd_IR030.v7.0.3.0.G20151222748.hdf.nc4\n",
      "/glade/work/jonahshaw/obs/AIRS/AIRS3STM_7.0//time_added/AIRS.2013.10.01.L3.RetStd_IR031.v7.0.3.0.G20219093746.hdf.nc4\n",
      "/glade/work/jonahshaw/obs/AIRS/AIRS3STM_7.0//time_added/AIRS.2013.11.01.L3.RetStd_IR030.v7.0.3.0.G20219093712.hdf.nc4\n",
      "/glade/work/jonahshaw/obs/AIRS/AIRS3STM_7.0//time_added/AIRS.2013.12.01.L3.RetStd_IR031.v7.0.3.0.G20219093756.hdf.nc4\n",
      "/glade/work/jonahshaw/obs/AIRS/AIRS3STM_7.0//time_added/AIRS.2014.01.01.L3.RetStd_IR031.v7.0.3.0.G20216152827.hdf.nc4\n",
      "/glade/work/jonahshaw/obs/AIRS/AIRS3STM_7.0//time_added/AIRS.2014.02.01.L3.RetStd_IR028.v7.0.3.0.G20216160358.hdf.nc4\n",
      "/glade/work/jonahshaw/obs/AIRS/AIRS3STM_7.0//time_added/AIRS.2014.03.01.L3.RetStd_IR031.v7.0.3.0.G20216155437.hdf.nc4\n",
      "/glade/work/jonahshaw/obs/AIRS/AIRS3STM_7.0//time_added/AIRS.2014.04.01.L3.RetStd_IR030.v7.0.3.0.G20150172850.hdf.nc4\n",
      "/glade/work/jonahshaw/obs/AIRS/AIRS3STM_7.0//time_added/AIRS.2014.05.01.L3.RetStd_IR031.v7.0.3.0.G20217214820.hdf.nc4\n",
      "/glade/work/jonahshaw/obs/AIRS/AIRS3STM_7.0//time_added/AIRS.2014.06.01.L3.RetStd_IR030.v7.0.3.0.G20150181911.hdf.nc4\n",
      "/glade/work/jonahshaw/obs/AIRS/AIRS3STM_7.0//time_added/AIRS.2014.07.01.L3.RetStd_IR031.v7.0.3.0.G20218000238.hdf.nc4\n",
      "/glade/work/jonahshaw/obs/AIRS/AIRS3STM_7.0//time_added/AIRS.2014.08.01.L3.RetStd_IR031.v7.0.3.0.G20218000145.hdf.nc4\n",
      "/glade/work/jonahshaw/obs/AIRS/AIRS3STM_7.0//time_added/AIRS.2014.09.01.L3.RetStd_IR030.v7.0.3.0.G20150182350.hdf.nc4\n",
      "/glade/work/jonahshaw/obs/AIRS/AIRS3STM_7.0//time_added/AIRS.2014.10.01.L3.RetStd_IR031.v7.0.3.0.G20219122721.hdf.nc4\n",
      "/glade/work/jonahshaw/obs/AIRS/AIRS3STM_7.0//time_added/AIRS.2014.11.01.L3.RetStd_IR030.v7.0.3.0.G20219122940.hdf.nc4\n",
      "/glade/work/jonahshaw/obs/AIRS/AIRS3STM_7.0//time_added/AIRS.2014.12.01.L3.RetStd_IR031.v7.0.3.0.G20219123127.hdf.nc4\n",
      "/glade/work/jonahshaw/obs/AIRS/AIRS3STM_7.0//time_added/AIRS.2015.01.01.L3.RetStd_IR031.v7.0.3.0.G20216142144.hdf.nc4\n",
      "/glade/work/jonahshaw/obs/AIRS/AIRS3STM_7.0//time_added/AIRS.2015.02.01.L3.RetStd_IR028.v7.0.3.0.G20216142207.hdf.nc4\n",
      "/glade/work/jonahshaw/obs/AIRS/AIRS3STM_7.0//time_added/AIRS.2015.03.01.L3.RetStd_IR031.v7.0.3.0.G20216143940.hdf.nc4\n",
      "/glade/work/jonahshaw/obs/AIRS/AIRS3STM_7.0//time_added/AIRS.2015.04.01.L3.RetStd_IR030.v7.0.3.0.G20149223835.hdf.nc4\n",
      "/glade/work/jonahshaw/obs/AIRS/AIRS3STM_7.0//time_added/AIRS.2015.05.01.L3.RetStd_IR031.v7.0.3.0.G20217221345.hdf.nc4\n",
      "/glade/work/jonahshaw/obs/AIRS/AIRS3STM_7.0//time_added/AIRS.2015.06.01.L3.RetStd_IR030.v7.0.3.0.G20149233601.hdf.nc4\n",
      "/glade/work/jonahshaw/obs/AIRS/AIRS3STM_7.0//time_added/AIRS.2015.07.01.L3.RetStd_IR031.v7.0.3.0.G20217232819.hdf.nc4\n",
      "/glade/work/jonahshaw/obs/AIRS/AIRS3STM_7.0//time_added/AIRS.2015.08.01.L3.RetStd_IR031.v7.0.3.0.G20217232731.hdf.nc4\n",
      "/glade/work/jonahshaw/obs/AIRS/AIRS3STM_7.0//time_added/AIRS.2015.09.01.L3.RetStd_IR030.v7.0.3.0.G20150114542.hdf.nc4\n",
      "/glade/work/jonahshaw/obs/AIRS/AIRS3STM_7.0//time_added/AIRS.2015.10.01.L3.RetStd_IR031.v7.0.3.0.G20219132644.hdf.nc4\n",
      "/glade/work/jonahshaw/obs/AIRS/AIRS3STM_7.0//time_added/AIRS.2015.11.01.L3.RetStd_IR030.v7.0.3.0.G20219133113.hdf.nc4\n",
      "/glade/work/jonahshaw/obs/AIRS/AIRS3STM_7.0//time_added/AIRS.2015.12.01.L3.RetStd_IR031.v7.0.3.0.G20219133045.hdf.nc4\n",
      "/glade/work/jonahshaw/obs/AIRS/AIRS3STM_7.0//time_added/AIRS.2016.01.01.L3.RetStd_IR031.v7.0.3.0.G20216131410.hdf.nc4\n",
      "/glade/work/jonahshaw/obs/AIRS/AIRS3STM_7.0//time_added/AIRS.2016.02.01.L3.RetStd_IR029.v7.0.3.0.G20216131336.hdf.nc4\n",
      "/glade/work/jonahshaw/obs/AIRS/AIRS3STM_7.0//time_added/AIRS.2016.03.01.L3.RetStd_IR031.v7.0.3.0.G20216130336.hdf.nc4\n",
      "/glade/work/jonahshaw/obs/AIRS/AIRS3STM_7.0//time_added/AIRS.2016.04.01.L3.RetStd_IR030.v7.0.3.0.G20149150223.hdf.nc4\n",
      "/glade/work/jonahshaw/obs/AIRS/AIRS3STM_7.0//time_added/AIRS.2016.05.01.L3.RetStd_IR031.v7.0.3.0.G20217221848.hdf.nc4\n",
      "/glade/work/jonahshaw/obs/AIRS/AIRS3STM_7.0//time_added/AIRS.2016.06.01.L3.RetStd_IR030.v7.0.3.0.G20149153151.hdf.nc4\n",
      "/glade/work/jonahshaw/obs/AIRS/AIRS3STM_7.0//time_added/AIRS.2016.07.01.L3.RetStd_IR031.v7.0.3.0.G20217230036.hdf.nc4\n",
      "/glade/work/jonahshaw/obs/AIRS/AIRS3STM_7.0//time_added/AIRS.2016.08.01.L3.RetStd_IR031.v7.0.3.0.G20217225951.hdf.nc4\n",
      "/glade/work/jonahshaw/obs/AIRS/AIRS3STM_7.0//time_added/AIRS.2016.09.01.L3.RetStd_IR030.v7.0.3.0.G20149194700.hdf.nc4\n",
      "/glade/work/jonahshaw/obs/AIRS/AIRS3STM_7.0//time_added/AIRS.2016.10.01.L3.RetStd_IR031.v7.0.3.0.G20219142040.hdf.nc4\n",
      "/glade/work/jonahshaw/obs/AIRS/AIRS3STM_7.0//time_added/AIRS.2016.11.01.L3.RetStd_IR030.v7.0.3.0.G20219141905.hdf.nc4\n",
      "/glade/work/jonahshaw/obs/AIRS/AIRS3STM_7.0//time_added/AIRS.2016.12.01.L3.RetStd_IR031.v7.0.3.0.G20219141944.hdf.nc4\n",
      "/glade/work/jonahshaw/obs/AIRS/AIRS3STM_7.0//time_added/AIRS.2017.01.01.L3.RetStd_IR031.v7.0.3.0.G20210132836.hdf.nc4\n",
      "/glade/work/jonahshaw/obs/AIRS/AIRS3STM_7.0//time_added/AIRS.2017.02.01.L3.RetStd_IR028.v7.0.3.0.G20210183109.hdf.nc4\n",
      "/glade/work/jonahshaw/obs/AIRS/AIRS3STM_7.0//time_added/AIRS.2017.03.01.L3.RetStd_IR031.v7.0.3.0.G20210124514.hdf.nc4\n",
      "/glade/work/jonahshaw/obs/AIRS/AIRS3STM_7.0//time_added/AIRS.2017.04.01.L3.RetStd_IR030.v7.0.3.0.G20147145829.hdf.nc4\n",
      "/glade/work/jonahshaw/obs/AIRS/AIRS3STM_7.0//time_added/AIRS.2017.05.01.L3.RetStd_IR031.v7.0.3.0.G20210130731.hdf.nc4\n",
      "/glade/work/jonahshaw/obs/AIRS/AIRS3STM_7.0//time_added/AIRS.2017.06.01.L3.RetStd_IR030.v7.0.3.0.G20147175430.hdf.nc4\n",
      "/glade/work/jonahshaw/obs/AIRS/AIRS3STM_7.0//time_added/AIRS.2017.07.01.L3.RetStd_IR031.v7.0.3.0.G20210125334.hdf.nc4\n",
      "/glade/work/jonahshaw/obs/AIRS/AIRS3STM_7.0//time_added/AIRS.2017.08.01.L3.RetStd_IR031.v7.0.3.0.G20210143911.hdf.nc4\n",
      "/glade/work/jonahshaw/obs/AIRS/AIRS3STM_7.0//time_added/AIRS.2017.09.01.L3.RetStd_IR030.v7.0.3.0.G20148113633.hdf.nc4\n",
      "/glade/work/jonahshaw/obs/AIRS/AIRS3STM_7.0//time_added/AIRS.2017.10.01.L3.RetStd_IR031.v7.0.3.0.G20210183156.hdf.nc4\n",
      "/glade/work/jonahshaw/obs/AIRS/AIRS3STM_7.0//time_added/AIRS.2017.11.01.L3.RetStd_IR030.v7.0.3.0.G20148184117.hdf.nc4\n",
      "/glade/work/jonahshaw/obs/AIRS/AIRS3STM_7.0//time_added/AIRS.2017.12.01.L3.RetStd_IR031.v7.0.3.0.G20210144614.hdf.nc4\n",
      "/glade/work/jonahshaw/obs/AIRS/AIRS3STM_7.0//time_added/AIRS.2018.01.01.L3.RetStd_IR031.v7.0.3.0.G20210105410.hdf.nc4\n",
      "/glade/work/jonahshaw/obs/AIRS/AIRS3STM_7.0//time_added/AIRS.2018.02.01.L3.RetStd_IR028.v7.0.3.0.G20210105314.hdf.nc4\n",
      "/glade/work/jonahshaw/obs/AIRS/AIRS3STM_7.0//time_added/AIRS.2018.03.01.L3.RetStd_IR031.v7.0.3.0.G20210105516.hdf.nc4\n",
      "/glade/work/jonahshaw/obs/AIRS/AIRS3STM_7.0//time_added/AIRS.2018.04.01.L3.RetStd_IR030.v7.0.3.0.G20144174705.hdf.nc4\n",
      "/glade/work/jonahshaw/obs/AIRS/AIRS3STM_7.0//time_added/AIRS.2018.05.01.L3.RetStd_IR031.v7.0.3.0.G20210105413.hdf.nc4\n",
      "/glade/work/jonahshaw/obs/AIRS/AIRS3STM_7.0//time_added/AIRS.2018.06.01.L3.RetStd_IR030.v7.0.3.0.G20144180915.hdf.nc4\n",
      "/glade/work/jonahshaw/obs/AIRS/AIRS3STM_7.0//time_added/AIRS.2018.07.01.L3.RetStd_IR031.v7.0.3.0.G20210105349.hdf.nc4\n",
      "/glade/work/jonahshaw/obs/AIRS/AIRS3STM_7.0//time_added/AIRS.2018.08.01.L3.RetStd_IR031.v7.0.3.0.G20210105541.hdf.nc4\n",
      "/glade/work/jonahshaw/obs/AIRS/AIRS3STM_7.0//time_added/AIRS.2018.09.01.L3.RetStd_IR030.v7.0.3.0.G20145142219.hdf.nc4\n",
      "/glade/work/jonahshaw/obs/AIRS/AIRS3STM_7.0//time_added/AIRS.2018.10.01.L3.RetStd_IR031.v7.0.3.0.G20210105607.hdf.nc4\n",
      "/glade/work/jonahshaw/obs/AIRS/AIRS3STM_7.0//time_added/AIRS.2018.11.01.L3.RetStd_IR030.v7.0.3.0.G20146001044.hdf.nc4\n",
      "/glade/work/jonahshaw/obs/AIRS/AIRS3STM_7.0//time_added/AIRS.2018.12.01.L3.RetStd_IR031.v7.0.3.0.G20210105406.hdf.nc4\n",
      "/glade/work/jonahshaw/obs/AIRS/AIRS3STM_7.0//time_added/AIRS.2019.01.01.L3.RetStd_IR031.v7.0.3.0.G20209221154.hdf.nc4\n",
      "/glade/work/jonahshaw/obs/AIRS/AIRS3STM_7.0//time_added/AIRS.2019.02.01.L3.RetStd_IR028.v7.0.3.0.G20209221059.hdf.nc4\n",
      "/glade/work/jonahshaw/obs/AIRS/AIRS3STM_7.0//time_added/AIRS.2019.03.01.L3.RetStd_IR031.v7.0.3.0.G20209223028.hdf.nc4\n",
      "/glade/work/jonahshaw/obs/AIRS/AIRS3STM_7.0//time_added/AIRS.2019.04.01.L3.RetStd_IR030.v7.0.3.0.G20141202137.hdf.nc4\n",
      "/glade/work/jonahshaw/obs/AIRS/AIRS3STM_7.0//time_added/AIRS.2019.05.01.L3.RetStd_IR031.v7.0.3.0.G20209230120.hdf.nc4\n",
      "/glade/work/jonahshaw/obs/AIRS/AIRS3STM_7.0//time_added/AIRS.2019.06.01.L3.RetStd_IR030.v7.0.3.0.G20141224359.hdf.nc4\n",
      "/glade/work/jonahshaw/obs/AIRS/AIRS3STM_7.0//time_added/AIRS.2019.07.01.L3.RetStd_IR031.v7.0.3.0.G20209230505.hdf.nc4\n",
      "/glade/work/jonahshaw/obs/AIRS/AIRS3STM_7.0//time_added/AIRS.2019.08.01.L3.RetStd_IR031.v7.0.3.0.G20209220833.hdf.nc4\n",
      "/glade/work/jonahshaw/obs/AIRS/AIRS3STM_7.0//time_added/AIRS.2019.09.01.L3.RetStd_IR030.v7.0.3.0.G20142161959.hdf.nc4\n",
      "/glade/work/jonahshaw/obs/AIRS/AIRS3STM_7.0//time_added/AIRS.2019.10.01.L3.RetStd_IR031.v7.0.4.0.G20356140333.hdf.nc4\n",
      "/glade/work/jonahshaw/obs/AIRS/AIRS3STM_7.0//time_added/AIRS.2019.11.01.L3.RetStd_IR030.v7.0.4.0.G20300195850.hdf.nc4\n",
      "/glade/work/jonahshaw/obs/AIRS/AIRS3STM_7.0//time_added/AIRS.2019.12.01.L3.RetStd_IR031.v7.0.4.0.G20336214541.hdf.nc4\n",
      "/glade/work/jonahshaw/obs/AIRS/AIRS3STM_7.0//time_added/AIRS.2020.01.01.L3.RetStd_IR031.v7.0.4.0.G20336214947.hdf.nc4\n",
      "/glade/work/jonahshaw/obs/AIRS/AIRS3STM_7.0//time_added/AIRS.2020.02.01.L3.RetStd_IR029.v7.0.4.0.G20336215127.hdf.nc4\n",
      "/glade/work/jonahshaw/obs/AIRS/AIRS3STM_7.0//time_added/AIRS.2020.03.01.L3.RetStd_IR031.v7.0.4.0.G20336220133.hdf.nc4\n",
      "/glade/work/jonahshaw/obs/AIRS/AIRS3STM_7.0//time_added/AIRS.2020.04.01.L3.RetStd_IR030.v7.0.4.0.G20324121623.hdf.nc4\n",
      "/glade/work/jonahshaw/obs/AIRS/AIRS3STM_7.0//time_added/AIRS.2020.05.01.L3.RetStd_IR031.v7.0.4.0.G20336221543.hdf.nc4\n",
      "/glade/work/jonahshaw/obs/AIRS/AIRS3STM_7.0//time_added/AIRS.2020.06.01.L3.RetStd_IR030.v7.0.4.0.G20356161224.hdf.nc4\n",
      "/glade/work/jonahshaw/obs/AIRS/AIRS3STM_7.0//time_added/AIRS.2020.07.01.L3.RetStd_IR031.v7.0.4.0.G20335131858.hdf.nc4\n",
      "/glade/work/jonahshaw/obs/AIRS/AIRS3STM_7.0//time_added/AIRS.2020.08.01.L3.RetStd_IR031.v7.0.4.0.G20336114434.hdf.nc4\n",
      "/glade/work/jonahshaw/obs/AIRS/AIRS3STM_7.0//time_added/AIRS.2020.09.01.L3.RetStd_IR030.v7.0.4.0.G20338111658.hdf.nc4\n",
      "/glade/work/jonahshaw/obs/AIRS/AIRS3STM_7.0//time_added/AIRS.2020.10.01.L3.RetStd_IR031.v7.0.4.0.G20356210256.hdf.nc4\n",
      "/glade/work/jonahshaw/obs/AIRS/AIRS3STM_7.0//time_added/AIRS.2020.11.01.L3.RetStd_IR030.v7.0.4.0.G20349150214.hdf.nc4\n",
      "/glade/work/jonahshaw/obs/AIRS/AIRS3STM_7.0//time_added/AIRS.2020.12.01.L3.RetStd_IR031.v7.0.4.0.G21007093147.hdf.nc4\n"
     ]
    }
   ],
   "source": [
    "months_since = 0 # I will modify the time units instead and decoding should fix everything.\n",
    "\n",
    "for i,_filename in enumerate(airs_files):\n",
    "    \n",
    "    year,month = _filename.split('.')[2:4]\n",
    "    \n",
    "    _temp_file = xr.open_dataset(_filename)\n",
    "    \n",
    "    # Add time dimension for concatenation\n",
    "    _newfile = _temp_file.assign_coords({'time':months_since}).expand_dims('time')\n",
    "    _newfile['time'].attrs['calendar'] = '360_day'\n",
    "    _newfile['time'].attrs['units'] = \"months since %s-%s-01\" % (year,month)\n",
    "\n",
    "    _newfile = xr.decode_cf(_newfile)\n",
    "    \n",
    "    new_lon = _newfile.Longitude.astype('float') % 360\n",
    "    new_lat = _newfile.Latitude.astype('float') - 0.5 # place in gridcell centers\n",
    "    _newfile = _newfile.assign_coords(Longitude=new_lon,Latitude=new_lat).sortby('Longitude')\n",
    "    _newfile = _newfile.rename({'Longitude':'lon','Latitude':'lat'})\n",
    "    \n",
    "    dest_path = '%s/time_added/%s' % (airs_dir,_filename.split('/')[-1])\n",
    "    print(dest_path)\n",
    "    \n",
    "    _newfile.to_netcdf(dest_path)    \n",
    "    _newfile.close()\n",
    "    \n",
    "#     break\n",
    "#     if i > 10: break # cutoff for testing"
   ]
  },
  {
   "cell_type": "code",
   "execution_count": 4,
   "id": "54dc2c75-a1fd-4be4-85a9-1bd077359d70",
   "metadata": {},
   "outputs": [],
   "source": [
    "test_files = glob.glob('/glade/work/jonahshaw/obs/AIRS/AIRS3STM_7.0//time_added/*')"
   ]
  },
  {
   "cell_type": "code",
   "execution_count": 5,
   "id": "825a8a90-7580-4bb0-86a9-296927445665",
   "metadata": {},
   "outputs": [],
   "source": [
    "bigest = xr.open_mfdataset(test_files,chunks={'lon':360,'lat':360,'time':220})"
   ]
  },
  {
   "cell_type": "code",
   "execution_count": 10,
   "id": "4c253df4-75a4-4114-b961-9261a8073823",
   "metadata": {},
   "outputs": [],
   "source": [
    "unchunked = bigest['SurfAirTemp_A'].chunk({'time':220,'lat':360,'lon':360})"
   ]
  },
  {
   "cell_type": "code",
   "execution_count": 16,
   "id": "02aab3d5-c01d-4c04-88c8-119cc3a0f144",
   "metadata": {},
   "outputs": [],
   "source": [
    "unchunked.to_netcdf(_newfile_path)"
   ]
  },
  {
   "cell_type": "code",
   "execution_count": 14,
   "id": "de60de67-bff5-488e-9cb5-c450454cc948",
   "metadata": {},
   "outputs": [],
   "source": [
    "tseries_dir = '/glade/work/jonahshaw/obs/AIRS/AIRS3STM_7.0/tseries/'\n",
    "\n",
    "_newfile_path = '%s/AIRS.%s.200209-202012.L3.RetStd.v7.nc' % (tseries_dir,'SurfAirTemp_A')"
   ]
  },
  {
   "cell_type": "code",
   "execution_count": 15,
   "id": "1d0133cd-3bc3-4f2c-b73d-dacf50ff107b",
   "metadata": {},
   "outputs": [
    {
     "data": {
      "text/plain": [
       "'/glade/work/jonahshaw/obs/AIRS/AIRS3STM_7.0/tseries//AIRS.SurfAirTemp_A.200209-202012.L3.RetStd.v7.nc'"
      ]
     },
     "execution_count": 15,
     "metadata": {},
     "output_type": "execute_result"
    }
   ],
   "source": [
    "_newfile_path"
   ]
  },
  {
   "cell_type": "markdown",
   "id": "4f1c5830-774f-4ec4-8233-1ac5b193dda8",
   "metadata": {},
   "source": [
    "### Create timeseries for easier processing later"
   ]
  },
  {
   "cell_type": "code",
   "execution_count": 18,
   "id": "0618d1e6-61e8-408f-b1d5-99411b76eb2e",
   "metadata": {},
   "outputs": [
    {
     "name": "stdout",
     "output_type": "stream",
     "text": [
      "/glade/work/jonahshaw/obs/AIRS/AIRS3STM_7.0/tseries//AIRS.SurfAirTemp_A.200209-202012.L3.RetStd.v7.nc\n",
      "/glade/work/jonahshaw/obs/AIRS/AIRS3STM_7.0/tseries//AIRS.SurfAirTemp_A_ct.200209-202012.L3.RetStd.v7.nc\n",
      "/glade/work/jonahshaw/obs/AIRS/AIRS3STM_7.0/tseries//AIRS.SurfAirTemp_A_sdev.200209-202012.L3.RetStd.v7.nc\n",
      "/glade/work/jonahshaw/obs/AIRS/AIRS3STM_7.0/tseries//AIRS.TotH2OVap_A.200209-202012.L3.RetStd.v7.nc\n",
      "/glade/work/jonahshaw/obs/AIRS/AIRS3STM_7.0/tseries//AIRS.TotH2OVap_A_ct.200209-202012.L3.RetStd.v7.nc\n",
      "/glade/work/jonahshaw/obs/AIRS/AIRS3STM_7.0/tseries//AIRS.TotH2OVap_A_sdev.200209-202012.L3.RetStd.v7.nc\n",
      "/glade/work/jonahshaw/obs/AIRS/AIRS3STM_7.0/tseries//AIRS.H2O_MMR_A.200209-202012.L3.RetStd.v7.nc\n",
      "/glade/work/jonahshaw/obs/AIRS/AIRS3STM_7.0/tseries//AIRS.H2O_MMR_A_ct.200209-202012.L3.RetStd.v7.nc\n",
      "/glade/work/jonahshaw/obs/AIRS/AIRS3STM_7.0/tseries//AIRS.H2O_MMR_A_sdev.200209-202012.L3.RetStd.v7.nc\n",
      "/glade/work/jonahshaw/obs/AIRS/AIRS3STM_7.0/tseries//AIRS.OLR_A.200209-202012.L3.RetStd.v7.nc\n",
      "/glade/work/jonahshaw/obs/AIRS/AIRS3STM_7.0/tseries//AIRS.OLR_A_ct.200209-202012.L3.RetStd.v7.nc\n",
      "/glade/work/jonahshaw/obs/AIRS/AIRS3STM_7.0/tseries//AIRS.OLR_A_sdev.200209-202012.L3.RetStd.v7.nc\n",
      "/glade/work/jonahshaw/obs/AIRS/AIRS3STM_7.0/tseries//AIRS.ClrOLR_A.200209-202012.L3.RetStd.v7.nc\n",
      "/glade/work/jonahshaw/obs/AIRS/AIRS3STM_7.0/tseries//AIRS.ClrOLR_A_ct.200209-202012.L3.RetStd.v7.nc\n",
      "/glade/work/jonahshaw/obs/AIRS/AIRS3STM_7.0/tseries//AIRS.ClrOLR_A_sdev.200209-202012.L3.RetStd.v7.nc\n",
      "/glade/work/jonahshaw/obs/AIRS/AIRS3STM_7.0/tseries//AIRS.SurfAirTemp_D.200209-202012.L3.RetStd.v7.nc\n",
      "/glade/work/jonahshaw/obs/AIRS/AIRS3STM_7.0/tseries//AIRS.SurfAirTemp_D_ct.200209-202012.L3.RetStd.v7.nc\n",
      "/glade/work/jonahshaw/obs/AIRS/AIRS3STM_7.0/tseries//AIRS.SurfAirTemp_D_sdev.200209-202012.L3.RetStd.v7.nc\n",
      "/glade/work/jonahshaw/obs/AIRS/AIRS3STM_7.0/tseries//AIRS.TotH2OVap_D.200209-202012.L3.RetStd.v7.nc\n",
      "/glade/work/jonahshaw/obs/AIRS/AIRS3STM_7.0/tseries//AIRS.TotH2OVap_D_ct.200209-202012.L3.RetStd.v7.nc\n",
      "/glade/work/jonahshaw/obs/AIRS/AIRS3STM_7.0/tseries//AIRS.TotH2OVap_D_sdev.200209-202012.L3.RetStd.v7.nc\n",
      "/glade/work/jonahshaw/obs/AIRS/AIRS3STM_7.0/tseries//AIRS.H2O_MMR_D.200209-202012.L3.RetStd.v7.nc\n",
      "/glade/work/jonahshaw/obs/AIRS/AIRS3STM_7.0/tseries//AIRS.H2O_MMR_D_ct.200209-202012.L3.RetStd.v7.nc\n",
      "/glade/work/jonahshaw/obs/AIRS/AIRS3STM_7.0/tseries//AIRS.H2O_MMR_D_sdev.200209-202012.L3.RetStd.v7.nc\n",
      "/glade/work/jonahshaw/obs/AIRS/AIRS3STM_7.0/tseries//AIRS.OLR_D.200209-202012.L3.RetStd.v7.nc\n",
      "/glade/work/jonahshaw/obs/AIRS/AIRS3STM_7.0/tseries//AIRS.OLR_D_ct.200209-202012.L3.RetStd.v7.nc\n",
      "/glade/work/jonahshaw/obs/AIRS/AIRS3STM_7.0/tseries//AIRS.OLR_D_sdev.200209-202012.L3.RetStd.v7.nc\n",
      "/glade/work/jonahshaw/obs/AIRS/AIRS3STM_7.0/tseries//AIRS.ClrOLR_D.200209-202012.L3.RetStd.v7.nc\n",
      "/glade/work/jonahshaw/obs/AIRS/AIRS3STM_7.0/tseries//AIRS.ClrOLR_D_ct.200209-202012.L3.RetStd.v7.nc\n",
      "/glade/work/jonahshaw/obs/AIRS/AIRS3STM_7.0/tseries//AIRS.ClrOLR_D_sdev.200209-202012.L3.RetStd.v7.nc\n"
     ]
    }
   ],
   "source": [
    "tseries_dir = '/glade/work/jonahshaw/obs/AIRS/AIRS3STM_7.0/tseries/'\n",
    "\n",
    "for _var in bigest.data_vars:\n",
    "    \n",
    "    _newfile_path = '%s/AIRS.%s.200209-202012.L3.RetStd.v7.nc' % (tseries_dir,_var)\n",
    "    \n",
    "    print(_newfile_path)\n",
    "    \n",
    "    _unchunked = bigest[_var].chunk({'time':220,'lat':360,'lon':360}) # unchunk so that it will write faster\n",
    "    \n",
    "    _unchunked.to_netcdf(_newfile_path)\n",
    "    \n",
    "#     break"
   ]
  },
  {
   "cell_type": "markdown",
   "id": "f420bc25-9b65-4787-86ae-3f9a42cfe8bd",
   "metadata": {},
   "source": [
    "#### Old testing stuff"
   ]
  },
  {
   "cell_type": "code",
   "execution_count": 7,
   "id": "b8a79293-4ba2-4057-a45e-663edbe444dc",
   "metadata": {},
   "outputs": [],
   "source": [
    "monthly_test = bigest['SurfAirTemp_A'].groupby('time.month').mean('time')"
   ]
  },
  {
   "cell_type": "code",
   "execution_count": 12,
   "id": "7e70e3cb-d123-4bc8-a71a-744ce68e42e7",
   "metadata": {},
   "outputs": [],
   "source": [
    "avg_test = monthly_test.mean('lon').sel(lat=slice(90,60))"
   ]
  },
  {
   "cell_type": "code",
   "execution_count": 16,
   "id": "5419ac9f-5b6c-425f-868f-9695dedead26",
   "metadata": {},
   "outputs": [
    {
     "name": "stderr",
     "output_type": "stream",
     "text": [
      "/glade/work/jonahshaw/miniconda3/envs/cheycomp/lib/python3.7/site-packages/dask/array/numpy_compat.py:41: RuntimeWarning: invalid value encountered in true_divide\n",
      "  x = np.divide(x1, x2, out)\n"
     ]
    },
    {
     "data": {
      "text/plain": [
       "<matplotlib.colorbar.Colorbar at 0x2b5ac3fde390>"
      ]
     },
     "execution_count": 16,
     "metadata": {},
     "output_type": "execute_result"
    },
    {
     "data": {
      "image/png": "[encoded data removed]",
      "text/plain": [
       "<Figure size 432x288 with 2 Axes>"
      ]
     },
     "metadata": {
      "needs_background": "light"
     },
     "output_type": "display_data"
    }
   ],
   "source": [
    "lat_weighted0 = np.sin(np.pi/180*avg_test['lat'])\n",
    "palette = sns.diverging_palette(257, 10, s=99, l=44, sep=50, n=8, as_cmap=True)\n",
    "\n",
    "im0 = plt.contourf(avg_test['month'],lat_weighted0,avg_test.transpose('lat','month'), # -1.4,0.4\n",
    "                       cmap=palette)#,norm=mpl.colors.TwoSlopeNorm(vmin=-0.9, vcenter=0., vmax=0.9),levels=np.arange(-0.9,0.11,0.2),extend='both')\n",
    "\n",
    "plt.colorbar(im0)"
   ]
  },
  {
   "cell_type": "code",
   "execution_count": null,
   "id": "1478c3de-93d9-4f5e-bb07-8058dd7b5662",
   "metadata": {},
   "outputs": [],
   "source": []
  }
 ],
 "metadata": {
  "kernelspec": {
   "display_name": "Python [conda env:miniconda3-cheycomp]",
   "language": "python",
   "name": "conda-env-miniconda3-cheycomp-py"
  },
  "language_info": {
   "codemirror_mode": {
    "name": "ipython",
    "version": 3
   },
   "file_extension": ".py",
   "mimetype": "text/x-python",
   "name": "python",
   "nbconvert_exporter": "python",
   "pygments_lexer": "ipython3",
   "version": "3.7.8"
  }
 },
 "nbformat": 4,
 "nbformat_minor": 5
}
