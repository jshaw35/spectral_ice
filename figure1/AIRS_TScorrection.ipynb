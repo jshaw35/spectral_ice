{
 "cells": [
  {
   "cell_type": "markdown",
   "id": "0c2bd299-72d2-4e25-bdd0-49158e346e53",
   "metadata": {},
   "source": [
    "# Surface temperature correction to AIRS data"
   ]
  },
  {
   "cell_type": "markdown",
   "id": "647f26c2-7c7d-4f13-92da-a8d135142b8a",
   "metadata": {},
   "source": [
    "Since the AIRS spectral trends appear to be mostly due to surface temperature trends, we want to try and apply a first order correction to remove the $\\Delta TS$ signal from the calibrated irradiances. The Planck function in terms of wavelength is given by:\n",
    "\n",
    "$$ B_{\\lambda}(T) = \\frac{2hc^2}{\\lambda^5} \\frac{1}{\\exp{(hc/\\lambda k_BT)}-1} d\\lambda \\quad Wm^{-2}{Sr}^{-1} $$"
   ]
  },
  {
   "cell_type": "markdown",
   "id": "8328f0d8-65da-4d33-a66e-35eb940a6f90",
   "metadata": {},
   "source": [
    "$$ B_{\\nu}(T) = 2hc^2{\\nu}^3 \\frac{1}{\\exp{(hc\\nu/k_BT)}-1} d\\nu \\quad Wm^{-2}{Sr}^{-1} $$"
   ]
  },
  {
   "cell_type": "markdown",
   "id": "f824e7a4-42c6-4ddc-b4c3-e8e7cb9ec65d",
   "metadata": {},
   "source": [
    "We will start by assuming unitary surface emissivity and transmittance to the TOA such that the surface contribution to observed spectral irradiance (F) trends can be approximated as:\n",
    "\n",
    "$$ \\frac{dF}{dt} = \\frac{\\partial B_{\\nu}(T)}{\\partial T}\\frac{dTS}{dt} $$"
   ]
  },
  {
   "cell_type": "markdown",
   "id": "dabd3cd7-f886-4135-8d89-94658e37db28",
   "metadata": {},
   "source": [
    "The partial derivative of the Planck function with respect to temperature is:"
   ]
  },
  {
   "cell_type": "markdown",
   "id": "7f4388b2-1532-4166-8a3b-cb6a71caf118",
   "metadata": {},
   "source": [
    "$$ \\frac{dB_{\\nu}(T)}{dT} =  \\frac{2 h^2 c^3 {\\nu}^4}{k_BT^2} \\exp\\left(\\frac{hc\\nu}{k_BT}\\right) \\frac{1}{\\left[\\exp(hc\\nu/k_BT) - 1\\right]^2} d\\nu $$"
   ]
  },
  {
   "cell_type": "markdown",
   "id": "d33d9212-ad4c-4838-96a7-48fc5e271a36",
   "metadata": {},
   "source": [
    "Since the wavenumber in the above equations has units of $m^{-1}$, I will need to convert between $cm^{-1}$ before plugging into this expression. Intuitively, the wavenumber is the number of wavelengths in a unit length, so there will be 100x more when our unit length is 1m versus 1cm."
   ]
  },
  {
   "cell_type": "markdown",
   "id": "0a48426f-3f91-4157-a57b-c2a295c10e91",
   "metadata": {},
   "source": [
    "Wavenumber is defined in terms of wavelength following: $\\nu = 1/100\\lambda$, so we can transform the Planck function to be a function of wavenumber:  \n",
    "\n",
    "$$ B_{\\nu}(T) = 2hc^2 (10^{10} {\\nu}^5) \\frac{1}{\\exp{(hc100\\nu/k_BT)}-1} \\frac{1}{100{\\nu}^2}d\\nu = 2\\times 10^8 hc^2 {\\nu}^3 \\frac{1}{\\exp{(hc100\\nu/k_BT)}-1} d\\nu \\quad Wm^{-2}{Sr}^{-1}cm $$"
   ]
  },
  {
   "cell_type": "markdown",
   "id": "9b51bab8-d8d7-4e5d-9847-6d4b7a981262",
   "metadata": {},
   "source": [
    "I need to either multiple by a factor of $\\pi$ or $4\\pi$ to convert to irradiance."
   ]
  },
  {
   "cell_type": "markdown",
   "id": "fc451806-ceba-41fd-85ec-6594b650a470",
   "metadata": {},
   "source": [
    "We will start by assuming unitary surface emissivity and transmittance to the TOA such that the surface contribution to observed spectral irradiance (F) trends can be approximated as:\n",
    "\n",
    "$$ \\frac{dF}{dt} = \\frac{\\partial B_{\\nu}(T)}{\\partial T}\\frac{dTS}{dt} $$"
   ]
  },
  {
   "cell_type": "code",
   "execution_count": 1,
   "id": "3de9c060-37d1-432a-8cb9-cfdd5da03454",
   "metadata": {},
   "outputs": [],
   "source": [
    "import sys\n",
    "# Add common resources folder to path\n",
    "sys.path.append('/glade/u/home/jonahshaw/Scripts/git_repos/spectral_ice/')\n",
    "sys.path.append('/glade/u/home/jonahshaw/Scripts/git_repos/spectral_ice/Common/') # is this good or not good. I should reorg.\n",
    "\n",
    "from imports import (\n",
    "    pd, np, xr, plt, sns, os, \n",
    "    glob, stats\n",
    "    )"
   ]
  },
  {
   "cell_type": "code",
   "execution_count": 13,
   "id": "4f877cec-1008-4c07-a2b0-ffd3ccf145c5",
   "metadata": {},
   "outputs": [],
   "source": [
    "# Define constants globally\n",
    "h = 6.626e-34 # [J*s] Planck constant\n",
    "kB = 1.38e-23 # [J/K] Boltzmann constant\n",
    "c = 299792458 # [m/s] speed of light"
   ]
  },
  {
   "cell_type": "markdown",
   "id": "e35ed916-52a6-4d29-adc5-955e09001af5",
   "metadata": {},
   "source": [
    "#### Define a simple Planck Curve to test equations"
   ]
  },
  {
   "cell_type": "code",
   "execution_count": 12,
   "id": "b7ef7154-24a5-4f1b-8b89-402ae082047a",
   "metadata": {},
   "outputs": [],
   "source": [
    "def Bv(T,nu):\n",
    "    # nu is the wavenumber with units [1/m], T is temperature in [K]    \n",
    "    return (2*h*c**2*nu**3) * 1/(np.exp(h*nu*c/(kB*T)) - 1) # W/m^2 per m-1 per Sr\n",
    "\n",
    "Bv_vec = np.vectorize(Bv)"
   ]
  },
  {
   "cell_type": "code",
   "execution_count": 3,
   "id": "964500d8-c98a-4fb8-bcfb-3ee10053459b",
   "metadata": {},
   "outputs": [],
   "source": [
    "Ts = np.arange(200,301,1) # reasonable temperature range for the earth\n",
    "\n",
    "# nus = np.linspace(500,2000,200)\n",
    "nu_range = np.linspace(1,4000,2000) # Intended to be [cm-1]"
   ]
  },
  {
   "cell_type": "code",
   "execution_count": 4,
   "id": "8687db10-3c0c-4d14-ba5d-cab255c90efa",
   "metadata": {},
   "outputs": [
    {
     "data": {
      "text/plain": [
       "(0.0, 2000.0)"
      ]
     },
     "execution_count": 4,
     "metadata": {},
     "output_type": "execute_result"
    },
    {
     "data": {
      "image/png": "[encoded data removed]",
      "text/plain": [
       "<Figure size 432x288 with 1 Axes>"
      ]
     },
     "metadata": {
      "needs_background": "light"
     },
     "output_type": "display_data"
    }
   ],
   "source": [
    "nu_range_m = nu_range * 100\n",
    "\n",
    "Bv_test_250 = Bv_vec(250,nu_range_m)\n",
    "\n",
    "plt.plot(nu_range,Bv_test_250)\n",
    "\n",
    "plt.xlabel('Wavenumber (cm-1)')\n",
    "plt.ylabel('Radiance (Wm-2 per m-1 per Sr')\n",
    "\n",
    "plt.xlim(0,2000)"
   ]
  },
  {
   "cell_type": "markdown",
   "id": "4a3a4a85-6f58-4192-b2bd-0b1189b2dd70",
   "metadata": {},
   "source": [
    "#### Test with Wien's Law"
   ]
  },
  {
   "cell_type": "markdown",
   "id": "474e70d8-1d5e-4429-a982-da7f27a38586",
   "metadata": {},
   "source": [
    "Following Wien's Law, the curve should be peak at $\\nu_{max} = 5.879e10 T $. In wavenumber space ($\\mathrm{cm^{-1}}$) this is $ 5.879e10 T / 100 c $."
   ]
  },
  {
   "cell_type": "code",
   "execution_count": 6,
   "id": "911869f6-f01e-4db3-9744-b438d1455a6e",
   "metadata": {},
   "outputs": [
    {
     "name": "stdout",
     "output_type": "stream",
     "text": [
      "490.255828917484\n"
     ]
    }
   ],
   "source": [
    "# Calculate the max wavenumber from Wien's Law\n",
    "T = 250\n",
    "\n",
    "nu_max = 5.879e10*T / (100*c)\n",
    "print(nu_max)"
   ]
  },
  {
   "cell_type": "code",
   "execution_count": 7,
   "id": "76fe43e6-43ac-41c5-a050-d117c4a0bb04",
   "metadata": {},
   "outputs": [
    {
     "name": "stdout",
     "output_type": "stream",
     "text": [
      "[489.12206103]\n"
     ]
    }
   ],
   "source": [
    "# Calculate the max wavenumber from the calculated Planck curve\n",
    "max_ind = np.where(Bv_test_250 == Bv_test_250.max())\n",
    "print(nu_range[max_ind])"
   ]
  },
  {
   "cell_type": "markdown",
   "id": "9faf37f1-19cd-43a2-b351-d8e3595ccb2c",
   "metadata": {},
   "source": [
    "They match up well, indicating that I haven't made a mistake with the definition of the function."
   ]
  },
  {
   "cell_type": "markdown",
   "id": "e14a1bb3-6dc7-4883-a800-9dd6a815a7b7",
   "metadata": {},
   "source": [
    "#### Test with the Stefan-Boltzmann Law"
   ]
  },
  {
   "cell_type": "markdown",
   "id": "0776e500-e1bb-4e9b-b8f4-1ca043b59463",
   "metadata": {},
   "source": [
    "The Stefan-Boltzmann Law states that the total irradiance should be proportional to the fourth power of the temperature: $ F = \\sigma T^4 $, where $ \\sigma = 5.67*10^{-8} \\mathrm{Wm^{-2}T^{-4}} $."
   ]
  },
  {
   "cell_type": "code",
   "execution_count": 8,
   "id": "792ecf02-e015-4d02-a14d-3638a25c5fc8",
   "metadata": {},
   "outputs": [
    {
     "name": "stdout",
     "output_type": "stream",
     "text": [
      "221.796875\n"
     ]
    }
   ],
   "source": [
    "# Calculate the predicted value from the Stefan-Boltzmann Law\n",
    "sigma = 5.678e-8 # [Wm^-2K^-4]\n",
    "\n",
    "Ptot = 250**4 * sigma\n",
    "print(Ptot)"
   ]
  },
  {
   "cell_type": "code",
   "execution_count": 9,
   "id": "d8da5485-e022-4e74-89da-71cad4f21334",
   "metadata": {},
   "outputs": [
    {
     "data": {
      "text/plain": [
       "70.37506380838722"
      ]
     },
     "execution_count": 9,
     "metadata": {},
     "output_type": "execute_result"
    }
   ],
   "source": [
    "# Integrate the Planck function\n",
    "np.trapz(Bv_test_250,nu_range*100) # converts nus2 to meters before integration since the Planck function is in terms of meters"
   ]
  },
  {
   "cell_type": "markdown",
   "id": "329c0b77-4f3c-4b39-95e5-1d71d29eeac1",
   "metadata": {},
   "source": [
    "These values are off by a factor of $ \\pi $ since I didn't integrate over solid angle."
   ]
  },
  {
   "cell_type": "code",
   "execution_count": 10,
   "id": "bd4a1d39-78fd-48b3-9bee-d1a90520faac",
   "metadata": {},
   "outputs": [
    {
     "data": {
      "text/plain": [
       "221.08978345634225"
      ]
     },
     "execution_count": 10,
     "metadata": {},
     "output_type": "execute_result"
    }
   ],
   "source": [
    "# Integrate the Planck function\n",
    "np.pi*np.trapz(Bv_test_250,nu_range*100) # converts nus2 to meters before integration since the Planck function is in terms of meters"
   ]
  },
  {
   "cell_type": "markdown",
   "id": "9c8d8c30-b93d-4106-9e7b-94558e7d3f15",
   "metadata": {},
   "source": [
    "Now the values are quite close, so the magnitude of my Planck function is also correct."
   ]
  },
  {
   "cell_type": "code",
   "execution_count": 19,
   "id": "35a4cbb9-1d6e-47e9-bfe7-859f0298cff2",
   "metadata": {},
   "outputs": [],
   "source": [
    "# Define a function to calculate the change in irradiance at a given wavenumber from the temperature change\n",
    "# Function in latex/markdown\n",
    "# $$ \\frac{dB_{\\nu}(T)}{dT} =  \\frac{2 h^2 c^3 {\\nu}^4}{k_BT^2} \\exp\\left(\\frac{hc\\nu}{k_BT}\\right) \\frac{1}{\\left[\\exp(hc\\nu/k_BT) - 1\\right]^2} d\\nu $$\n",
    "\n",
    "def dBvdT(T,nu,dnu):\n",
    "        # T in temperature in [K], nu is the center wavenumber [1/m], and dnu is the width of the wavenumber band\n",
    "    part1 = 2 * h**2 * c**3 * nu**4 / (kB * T**2) # first quotient\n",
    "    \n",
    "    part2 = np.exp(h * c * nu / (kB * T)) # exponential term\n",
    "        \n",
    "    part3 = 1 / (part2 - 1)**2\n",
    "\n",
    "    # Convert to irradiance using pi and add spectral width of the bin\n",
    "    return part1*part2*part3 * dnu * np.pi\n",
    "\n",
    "\n",
    "dBvdT_vec = np.vectorize(dBvdT)"
   ]
  },
  {
   "cell_type": "code",
   "execution_count": 22,
   "id": "19a80943-5848-4bf4-b60c-0b11b813783a",
   "metadata": {},
   "outputs": [],
   "source": [
    "TTs,nnus = np.meshgrid(Ts,nu_range_m)"
   ]
  },
  {
   "cell_type": "code",
   "execution_count": 31,
   "id": "0c0c6898-1fb9-4a3b-a00d-cdaaf6a662bf",
   "metadata": {},
   "outputs": [],
   "source": [
    "# The function takes wavenumber in units of m-1\n",
    "out500 = dBvdT_vec(Ts,50000,1000)\n",
    "out1000 = dBvdT_vec(Ts,100000,1000)\n",
    "out2000 = dBvdT_vec(Ts,200000,1000)"
   ]
  },
  {
   "cell_type": "code",
   "execution_count": 35,
   "id": "50bbbb4d-ea6f-4add-855d-cbc95f581088",
   "metadata": {},
   "outputs": [],
   "source": [
    "outall = dBvdT_vec(TTs,nnus,1000)"
   ]
  },
  {
   "cell_type": "code",
   "execution_count": 34,
   "id": "283db6b8-de29-4117-addd-e96d9bf812da",
   "metadata": {},
   "outputs": [
    {
     "data": {
      "text/plain": [
       "<matplotlib.legend.Legend at 0x2b2ef6dd5fd0>"
      ]
     },
     "execution_count": 34,
     "metadata": {},
     "output_type": "execute_result"
    },
    {
     "data": {
      "image/png": "[encoded data removed]",
      "text/plain": [
       "<Figure size 432x288 with 1 Axes>"
      ]
     },
     "metadata": {
      "needs_background": "light"
     },
     "output_type": "display_data"
    }
   ],
   "source": [
    "plt.plot(Ts,out500,label='500cm-1')\n",
    "plt.plot(Ts,out1000,label='1000cm-1')\n",
    "plt.plot(Ts,out2000,label='2000cm-1')\n",
    "\n",
    "plt.ylabel('W/m^2 per degree K (for spectral band width)')\n",
    "plt.legend()"
   ]
  },
  {
   "cell_type": "markdown",
   "id": "9b24a72c-3dff-4aac-a4d7-3afd2dd7307a",
   "metadata": {},
   "source": [
    "While the concavity of these lines is different, they all demonstrate that at warmer temperatures, a unit change in temperature causes a greater increase in the emitted blackbody radiation. Because the blackbody curve is shifting to higher wavenumbers, the 500cm-1 curve has negative concavity, whereas 1000cm-1 and 2000cm-1 has positive concavity."
   ]
  },
  {
   "cell_type": "code",
   "execution_count": 44,
   "id": "f93f1038-a8db-4dc2-b3f8-13fd9ab7cb72",
   "metadata": {},
   "outputs": [
    {
     "data": {
      "text/plain": [
       "<matplotlib.colorbar.Colorbar at 0x2b2ef77d8410>"
      ]
     },
     "execution_count": 44,
     "metadata": {},
     "output_type": "execute_result"
    },
    {
     "data": {
      "image/png": "[encoded data removed]",
      "text/plain": [
       "<Figure size 432x288 with 2 Axes>"
      ]
     },
     "metadata": {
      "needs_background": "light"
     },
     "output_type": "display_data"
    }
   ],
   "source": [
    "im = plt.contourf(nnus,TTs,outall)\n",
    "plt.xlim(50000,200000)\n",
    "plt.xticks(np.arange(50000,200001,25000))\n",
    "plt.ylabel('Temperature (K)')\n",
    "plt.xlabel('Wavenumber ($\\mathrm{m^{-1}}$)')\n",
    "\n",
    "plt.colorbar(im,label='$\\mathrm{Wm^{-2}}$ per degree K')"
   ]
  },
  {
   "cell_type": "markdown",
   "id": "3a07f73a-eae5-41c4-9a17-1feb78486bcb",
   "metadata": {},
   "source": [
    "Looking at a contour map, we can see that most of change is occuring where the Planck function is peaked. Note that the x units are in m-1 and I've supplied bin widths."
   ]
  },
  {
   "cell_type": "markdown",
   "id": "c30500fd-b3bc-47b5-a03c-5ecc93c46822",
   "metadata": {},
   "source": [
    "## Load pre-processed AIRS trends"
   ]
  },
  {
   "cell_type": "markdown",
   "id": "f330cdec-f51f-4ad0-90a8-51836b682a6d",
   "metadata": {},
   "source": [
    "### Spectral Irradiance Trends"
   ]
  },
  {
   "cell_type": "code",
   "execution_count": 45,
   "id": "89d6c296-263d-4a7d-ad64-b9d8e3aa81c6",
   "metadata": {},
   "outputs": [],
   "source": [
    "airs_dir = '/glade/work/jonahshaw/obs/AIRS/'\n",
    "\n",
    "all_data_spec_olr = xr.open_dataset('%s/%s/olr_spectral_trends_lonavg.nc' % (airs_dir,'arc_proc/'))\n",
    "\n",
    "all_data_spec_olr_clr = xr.open_dataset('%s/%s/olr_clr_spectral_trends_lonavg.nc' % (airs_dir,'arc_proc/'))"
   ]
  },
  {
   "cell_type": "markdown",
   "id": "879c454d-966e-4df4-bd7c-ef1ab0a06f79",
   "metadata": {},
   "source": [
    "### Surface skin temperature"
   ]
  },
  {
   "cell_type": "markdown",
   "id": "274175ca-bc72-44a0-af5c-676dee729559",
   "metadata": {},
   "source": [
    "#### Create function to average over the ascending and descending orbits"
   ]
  },
  {
   "cell_type": "code",
   "execution_count": 46,
   "id": "cc5b899c-1e4e-4dfc-bc6b-0a081dd85acb",
   "metadata": {},
   "outputs": [],
   "source": [
    "def average_AIRS_orbits(var,tseries_dir='/glade/work/jonahshaw/obs/AIRS/AIRS3STM_7.0/tseries/'):\n",
    "    \n",
    "    ascending_file = glob.glob('%s/*%s_A.*.nc' % (tseries_dir,var))#[0]\n",
    "    descending_file = glob.glob('%s/*%s_D.*.nc' % (tseries_dir,var))#[0]\n",
    "                                \n",
    "    if (len(ascending_file)!=1 or len(descending_file)!=1): # Handle string errors\n",
    "        print('Unique ascending/descending file not found')\n",
    "        return ascending_file,descending_file\n",
    "    \n",
    "#     print(ascending_file,descending_file)\n",
    "    \n",
    "    # Open timeseries files\n",
    "    ds_A = xr.open_dataset(ascending_file[0])\n",
    "    ds_D = xr.open_dataset(descending_file[0])\n",
    "    \n",
    "    # Rename removing orbit suffix\n",
    "    ds_A = ds_A.rename({'%s_A' % var:var})\n",
    "    ds_D = ds_D.rename({'%s_D' % var:var})\n",
    "    \n",
    "    # Add orbit dimension for concatenation.\n",
    "    ds_A = ds_A[var].assign_coords({'orbit':0}).expand_dims('orbit')\n",
    "    ds_D = ds_D[var].assign_coords({'orbit':1}).expand_dims('orbit')\n",
    "    \n",
    "    ds_both = xr.merge([ds_A,ds_D])\n",
    "    ds_net = ds_both.mean(dim='orbit')[var]\n",
    "    \n",
    "    return ds_net\n",
    "#     return ds_A,ds_D"
   ]
  },
  {
   "cell_type": "markdown",
   "id": "bf48b539-0037-461d-bba7-3c1a526a9956",
   "metadata": {},
   "source": [
    "#### New slower function that uses scipy.stats.linregress via apply_ufunc and gets info on statistical significance"
   ]
  },
  {
   "cell_type": "code",
   "execution_count": 47,
   "id": "a6b72d81-e0dc-43ca-8c7f-773853ac3c4b",
   "metadata": {
    "tags": []
   },
   "outputs": [],
   "source": [
    "def linregress2(x, y):\n",
    "    # Wrapper around scipy linregress to use in apply_ufunc\n",
    "    slope, intercept, r_value, p_value, std_err = stats.linregress(x, y)\n",
    "    return np.array([slope, intercept, r_value, p_value, std_err])"
   ]
  },
  {
   "cell_type": "code",
   "execution_count": 48,
   "id": "c57529ec-3f6e-4325-abd4-4bd38246b42c",
   "metadata": {},
   "outputs": [],
   "source": [
    "def vectorized_linregress2(data):\n",
    "    '''\n",
    "    Package for vectorized linregress call from: \n",
    "    https://stackoverflow.com/questions/52094320/with-xarray-how-to-parallelize-1d-operations-on-a-multidimensional-dataset. \n",
    "    Not very general.\n",
    "    '''\n",
    "    \n",
    "    regressed_month = xr.apply_ufunc(\n",
    "        linregress2, data['year'], data,\n",
    "        input_core_dims=[['year'], ['year']],\n",
    "        output_core_dims=[[\"parameter\"]],\n",
    "        vectorize=True,\n",
    "        dask=\"parallelized\",\n",
    "        output_dtypes=['float64'],\n",
    "        output_sizes={\"parameter\": 5},\n",
    "                      )\n",
    "    \n",
    "    return regressed_month"
   ]
  },
  {
   "cell_type": "code",
   "execution_count": 49,
   "id": "325b95aa-a0da-47dc-bfec-765dd07b7241",
   "metadata": {},
   "outputs": [],
   "source": [
    "def compute_trends_n_signif2(subset_data):\n",
    "    '''\n",
    "    Package the trend calculating lines to save space. V2 uses vectorized_linregress2\n",
    "    '''\n",
    "    # create empty arrays for needed output\n",
    "    _trends = xr.zeros_like(subset_data.groupby('time.month').mean('time')).load()\n",
    "    _rvalues = _trends.copy()\n",
    "    _pvalues = _trends.copy()\n",
    "\n",
    "    # Potentially I should be able to format this to avoid this for loop too\n",
    "    for i,_month in subset_data.groupby('time.month'):\n",
    "#         print(i,end='')\n",
    "\n",
    "        _yearlydata = _month.groupby('time.year').mean('time').chunk({'year': -1}) # let the other dimensions chunk however?\n",
    "        regressed_month = vectorized_linregress2(_yearlydata)\n",
    "\n",
    "        ii = i-1 # the count starts at month 1 (January) but we need to index starting at 0\n",
    "        \n",
    "        _trends[ii] = regressed_month.isel(parameter=0)\n",
    "        _rvalues[ii] = regressed_month.isel(parameter=2)\n",
    "        _pvalues[ii] = regressed_month.isel(parameter=3)\n",
    "\n",
    "    # Calculate statistical significance\n",
    "    N = len(_yearlydata.year)\n",
    "    dof=N-2\n",
    "\n",
    "    tcrit=stats.t.ppf(0.975,dof)  ## two-sided 95%\n",
    "    t=_rvalues*np.sqrt(N-2)/np.sqrt((1-_rvalues*_rvalues))\n",
    "\n",
    "    _statsig=(1-_pvalues)*100\n",
    "    _notnull = t > tcrit # disproving the null hypothesis (slope is zero)    \n",
    "    \n",
    "    return _trends,_statsig,_notnull"
   ]
  },
  {
   "cell_type": "code",
   "execution_count": 50,
   "id": "0c20fa6b-0a7f-464f-b43f-c18291d80987",
   "metadata": {},
   "outputs": [
    {
     "name": "stderr",
     "output_type": "stream",
     "text": [
      "/glade/work/jonahshaw/miniconda3/envs/cheycomp/lib/python3.7/site-packages/xarray/core/nanops.py:142: RuntimeWarning: Mean of empty slice\n",
      "  return np.nanmean(a, axis=axis, dtype=dtype)\n"
     ]
    }
   ],
   "source": [
    "AIRS_surf_skintemp = average_AIRS_orbits('SurfSkinTemp')"
   ]
  },
  {
   "cell_type": "code",
   "execution_count": 51,
   "id": "63709792-612c-49a7-9043-9c365a2ff29b",
   "metadata": {},
   "outputs": [
    {
     "name": "stderr",
     "output_type": "stream",
     "text": [
      "/glade/work/jonahshaw/miniconda3/envs/cheycomp/lib/python3.7/site-packages/xarray/core/nanops.py:142: RuntimeWarning: Mean of empty slice\n",
      "  return np.nanmean(a, axis=axis, dtype=dtype)\n"
     ]
    }
   ],
   "source": [
    "skintemp_subset = AIRS_surf_skintemp.sel(time=slice('2003-01-01','2020-12-15'),lat=slice(None,59)).mean('lon')\n",
    "\n",
    "skintemp_trends,skintemp_statsig,skintemp_notnull = compute_trends_n_signif2(skintemp_subset)"
   ]
  },
  {
   "cell_type": "code",
   "execution_count": 54,
   "id": "cf77900b-2473-4402-bf7e-a70e968b1dd5",
   "metadata": {},
   "outputs": [],
   "source": [
    "# Calculate the average skin temperature over the observation period so the linear Planck correction is most accurate\n",
    "skintemp_monlat_avg = skintemp_subset.groupby('time.month').mean('time')"
   ]
  },
  {
   "cell_type": "markdown",
   "id": "221ccca8-e008-4eef-9df7-49bc0987397d",
   "metadata": {},
   "source": [
    "#### Calculate the sensitivity kernel (apply mean temperatures and AIRSL3 wavenumber range to the kernel function)"
   ]
  },
  {
   "cell_type": "markdown",
   "id": "4e10944f-ea01-44e7-af46-f9ff06ca3c1d",
   "metadata": {},
   "source": [
    "Set spectral bin variables"
   ]
  },
  {
   "cell_type": "code",
   "execution_count": 151,
   "id": "6fadf0e6-170d-4c6d-958d-b2aa2b9c581e",
   "metadata": {},
   "outputs": [],
   "source": [
    "dnu_cm = 10 # [cm-1] band width\n",
    "dnu_m = dnu_cm*1e2 # [m-1] band width"
   ]
  },
  {
   "cell_type": "markdown",
   "id": "7df077db-10b9-49a7-a137-4682be958c5d",
   "metadata": {},
   "source": [
    "Set AIRS L3 wavenumber bin centers."
   ]
  },
  {
   "cell_type": "code",
   "execution_count": 116,
   "id": "09dad5f2-ca65-4cd9-b3b5-350e50a2c6cf",
   "metadata": {},
   "outputs": [],
   "source": [
    "AIRSL3_nurange_cm = np.arange(15,1996,10)\n",
    "AIRSL3_nurange_m = AIRSL3_nurange_cm * 1e2"
   ]
  },
  {
   "cell_type": "code",
   "execution_count": 117,
   "id": "505c3648-d0c3-45c9-8dd8-950b0eae01ef",
   "metadata": {},
   "outputs": [],
   "source": [
    "# Expand dims so that the kernel can be calculated in a single step with a vectorized function call\n",
    "AIRSL3_nurange_m_exp = np.expand_dims(AIRSL3_nurange_m,axis=[1,2])\n",
    "skintemp_monlat_avg_exp = np.expand_dims(skintemp_monlat_avg,axis=0)"
   ]
  },
  {
   "cell_type": "code",
   "execution_count": 147,
   "id": "db0f4eba-eb29-4b24-8d77-49d68a39f026",
   "metadata": {},
   "outputs": [],
   "source": [
    "# Calculate the kernel and immediately read it into an xarray DataArray format\n",
    "dnu_cm = 10 # [cm-1] band width\n",
    "dnu_m = dnu_cm*1e2 # [m-1] band width\n",
    "\n",
    "kernel_all = dBvdT_vec(skintemp_monlat_avg_exp,AIRSL3_nurange_m_exp,dnu_m)\n",
    "# kernel_all = kernel_all.reshape(12,199,31) # this \n",
    "\n",
    "kernel_all_da = xr.DataArray(kernel_all,\n",
    "#         dims=[\"month\",\"wnum\", \"lat\",],\n",
    "        dims=[\"wnum\",\"month\", \"lat\",],\n",
    "        coords=dict(\n",
    "            wnum=(AIRSL3_nurange_cm),\n",
    "            lat=(skintemp_monlat_avg['lat']),\n",
    "            month=(skintemp_monlat_avg['month']),\n",
    "        ),\n",
    "        attrs=dict(\n",
    "            description=\"OLR temperature kernel\",\n",
    "            units=\"Wm-2K-1\",\n",
    "        ),\n",
    "    )\n",
    "\n",
    "kernel_all_da = kernel_all_da.transpose(\"month\", \"wnum\", \"lat\")"
   ]
  },
  {
   "cell_type": "markdown",
   "id": "df73b532-fed5-4c35-a2dc-f23f4b8ca7b5",
   "metadata": {},
   "source": [
    "Test vectorized result against a single spectral band"
   ]
  },
  {
   "cell_type": "code",
   "execution_count": 153,
   "id": "facc6a2a-9a8e-4f51-9b75-d7c7f12354be",
   "metadata": {},
   "outputs": [],
   "source": [
    "nu_cm = 1005 # [cm-1] band center\n",
    "nu_m = nu_cm*1e2 # [m-1] band center\n",
    "\n",
    "kernel_1005 = dBvdT_vec(skintemp_monlat_avg,nu_m,dnu_m)\n",
    "\n",
    "kernel_1005_da = xr.DataArray(kernel_1005,\n",
    "        dims=[\"month\", \"lat\",],\n",
    "        coords=dict(\n",
    "            lat=(skintemp_monlat_avg['lat']),\n",
    "            month=(skintemp_monlat_avg['month']),\n",
    "        ),\n",
    "        attrs=dict(\n",
    "            description=\"OLR temperature kernel\",\n",
    "            units=\"Wm-2K-1\",\n",
    "        ),\n",
    "    )"
   ]
  },
  {
   "cell_type": "code",
   "execution_count": 159,
   "id": "85f4ac51-b9f6-47ff-b21b-97d7f395e07f",
   "metadata": {},
   "outputs": [
    {
     "name": "stdout",
     "output_type": "stream",
     "text": [
      "<xarray.DataArray ()>\n",
      "array(True)\n",
      "Coordinates:\n",
      "    wnum     int64 1005\n"
     ]
    },
    {
     "data": {
      "image/png": "[encoded data removed]",
      "text/plain": [
       "<Figure size 1080x504 with 4 Axes>"
      ]
     },
     "metadata": {
      "needs_background": "light"
     },
     "output_type": "display_data"
    }
   ],
   "source": [
    "test_fig,test_axs = plt.subplots(1,2,figsize=(15,7))\n",
    "\n",
    "kernel_all_da.sel(wnum=1005).plot(ax=test_axs[0])\n",
    "test_axs[0].set_title('Vectorized solution')\n",
    "\n",
    "kernel_1005_da.plot(ax=test_axs[1])\n",
    "test_axs[1].set_title('Single wavelength solution')\n",
    "\n",
    "print((kernel_all_da.sel(wnum=1005) == kernel_1005_da).all())"
   ]
  },
  {
   "cell_type": "markdown",
   "id": "1cbe6ae5-dc27-4d24-8539-cf0f8bb63f41",
   "metadata": {},
   "source": [
    "They are identical, so the vectorization was successful."
   ]
  },
  {
   "cell_type": "markdown",
   "id": "d083a8a0-cb7a-4e4d-8622-e8670ad43f04",
   "metadata": {},
   "source": [
    "#### Compute trends predicted by the kernel"
   ]
  },
  {
   "cell_type": "code",
   "execution_count": 168,
   "id": "824d7c85-9c6f-426a-b1a5-34a9e856ebf8",
   "metadata": {},
   "outputs": [],
   "source": [
    "predicted_spectral_trends = skintemp_trends * kernel_all_da"
   ]
  },
  {
   "cell_type": "markdown",
   "id": "551e6abc-522a-4e64-a78c-3d6cebb37e36",
   "metadata": {},
   "source": [
    "### Compare trends predicted by the kernel with trends from AIRS observations"
   ]
  },
  {
   "cell_type": "code",
   "execution_count": 188,
   "id": "235a4bc1-09fb-4100-a9a7-a3206e32e948",
   "metadata": {},
   "outputs": [
    {
     "data": {
      "text/plain": [
       "Text(0.5, 1.0, 'Trend at 1005 $ \\\\mathrm{cm^{-1}} $ predicted from surface temperature trend')"
      ]
     },
     "execution_count": 188,
     "metadata": {},
     "output_type": "execute_result"
    },
    {
     "data": {
      "image/png": "[encoded data removed]",
      "text/plain": [
       "<Figure size 1080x504 with 4 Axes>"
      ]
     },
     "metadata": {
      "needs_background": "light"
     },
     "output_type": "display_data"
    }
   ],
   "source": [
    "wnum = 1005\n",
    "palette = sns.diverging_palette(257, 10, s=99, l=44, sep=15, n=8, as_cmap=True)\n",
    "pallete = 'bwr'\n",
    "\n",
    "eval_fig,eval_axs = plt.subplots(1,2,figsize=(15,7))\n",
    "\n",
    "obs_data = all_data_spec_olr['TREND'].sel(wnum=wnum)\n",
    "pred_data = predicted_spectral_trends.sel(wnum=wnum)\n",
    "\n",
    "vmin = min(obs_data.min(),pred_data.min())\n",
    "vmax = max(obs_data.max(),pred_data.max())\n",
    "glob_max = max(np.abs(vmin),np.abs(vmax))\n",
    "\n",
    "all_data_spec_olr['TREND'].sel(wnum=wnum).plot(ax=eval_axs[0],vmin=-glob_max,vmax=glob_max,cmap=palette)\n",
    "eval_axs[0].set_title('Observed trend at %s $ \\mathrm{cm^{-1}} $' % wnum)\n",
    "\n",
    "predicted_spectral_trends.sel(wnum=wnum).plot(ax=eval_axs[1],vmin=-glob_max,vmax=glob_max,cmap=palette)\n",
    "eval_axs[1].set_title('Trend at %s $ \\mathrm{cm^{-1}} $ predicted from surface temperature trend' % wnum)\n"
   ]
  },
  {
   "cell_type": "code",
   "execution_count": 193,
   "id": "a0dd3aea-9ad8-4c7a-94ec-24533aebebdf",
   "metadata": {},
   "outputs": [],
   "source": [
    "def compare_trends(obs,pred,wnum):\n",
    "    \n",
    "    palette = sns.diverging_palette(257, 10, s=99, l=44, sep=15, n=8, as_cmap=True)\n",
    "\n",
    "    eval_fig,eval_axs = plt.subplots(1,2,figsize=(15,7))\n",
    "\n",
    "    obs_data = obs.sel(wnum=wnum)\n",
    "    pred_data = pred.sel(wnum=wnum)\n",
    "\n",
    "    vmin = min(obs_data.min(),pred_data.min())\n",
    "    vmax = max(obs_data.max(),pred_data.max())\n",
    "    glob_max = max(np.abs(vmin),np.abs(vmax))\n",
    "\n",
    "    all_data_spec_olr['TREND'].sel(wnum=wnum).plot(ax=eval_axs[0],vmin=-glob_max,vmax=glob_max,cmap=palette)\n",
    "    eval_axs[0].set_title('Observed trend at %s $ \\mathrm{cm^{-1}} $' % wnum)\n",
    "\n",
    "    predicted_spectral_trends.sel(wnum=wnum).plot(ax=eval_axs[1],vmin=-glob_max,vmax=glob_max,cmap=palette)\n",
    "    eval_axs[1].set_title('Trend at %s $ \\mathrm{cm^{-1}} $ predicted from surface temperature trend' % wnum)\n",
    "    \n",
    "#     return eval_fig"
   ]
  },
  {
   "cell_type": "code",
   "execution_count": 198,
   "id": "17ee98f3-784a-4f57-a196-3409ad39895e",
   "metadata": {},
   "outputs": [
    {
     "data": {
      "image/png": "[encoded data removed]",
      "text/plain": [
       "<Figure size 1080x504 with 4 Axes>"
      ]
     },
     "metadata": {
      "needs_background": "light"
     },
     "output_type": "display_data"
    }
   ],
   "source": [
    "compare_trends(all_data_spec_olr['TREND'],predicted_spectral_trends,505)"
   ]
  },
  {
   "cell_type": "code",
   "execution_count": null,
   "id": "c38190d7-7dac-43c6-b19b-050f6316bef5",
   "metadata": {},
   "outputs": [],
   "source": [
    "outall = dBvdT_vec(TTs,nnus,1000)"
   ]
  },
  {
   "cell_type": "code",
   "execution_count": null,
   "id": "8928aed0-18b4-466a-af6e-b289cec10bc7",
   "metadata": {},
   "outputs": [],
   "source": [
    "dBvdT"
   ]
  },
  {
   "cell_type": "markdown",
   "id": "e332ac77-bb1f-4e01-85cf-cf4072a54eb6",
   "metadata": {
    "jp-MarkdownHeadingCollapsed": true,
    "tags": []
   },
   "source": [
    "#### Old stuff"
   ]
  },
  {
   "cell_type": "markdown",
   "id": "1903a960-e51e-4126-803e-ab4a01b67cb9",
   "metadata": {},
   "source": [
    "The partial of the Planck function with respect to temperature is:"
   ]
  },
  {
   "cell_type": "markdown",
   "id": "abb5444b-b245-435c-9b88-59336d6325ef",
   "metadata": {},
   "source": [
    "$$ B_{\\nu}(T) = 2hc^2{\\nu}^3 \\frac{1}{\\exp(hc\\nu/k_BT)-1}d\\nu $$"
   ]
  },
  {
   "cell_type": "markdown",
   "id": "cae3f08c-9097-49a2-b02a-310ce3824969",
   "metadata": {},
   "source": [
    "Newest:  \n",
    "\n",
    "$$ \\frac{dB_{\\nu}(T)}{dT} =  \\frac{2 h^2 c^3 {\\nu}^4}{kT^2} \\exp\\left(\\frac{hc\\nu}{k_BT}\\right) \\frac{1}{\\left[\\exp(hc\\nu/k_BT) - 1\\right]^2} d\\nu $$"
   ]
  },
  {
   "cell_type": "markdown",
   "id": "927f13f8-96dd-4a72-a757-1da24a4872fe",
   "metadata": {},
   "source": [
    "Newer:\n",
    "\n",
    "$$ \\frac{dB_{\\nu}(T)}{dT} =  2\\times 10^{10} hc^{-2}{\\nu}^4 d\\nu \\left(\\frac{100hc\\nu}{k_BT^2}\\right) \\exp\\left(\\frac{100hc\\nu}{k_BT}\\right) \\frac{1}{\\left[\\exp(100hc\\nu/k_BT) - 1\\right]^2}  $$"
   ]
  },
  {
   "cell_type": "markdown",
   "id": "90480ea4-0144-4311-b81e-fa34fc023e79",
   "metadata": {},
   "source": [
    "Newer:\n",
    "\n",
    "$$ \\frac{dB_{\\nu}(T)}{dT} =  \\frac{2 h^2{\\nu}^4}{c^2k_B T^2} \\exp\\left(\\frac{h\\nu}{k_BT}\\right) \\frac{1}{\\left[\\exp(h\\nu/k_BT) - 1\\right]^2} d\\nu $$"
   ]
  },
  {
   "cell_type": "markdown",
   "id": "c8e038d0-948d-44a7-b807-ba2c27c6bf74",
   "metadata": {},
   "source": [
    "Old:\n",
    "$$ \\frac{dB_{\\nu}(T)}{dT} =  2\\times 10^8 hc^2{\\nu}^3 d\\nu \\left(\\frac{100hc\\nu}{k_BT^2}\\right) \\exp\\left(\\frac{100hc\\nu}{k_BT}\\right) \\frac{1}{\\left[\\exp(100hc\\nu/k_BT) - 1\\right]^2}  $$"
   ]
  },
  {
   "cell_type": "markdown",
   "id": "6402f9c7-dc85-41ed-8831-dbaaaca3121c",
   "metadata": {},
   "source": [
    "#### Code up and test against Wien's Law"
   ]
  },
  {
   "cell_type": "code",
   "execution_count": 1,
   "id": "cda6a0f5-79c9-435f-a781-bd420cffd4da",
   "metadata": {},
   "outputs": [],
   "source": [
    "import sys\n",
    "# Add common resources folder to path\n",
    "sys.path.append('/glade/u/home/jonahshaw/Scripts/git_repos/spectral_ice/')\n",
    "sys.path.append('/glade/u/home/jonahshaw/Scripts/git_repos/spectral_ice/Common/') # is this good or not good. I should reorg.\n",
    "\n",
    "from imports import (\n",
    "    pd, np, xr, plt, sns, os, \n",
    "    glob, stats\n",
    "    )"
   ]
  },
  {
   "cell_type": "code",
   "execution_count": 8,
   "id": "23d2e22a-635f-44c9-9ee1-ca9feaf1e8f0",
   "metadata": {
    "tags": []
   },
   "outputs": [],
   "source": [
    "def Blam(T,lam):\n",
    "    # nu is the wavenumber with units [1/m]\n",
    "    h = 6.62606957e-34 # [J*s] Planck constant\n",
    "    kB = 1.3806488e-23 # [J/K] Boltzmann constant\n",
    "    c = 299792458 # [m/s] speed of light\n",
    "    \n",
    "    return (2*h*c**2/lam**5) * 1/(np.exp((h*c/lam)/(kB*T)) - 1)\n",
    "\n",
    "Blam_vec = np.vectorize(Blam)"
   ]
  },
  {
   "cell_type": "code",
   "execution_count": 16,
   "id": "8cc67725-90f2-4efa-8bed-0e0885a3fae7",
   "metadata": {},
   "outputs": [
    {
     "data": {
      "image/png": "[encoded data removed]",
      "text/plain": [
       "<Figure size 432x288 with 1 Axes>"
      ]
     },
     "metadata": {
      "needs_background": "light"
     },
     "output_type": "display_data"
    }
   ],
   "source": [
    "# Physical constants in SI units: Planck's constant (J.s),\n",
    "# the speed of light (m.s-1), Boltzmann's constant (J.K-1)\n",
    "h, c, kB = 6.62606957e-34, 299792458, 1.3806488e-23\n",
    "# Sun temperature, K\n",
    "# T = 5778\n",
    "T = 250\n",
    "\n",
    "lambda_min = 1000   # nm\n",
    "lambda_max = 75000   # nm\n",
    "n = 5000\n",
    "wv = np.linspace(lambda_min, lambda_max, n)\n",
    "\n",
    "# Planck curve as a function of wavelength in nm\n",
    "B = 2 * h * c**2 / (wv*1.e-9)**5 / (np.exp(h * c / wv/1.e-9 / kB / T) - 1)\n",
    "\n",
    "fig = plt.figure()\n",
    "ax = fig.add_subplot(111)\n",
    "ax.plot(wv, B, 'k', lw=2)\n",
    "ax.plot(wv, -Blam_vec(T,wv*1e-9),'blue',lw=2) # great, my function works as well as this other one\n",
    "\n",
    "ax.set_xlabel(r'$\\lambda\\;/\\mathrm{nm}$')\n",
    "ax.set_ylabel(r'$B(\\lambda)\\;/\\mathrm{W\\,sr^{−1}\\,m^{−3}}$')\n",
    "\n",
    "# Wavelength decreases from left to right: 4000 nm to 0:\n",
    "ax.set_xlim(left=75000, right=0)\n",
    "ax.minorticks_on()\n",
    "ax.grid(which='both')\n",
    "\n",
    "plt.show()\n"
   ]
  },
  {
   "cell_type": "code",
   "execution_count": 76,
   "id": "fb2e00b1-fb6b-4b5f-bf0a-001224989c77",
   "metadata": {},
   "outputs": [],
   "source": [
    "def Bv(T,nu):\n",
    "    # nu is the wavenumber with units [1/m]\n",
    "    h = 6.626e-34 # [J*s] Planck constant\n",
    "    kB = 1.38e-23 # [J/K] Boltzmann constant\n",
    "    c = 299792458 # [m/s] speed of light\n",
    "    \n",
    "    return (2*h*c**2*nu**3) * 1/(np.exp(h*nu*c/(kB*T)) - 1) # W/m^2 per m-1 per Sr\n",
    "\n",
    "Bv_vec = np.vectorize(Bv)"
   ]
  },
  {
   "cell_type": "code",
   "execution_count": 80,
   "id": "37f85c3c-73e2-4b8d-a44c-382c548919db",
   "metadata": {},
   "outputs": [],
   "source": [
    "def Bnu(T,nu):\n",
    "    h = 6.626e-34 # Planck constant\n",
    "    kB = 1.38e-23 # [J/K] Boltzmann constant\n",
    "    c = 299792458 # [m/s] speed of light\n",
    "    \n",
    "#     part1 = 2e8**h*c**2*nu**3\n",
    "    part1 = 2e-8**h*c**2*nu**3\n",
    "    part2 = 1 / (np.exp(h*c*100*nu / (kB*T)) - 1)\n",
    "    \n",
    "    return part1*part2 # W/m^2 per cm-1\n",
    "\n",
    "Bnu_vec = np.vectorize(Bnu)"
   ]
  },
  {
   "cell_type": "code",
   "execution_count": 50,
   "id": "d9d5f008-848a-4c78-bd70-4c402a32aeac",
   "metadata": {},
   "outputs": [],
   "source": [
    "sigma = 5.678e-8 # [Wm^-2K^-4]"
   ]
  },
  {
   "cell_type": "code",
   "execution_count": 51,
   "id": "320d9463-4acf-4eb8-be24-5d5f881a327d",
   "metadata": {},
   "outputs": [
    {
     "name": "stdout",
     "output_type": "stream",
     "text": [
      "221.796875\n"
     ]
    }
   ],
   "source": [
    "Ptot = 250**4 * sigma\n",
    "print(Ptot)"
   ]
  },
  {
   "cell_type": "code",
   "execution_count": 73,
   "id": "a199d588-adcf-45f8-a230-06981ae68dad",
   "metadata": {},
   "outputs": [],
   "source": [
    "Ts = np.arange(200,301,1)\n",
    "\n",
    "# nus = np.linspace(500,2000,200)\n",
    "nus2 = np.linspace(1,4000,2000) # Intended to be [cm-1]"
   ]
  },
  {
   "cell_type": "code",
   "execution_count": 74,
   "id": "559ff4c9-bb09-49d9-bbfa-2224f9792b53",
   "metadata": {},
   "outputs": [
    {
     "data": {
      "text/plain": [
       "Text(0, 0.5, 'Radiance (Wm-2 per m-1 per Sr')"
      ]
     },
     "execution_count": 74,
     "metadata": {},
     "output_type": "execute_result"
    },
    {
     "data": {
      "image/png": "[encoded data removed]",
      "text/plain": [
       "<Figure size 432x288 with 1 Axes>"
      ]
     },
     "metadata": {
      "needs_background": "light"
     },
     "output_type": "display_data"
    }
   ],
   "source": [
    "nus2_m = nus2 * 100\n",
    "\n",
    "plt.plot(nus2,Bv_vec(250,nus2_m))\n",
    "\n",
    "plt.xlabel('Wavenumber (cm-1)')\n",
    "plt.ylabel('Radiance (Wm-2 per m-1 per Sr')"
   ]
  },
  {
   "cell_type": "code",
   "execution_count": 78,
   "id": "13876044-57af-4e79-9a6f-c800dcfeeaa2",
   "metadata": {},
   "outputs": [
    {
     "data": {
      "text/plain": [
       "221.08978345634225"
      ]
     },
     "execution_count": 78,
     "metadata": {},
     "output_type": "execute_result"
    }
   ],
   "source": [
    "# The integration nearly matches the Stefan-Boltzmann law, great!\n",
    "np.trapz(Bv_vec(250,nus2 * 100),nus2*100)*np.pi"
   ]
  },
  {
   "cell_type": "code",
   "execution_count": 81,
   "id": "ef54e7f3-0cbb-4a44-a058-f208051e8885",
   "metadata": {},
   "outputs": [
    {
     "data": {
      "text/plain": [
       "Text(0, 0.5, 'Radiance (Wm-2 per cm-1 per Sr')"
      ]
     },
     "execution_count": 81,
     "metadata": {},
     "output_type": "execute_result"
    },
    {
     "data": {
      "image/png": "[encoded data removed]",
      "text/plain": [
       "<Figure size 432x288 with 1 Axes>"
      ]
     },
     "metadata": {
      "needs_background": "light"
     },
     "output_type": "display_data"
    }
   ],
   "source": [
    "plt.plot(nus2,Bnu_vec(250,nus2))\n",
    "\n",
    "plt.xlabel('Wavenumber (cm-1)')\n",
    "plt.ylabel('Radiance (Wm-2 per cm-1 per Sr')"
   ]
  },
  {
   "cell_type": "code",
   "execution_count": 79,
   "id": "11315512-e380-4c99-b6f7-7100e0d94ee9",
   "metadata": {},
   "outputs": [
    {
     "data": {
      "text/plain": [
       "5.3105239819187445e+26"
      ]
     },
     "execution_count": 79,
     "metadata": {},
     "output_type": "execute_result"
    }
   ],
   "source": [
    "np.trapz(Bnu_vec(250,nus2),nus2)"
   ]
  },
  {
   "cell_type": "code",
   "execution_count": 29,
   "id": "1166cf3d-fdd3-40c5-90fc-a706dc3c2ceb",
   "metadata": {},
   "outputs": [
    {
     "data": {
      "text/plain": [
       "0.0008869315856247926"
      ]
     },
     "execution_count": 29,
     "metadata": {},
     "output_type": "execute_result"
    }
   ],
   "source": [
    "out.max()"
   ]
  },
  {
   "cell_type": "code",
   "execution_count": 31,
   "id": "b05da597-be7d-4e57-84c0-0eee76f10d86",
   "metadata": {},
   "outputs": [
    {
     "data": {
      "text/plain": [
       "(array([32]),)"
      ]
     },
     "execution_count": 31,
     "metadata": {},
     "output_type": "execute_result"
    }
   ],
   "source": [
    "np.where(out == out.max())"
   ]
  },
  {
   "cell_type": "code",
   "execution_count": 32,
   "id": "67c694af-ad51-42d1-b2af-2670b805dbbb",
   "metadata": {},
   "outputs": [
    {
     "data": {
      "text/plain": [
       "489.4472361809045"
      ]
     },
     "execution_count": 32,
     "metadata": {},
     "output_type": "execute_result"
    }
   ],
   "source": [
    "nus2[32]"
   ]
  },
  {
   "cell_type": "code",
   "execution_count": 22,
   "id": "f1c6d711-3948-447d-83bb-23f191e980f0",
   "metadata": {},
   "outputs": [
    {
     "name": "stdout",
     "output_type": "stream",
     "text": [
      "14697500000000.0\n",
      "49025.582891748396\n",
      "490.25582891748394\n"
     ]
    }
   ],
   "source": [
    "v_max = 5.879e10*250 # [Hz]\n",
    "nu_max = v_max / c # [1/m]\n",
    "nu_max_cm = nu_max / 100\n",
    "print(v_max)\n",
    "print(nu_max)\n",
    "print(nu_max_cm)"
   ]
  },
  {
   "cell_type": "markdown",
   "id": "89d4f8a3-d532-49b7-b241-f8af0b0598f3",
   "metadata": {},
   "source": [
    "This looks right. According to Wien's Law, the peak can be calculated from the temperature:"
   ]
  },
  {
   "cell_type": "code",
   "execution_count": 81,
   "id": "0d53b065-404b-4103-ba7b-fd6e2d570dee",
   "metadata": {},
   "outputs": [
    {
     "name": "stdout",
     "output_type": "stream",
     "text": [
      "1.1599999999999999e-05\n",
      "862.0689655172414\n"
     ]
    }
   ],
   "source": [
    "T = 250 # [K]\n",
    "\n",
    "lambd = 2.9e-3 / T\n",
    "print(lambd)\n",
    "\n",
    "nu = 1/(100*lambd)\n",
    "print(nu)"
   ]
  },
  {
   "cell_type": "code",
   "execution_count": null,
   "id": "37b91bf7-c77a-4ec4-bfad-15e49ddcb243",
   "metadata": {},
   "outputs": [],
   "source": []
  },
  {
   "cell_type": "code",
   "execution_count": 30,
   "id": "b26feb3a-16a6-47e4-b35c-5f4e59b05073",
   "metadata": {},
   "outputs": [],
   "source": [
    "# Define a function to calculate the change in irradiance at a given wavenumber from the temperature change\n",
    "def dBvdT(T,nu,dnu):\n",
    "    h = 6.626e-34 # Planck constant\n",
    "    kB = 1.38e-23 # [J/K] Boltzmann constant\n",
    "    c = 299792458 # [m/s] speed of light\n",
    "    \n",
    "    part1 = 2 * 10**8 * h * c**2 * nu**3 * dnu\n",
    "    \n",
    "    part2 = 100*h*c*nu / (kB*T**2)\n",
    "    \n",
    "    part3 = np.exp(100*h*c*nu / (kB*T))\n",
    "    \n",
    "    part4 = 1 / (part3 - 1)**2\n",
    "\n",
    "# Need to convert to irradiance using either pi or 4pi\n",
    "    \n",
    "    return part1*part2*part3*part4 # *np.pi\n",
    "\n",
    "\n",
    "dBvdT_vec = np.vectorize(dBvdT)"
   ]
  },
  {
   "cell_type": "markdown",
   "id": "a7034ead-b458-4d98-9078-a4cefe14280b",
   "metadata": {},
   "source": [
    "Lets plot this function as a sanity test and to get some intuition on the processes at play."
   ]
  },
  {
   "cell_type": "code",
   "execution_count": 60,
   "id": "4a46cdfd-e85d-44a5-a735-4d2a4fe817c4",
   "metadata": {},
   "outputs": [],
   "source": [
    "TTs,nnus = np.meshgrid(Ts,nus)"
   ]
  },
  {
   "cell_type": "code",
   "execution_count": 56,
   "id": "ee85e21a-4821-4ef3-b803-cf42cf3b23c2",
   "metadata": {},
   "outputs": [],
   "source": [
    "out500 = dBvdT_vec(Ts,500,10)\n",
    "out1000 = dBvdT_vec(Ts,1000,10)\n",
    "out2000 = dBvdT_vec(Ts,2000,10)"
   ]
  },
  {
   "cell_type": "code",
   "execution_count": 61,
   "id": "40379ccb-94a1-40f7-9d36-71052961b1de",
   "metadata": {},
   "outputs": [],
   "source": [
    "outall = dBvdT_vec(TTs,nnus,10)"
   ]
  },
  {
   "cell_type": "code",
   "execution_count": 59,
   "id": "ba906390-d4ce-4e5a-bbcc-7cc265e1b87f",
   "metadata": {},
   "outputs": [
    {
     "data": {
      "text/plain": [
       "<matplotlib.legend.Legend at 0x2b57d07445d0>"
      ]
     },
     "execution_count": 59,
     "metadata": {},
     "output_type": "execute_result"
    },
    {
     "data": {
      "image/png": "[encoded data removed]",
      "text/plain": [
       "<Figure size 432x288 with 1 Axes>"
      ]
     },
     "metadata": {
      "needs_background": "light"
     },
     "output_type": "display_data"
    }
   ],
   "source": [
    "plt.plot(Ts,out500,label='500cm-1')\n",
    "plt.plot(Ts,out1000,label='1000cm-1')\n",
    "plt.plot(Ts,out2000,label='2000cm-1')\n",
    "\n",
    "plt.legend()"
   ]
  },
  {
   "cell_type": "markdown",
   "id": "05841b24-419f-460a-9ff1-0175f50c7b73",
   "metadata": {},
   "source": [
    "While the concavity of these lines is different, they all demonstrate that at warmer temperatures, a unit change in temperature causes a greater increase in the emitted blackbody radiation."
   ]
  },
  {
   "cell_type": "code",
   "execution_count": 69,
   "id": "ce6c9cb2-82a2-4aa1-9228-d661da3589dd",
   "metadata": {},
   "outputs": [
    {
     "data": {
      "text/plain": [
       "<matplotlib.colorbar.Colorbar at 0x2b57d12570d0>"
      ]
     },
     "execution_count": 69,
     "metadata": {},
     "output_type": "execute_result"
    },
    {
     "data": {
      "image/png": "[encoded data removed]",
      "text/plain": [
       "<Figure size 432x288 with 2 Axes>"
      ]
     },
     "metadata": {
      "needs_background": "light"
     },
     "output_type": "display_data"
    }
   ],
   "source": [
    "im = plt.contourf(nnus,TTs,outall)\n",
    "\n",
    "plt.colorbar(im)"
   ]
  },
  {
   "cell_type": "markdown",
   "id": "33af4cd9-4ea9-4912-820c-f0badf82a2df",
   "metadata": {},
   "source": [
    "This contour plot shows the same thing, but also indicates that longer wavelengths (smaller wavenumbers are more sensitive to temperature changes in the temperature regime of the Arctic. I might guess that we're roughly looking at the peak of the Planck function at ~700cm-1. Since the Planck function both grows and shifts to shorter wavelengths at warmer temperatures, the peak should be on bluer side of the peak wavelength determined by Wien's law."
   ]
  },
  {
   "cell_type": "code",
   "execution_count": 73,
   "id": "87d76069-48c6-42b6-ac5b-29f0d5747aa9",
   "metadata": {},
   "outputs": [
    {
     "name": "stdout",
     "output_type": "stream",
     "text": [
      "1.0357142857142856e-05\n",
      "965.5172413793105\n"
     ]
    }
   ],
   "source": [
    "T = 280 # [K]\n",
    "\n",
    "lambd = 2.9e-3 / T\n",
    "print(lambd)\n",
    "\n",
    "nu = 1/(100*lambd)\n",
    "print(nu)"
   ]
  },
  {
   "cell_type": "markdown",
   "id": "e88997d3-363b-4643-a742-917ef9946b6c",
   "metadata": {},
   "source": [
    "The peak is actually redder than the Wien's law peak, which I find confusing..."
   ]
  },
  {
   "cell_type": "markdown",
   "id": "2021fdd7-29ce-447a-a833-f29168c50b8b",
   "metadata": {},
   "source": [
    "Lets load the AIRS data and see if my units are right/if this even remotely works."
   ]
  },
  {
   "cell_type": "markdown",
   "id": "5ef4e0bf-3b83-4d48-bffa-c4d8ccc33683",
   "metadata": {},
   "source": [
    "## Load pre-processed AIRS trends"
   ]
  },
  {
   "cell_type": "markdown",
   "id": "8d9fc3af-c6c9-4c0b-9fd7-188855efc944",
   "metadata": {},
   "source": [
    "### Spectral Irradiance Trends"
   ]
  },
  {
   "cell_type": "code",
   "execution_count": 7,
   "id": "6cdb646a-1040-408e-9dc5-0a2347019939",
   "metadata": {},
   "outputs": [],
   "source": [
    "airs_dir = '/glade/work/jonahshaw/obs/AIRS/'\n",
    "\n",
    "all_data_spec_olr = xr.open_dataset('%s/%s/olr_spectral_trends_lonavg.nc' % (airs_dir,'arc_proc/'))\n",
    "\n",
    "all_data_spec_olr_clr = xr.open_dataset('%s/%s/olr_clr_spectral_trends_lonavg.nc' % (airs_dir,'arc_proc/'))"
   ]
  },
  {
   "cell_type": "markdown",
   "id": "940d1f4a-b830-4de0-b737-5c322786c633",
   "metadata": {},
   "source": [
    "### Surface skin temperature"
   ]
  },
  {
   "cell_type": "markdown",
   "id": "a2aa9a66-74bc-46f2-adcf-374809b99739",
   "metadata": {},
   "source": [
    "#### Create function to average over the ascending and descending orbits"
   ]
  },
  {
   "cell_type": "code",
   "execution_count": 17,
   "id": "10f2f415-23f7-46c8-8a49-61c9e7dbcd6e",
   "metadata": {},
   "outputs": [],
   "source": [
    "def average_AIRS_orbits(var,tseries_dir='/glade/work/jonahshaw/obs/AIRS/AIRS3STM_7.0/tseries/'):\n",
    "    \n",
    "    ascending_file = glob.glob('%s/*%s_A.*.nc' % (tseries_dir,var))#[0]\n",
    "    descending_file = glob.glob('%s/*%s_D.*.nc' % (tseries_dir,var))#[0]\n",
    "                                \n",
    "    if (len(ascending_file)!=1 or len(descending_file)!=1): # Handle string errors\n",
    "        print('Unique ascending/descending file not found')\n",
    "        return ascending_file,descending_file\n",
    "    \n",
    "#     print(ascending_file,descending_file)\n",
    "    \n",
    "    # Open timeseries files\n",
    "    ds_A = xr.open_dataset(ascending_file[0])\n",
    "    ds_D = xr.open_dataset(descending_file[0])\n",
    "    \n",
    "    # Rename removing orbit suffix\n",
    "    ds_A = ds_A.rename({'%s_A' % var:var})\n",
    "    ds_D = ds_D.rename({'%s_D' % var:var})\n",
    "    \n",
    "    # Add orbit dimension for concatenation.\n",
    "    ds_A = ds_A[var].assign_coords({'orbit':0}).expand_dims('orbit')\n",
    "    ds_D = ds_D[var].assign_coords({'orbit':1}).expand_dims('orbit')\n",
    "    \n",
    "    ds_both = xr.merge([ds_A,ds_D])\n",
    "    ds_net = ds_both.mean(dim='orbit')[var]\n",
    "    \n",
    "    return ds_net\n",
    "#     return ds_A,ds_D"
   ]
  },
  {
   "cell_type": "markdown",
   "id": "029feda8-56d5-4a40-ab1b-9b93656fcd24",
   "metadata": {},
   "source": [
    "#### New slower function that uses scipy.stats.linregress via apply_ufunc and gets info on statistical significance"
   ]
  },
  {
   "cell_type": "code",
   "execution_count": 20,
   "id": "af461fe8-e92b-4249-80e8-7009e5515a26",
   "metadata": {
    "tags": []
   },
   "outputs": [],
   "source": [
    "def linregress2(x, y):\n",
    "    # Wrapper around scipy linregress to use in apply_ufunc\n",
    "    slope, intercept, r_value, p_value, std_err = stats.linregress(x, y)\n",
    "    return np.array([slope, intercept, r_value, p_value, std_err])"
   ]
  },
  {
   "cell_type": "code",
   "execution_count": 21,
   "id": "62df1aae-e6d6-4b4f-9f90-2f9b49559be9",
   "metadata": {},
   "outputs": [],
   "source": [
    "def vectorized_linregress2(data):\n",
    "    '''\n",
    "    Package for vectorized linregress call from: \n",
    "    https://stackoverflow.com/questions/52094320/with-xarray-how-to-parallelize-1d-operations-on-a-multidimensional-dataset. \n",
    "    Not very general.\n",
    "    '''\n",
    "    \n",
    "    regressed_month = xr.apply_ufunc(\n",
    "        linregress2, data['year'], data,\n",
    "        input_core_dims=[['year'], ['year']],\n",
    "        output_core_dims=[[\"parameter\"]],\n",
    "        vectorize=True,\n",
    "        dask=\"parallelized\",\n",
    "        output_dtypes=['float64'],\n",
    "        output_sizes={\"parameter\": 5},\n",
    "                      )\n",
    "    \n",
    "    return regressed_month"
   ]
  },
  {
   "cell_type": "code",
   "execution_count": 22,
   "id": "2fbb70ca-858b-4bc8-aa4c-85b77d3a9188",
   "metadata": {},
   "outputs": [],
   "source": [
    "def compute_trends_n_signif2(subset_data):\n",
    "    '''\n",
    "    Package the trend calculating lines to save space. V2 uses vectorized_linregress2\n",
    "    '''\n",
    "    # create empty arrays for needed output\n",
    "    _trends = xr.zeros_like(subset_data.groupby('time.month').mean('time')).load()\n",
    "    _rvalues = _trends.copy()\n",
    "    _pvalues = _trends.copy()\n",
    "\n",
    "    # Potentially I should be able to format this to avoid this for loop too\n",
    "    for i,_month in subset_data.groupby('time.month'):\n",
    "#         print(i,end='')\n",
    "\n",
    "        _yearlydata = _month.groupby('time.year').mean('time').chunk({'year': -1}) # let the other dimensions chunk however?\n",
    "        regressed_month = vectorized_linregress2(_yearlydata)\n",
    "\n",
    "        ii = i-1 # the count starts at month 1 (January) but we need to index starting at 0\n",
    "        \n",
    "        _trends[ii] = regressed_month.isel(parameter=0)\n",
    "        _rvalues[ii] = regressed_month.isel(parameter=2)\n",
    "        _pvalues[ii] = regressed_month.isel(parameter=3)\n",
    "\n",
    "    # Calculate statistical significance\n",
    "    N = len(_yearlydata.year)\n",
    "    dof=N-2\n",
    "\n",
    "    tcrit=stats.t.ppf(0.975,dof)  ## two-sided 95%\n",
    "    t=_rvalues*np.sqrt(N-2)/np.sqrt((1-_rvalues*_rvalues))\n",
    "\n",
    "    _statsig=(1-_pvalues)*100\n",
    "    _notnull = t > tcrit # disproving the null hypothesis (slope is zero)    \n",
    "    \n",
    "    return _trends,_statsig,_notnull"
   ]
  },
  {
   "cell_type": "code",
   "execution_count": 23,
   "id": "20e73e17-946d-424c-80ac-eec14e201916",
   "metadata": {},
   "outputs": [
    {
     "name": "stderr",
     "output_type": "stream",
     "text": [
      "/glade/work/jonahshaw/miniconda3/envs/cheycomp/lib/python3.7/site-packages/xarray/core/nanops.py:142: RuntimeWarning: Mean of empty slice\n",
      "  return np.nanmean(a, axis=axis, dtype=dtype)\n"
     ]
    }
   ],
   "source": [
    "AIRS_surf_skintemp = average_AIRS_orbits('SurfSkinTemp')"
   ]
  },
  {
   "cell_type": "code",
   "execution_count": 26,
   "id": "43905113-b775-4fde-851d-4c7f8bbac8b0",
   "metadata": {},
   "outputs": [
    {
     "name": "stderr",
     "output_type": "stream",
     "text": [
      "/glade/work/jonahshaw/miniconda3/envs/cheycomp/lib/python3.7/site-packages/xarray/core/nanops.py:142: RuntimeWarning: Mean of empty slice\n",
      "  return np.nanmean(a, axis=axis, dtype=dtype)\n",
      "/glade/work/jonahshaw/miniconda3/envs/cheycomp/lib/python3.7/site-packages/xarray/core/nanops.py:142: RuntimeWarning: Mean of empty slice\n",
      "  return np.nanmean(a, axis=axis, dtype=dtype)\n"
     ]
    }
   ],
   "source": [
    "skintemp_subset = AIRS_surf_skintemp.sel(time=slice('2003-01-01','2020-12-15'),lat=slice(None,59)).mean('lon')\n",
    "\n",
    "skintemp_trends,skintemp_statsig,skintemp_notnull = compute_trends_n_signif2(skintemp_subset)"
   ]
  },
  {
   "cell_type": "code",
   "execution_count": 36,
   "id": "19ff3787-16d6-4667-88f3-9255cf2f4445",
   "metadata": {},
   "outputs": [],
   "source": [
    "# Calculate the average skin temperature over the observation period so the linear Planck correction is most accurate\n",
    "skintemp_monlat_avg = skintemp_subset.groupby('time.month').mean('time')"
   ]
  },
  {
   "cell_type": "markdown",
   "id": "b0fc02a5-05c9-4f02-af76-0cc12af32682",
   "metadata": {},
   "source": [
    "#### Test at the 1005cm-1 spectral bin"
   ]
  },
  {
   "cell_type": "code",
   "execution_count": 40,
   "id": "7e0d0b1e-556d-4bb9-98d4-01339ac9a876",
   "metadata": {},
   "outputs": [],
   "source": [
    "test = dBvdT_vec(skintemp_monlat_avg,1005,10)"
   ]
  },
  {
   "cell_type": "code",
   "execution_count": 49,
   "id": "1eceae8d-fc10-4c39-affe-392eadee9deb",
   "metadata": {},
   "outputs": [
    {
     "data": {
      "text/plain": [
       "<matplotlib.collections.QuadMesh at 0x2b57d069ca90>"
      ]
     },
     "execution_count": 49,
     "metadata": {},
     "output_type": "execute_result"
    },
    {
     "data": {
      "image/png": "[encoded data removed]",
      "text/plain": [
       "<Figure size 432x288 with 2 Axes>"
      ]
     },
     "metadata": {
      "needs_background": "light"
     },
     "output_type": "display_data"
    }
   ],
   "source": [
    "skintemp_monlat_avg.plot()"
   ]
  },
  {
   "cell_type": "code",
   "execution_count": 48,
   "id": "8b9a4c07-45c1-4b76-9d8e-b522d416c960",
   "metadata": {},
   "outputs": [
    {
     "data": {
      "text/plain": [
       "<AxesSubplot:>"
      ]
     },
     "execution_count": 48,
     "metadata": {},
     "output_type": "execute_result"
    },
    {
     "data": {
      "image/png": "[encoded data removed]",
      "text/plain": [
       "<Figure size 432x288 with 2 Axes>"
      ]
     },
     "metadata": {
      "needs_background": "light"
     },
     "output_type": "display_data"
    }
   ],
   "source": [
    "sns.heatmap(test)"
   ]
  },
  {
   "cell_type": "markdown",
   "id": "73cda895-f372-4554-8775-ee4f0adbb653",
   "metadata": {},
   "source": [
    "The predicted irradiance change is the product of the surface temp trend and the kernel (partial of the planck distribution at the average temperature)"
   ]
  },
  {
   "cell_type": "code",
   "execution_count": 44,
   "id": "445d61f2-70c2-414c-b0ce-47c0d62724d8",
   "metadata": {},
   "outputs": [
    {
     "data": {
      "text/plain": [
       "<matplotlib.collections.QuadMesh at 0x2b57b22e5ad0>"
      ]
     },
     "execution_count": 44,
     "metadata": {},
     "output_type": "execute_result"
    },
    {
     "data": {
      "image/png": "[encoded data removed]",
      "text/plain": [
       "<Figure size 432x288 with 2 Axes>"
      ]
     },
     "metadata": {
      "needs_background": "light"
     },
     "output_type": "display_data"
    }
   ],
   "source": [
    "(skintemp_trends*test).plot()"
   ]
  },
  {
   "cell_type": "code",
   "execution_count": 12,
   "id": "e130c7ae-ff83-4b25-91bb-84b781e46131",
   "metadata": {},
   "outputs": [],
   "source": [
    "ex1005 = all_data_spec_olr['TREND'].sel(wnum=1005)"
   ]
  },
  {
   "cell_type": "code",
   "execution_count": 13,
   "id": "97fd6119-1090-456a-8dfa-6739ccac2e38",
   "metadata": {},
   "outputs": [
    {
     "data": {
      "text/plain": [
       "<matplotlib.collections.QuadMesh at 0x2b57b2304510>"
      ]
     },
     "execution_count": 13,
     "metadata": {},
     "output_type": "execute_result"
    },
    {
     "data": {
      "image/png": "[encoded data removed]",
      "text/plain": [
       "<Figure size 432x288 with 2 Axes>"
      ]
     },
     "metadata": {
      "needs_background": "light"
     },
     "output_type": "display_data"
    }
   ],
   "source": [
    "ex1005.plot()"
   ]
  },
  {
   "cell_type": "code",
   "execution_count": 29,
   "id": "93c283bf-683e-41f0-967e-3e0921e05097",
   "metadata": {},
   "outputs": [
    {
     "data": {
      "text/plain": [
       "<matplotlib.collections.QuadMesh at 0x2b57b229b610>"
      ]
     },
     "execution_count": 29,
     "metadata": {},
     "output_type": "execute_result"
    },
    {
     "data": {
      "image/png": "[encoded data removed]",
      "text/plain": [
       "<Figure size 432x288 with 2 Axes>"
      ]
     },
     "metadata": {
      "needs_background": "light"
     },
     "output_type": "display_data"
    }
   ],
   "source": [
    "skintemp_trends.plot()"
   ]
  },
  {
   "cell_type": "code",
   "execution_count": null,
   "id": "cccaceef-4a1a-469d-9fa7-c1e4346bcc02",
   "metadata": {},
   "outputs": [],
   "source": []
  }
 ],
 "metadata": {
  "kernelspec": {
   "display_name": "Python [conda env:miniconda3-cheycomp]",
   "language": "python",
   "name": "conda-env-miniconda3-cheycomp-py"
  },
  "language_info": {
   "codemirror_mode": {
    "name": "ipython",
    "version": 3
   },
   "file_extension": ".py",
   "mimetype": "text/x-python",
   "name": "python",
   "nbconvert_exporter": "python",
   "pygments_lexer": "ipython3",
   "version": "3.7.8"
  }
 },
 "nbformat": 4,
 "nbformat_minor": 5
}
