{
 "cells": [
  {
   "cell_type": "markdown",
   "id": "10d4c575-e0f7-4784-aa0f-95baf25046a1",
   "metadata": {},
   "source": [
    "# Create gif from AIRS spectral OLR"
   ]
  },
  {
   "cell_type": "code",
   "execution_count": 2,
   "id": "85729393-e66d-4212-806b-195bd003118a",
   "metadata": {},
   "outputs": [],
   "source": [
    "from PIL import Image\n",
    "import glob\n",
    "import numpy as np"
   ]
  },
  {
   "cell_type": "code",
   "execution_count": 3,
   "id": "2b1d04cf-b102-4133-a8a7-524b7a27b86a",
   "metadata": {},
   "outputs": [],
   "source": [
    "wnums = np.arange(15,1996,10)"
   ]
  },
  {
   "cell_type": "code",
   "execution_count": 4,
   "id": "51057cd6-dbdc-46f2-8afa-4cb433f36cc8",
   "metadata": {},
   "outputs": [],
   "source": [
    "# Create the frames\n",
    "save_dir = '/glade/u/home/jonahshaw/figures/AIRS_spectral_trends/'\n",
    "\n",
    "frames = []\n",
    "\n",
    "for _wnum in wnums:\n",
    "    str_bit = str(_wnum).split('.')[0]\n",
    "#     str_bit = str(_wnum)\n",
    "    \n",
    "#     print(str_bit)\n",
    "    \n",
    "    _file = glob.glob('%s/AIRS_AllSkyTrends_%s.png' % (save_dir,str_bit))[0]\n",
    "\n",
    "    new_frame = Image.open(_file)\n",
    "    frames.append(new_frame)\n",
    "    \n",
    "#     break"
   ]
  },
  {
   "cell_type": "code",
   "execution_count": 5,
   "id": "12d6487e-c071-4efa-99df-49a3da05afcc",
   "metadata": {},
   "outputs": [],
   "source": [
    "# Save into a GIF file that loops forever\n",
    "frames[0].save('%s/AIRS_AllSkyTrends2.gif' % save_dir, format='GIF',\n",
    "               append_images=frames[1:],\n",
    "               save_all=True,\n",
    "               duration=300, loop=0)"
   ]
  },
  {
   "cell_type": "code",
   "execution_count": null,
   "id": "4ea1a278-9e10-4488-baf2-d6ec50c6a181",
   "metadata": {},
   "outputs": [],
   "source": []
  }
 ],
 "metadata": {
  "kernelspec": {
   "display_name": "Python [conda env:miniconda3-cheycomp]",
   "language": "python",
   "name": "conda-env-miniconda3-cheycomp-py"
  },
  "language_info": {
   "codemirror_mode": {
    "name": "ipython",
    "version": 3
   },
   "file_extension": ".py",
   "mimetype": "text/x-python",
   "name": "python",
   "nbconvert_exporter": "python",
   "pygments_lexer": "ipython3",
   "version": "3.7.8"
  }
 },
 "nbformat": 4,
 "nbformat_minor": 5
}
