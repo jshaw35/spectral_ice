{
 "cells": [
  {
   "cell_type": "markdown",
   "id": "c1a8ef8a-1959-4469-aeb0-2ffb5026ceb0",
   "metadata": {},
   "source": [
    "# AIRS channel selection\n",
    "\n",
    "Calculate trends for each AIRS channel.\n",
    "\n",
    "Create infrastructure for easy spatial correlations between AIRS trends and other variables (to select representative channels). This will require a flexible/intelligent interpolation choice.\n",
    "\n",
    "Consider doing correlations between variables/obs instead of trends (more robust likely)."
   ]
  },
  {
   "cell_type": "markdown",
   "id": "f87424bc-a8e1-4951-8a18-dd7c4ea246cb",
   "metadata": {},
   "source": [
    "### Do imports"
   ]
  },
  {
   "cell_type": "code",
   "execution_count": 1,
   "id": "0db8a2e9-29f4-4511-ac52-b7087e146cb5",
   "metadata": {},
   "outputs": [
    {
     "name": "stdout",
     "output_type": "stream",
     "text": [
      "The autoreload extension is already loaded. To reload it, use:\n",
      "  %reload_ext autoreload\n"
     ]
    }
   ],
   "source": [
    "import sys\n",
    "# Add common resources folder to path\n",
    "sys.path.append('/glade/u/home/jonahshaw/Scripts/git_repos/spectral_ice/')\n",
    "sys.path.append('/glade/u/home/jonahshaw/Scripts/git_repos/spectral_ice/Common/') # is this good or not good. I should reorg.\n",
    "# sys.path.append(\"/home/jonahks/git_repos/netcdf_analysis/Common/\")\n",
    "\n",
    "from imports import (\n",
    "    pd, np, xr, mpl, plt, sns, os, \n",
    "    datetime, sys, crt, gridspec,\n",
    "    ccrs, metrics, Iterable, cmaps,\n",
    "    glob, copy\n",
    "    )\n",
    "\n",
    "from functions import (\n",
    "    masked_average, add_weights, sp_map,\n",
    "    season_mean, get_dpm, leap_year, regress_1d,\n",
    "    to_png, polarCentral_set_latlim, add_map_features,\n",
    "    stats, plot_trends, MidpointNormalize\n",
    "    )\n",
    "\n",
    "import copy\n",
    "from collections import deque\n",
    "%matplotlib inline"
   ]
  },
  {
   "cell_type": "markdown",
   "id": "0f6adcb3-e59a-48f7-843c-ed1afeb960c2",
   "metadata": {},
   "source": [
    "## Define function for computing trends"
   ]
  },
  {
   "cell_type": "markdown",
   "id": "29acb5c1-94d9-497c-af42-fd3bf463b858",
   "metadata": {},
   "source": [
    "#### New slower function that uses scipy.stats.linregress via apply_ufunc and gets info on statistical significance"
   ]
  },
  {
   "cell_type": "code",
   "execution_count": 2,
   "id": "688187fc-93e7-434b-9309-c10fa3298f3a",
   "metadata": {
    "tags": []
   },
   "outputs": [],
   "source": [
    "def linregress2(x, y):\n",
    "    # Wrapper around scipy linregress to use in apply_ufunc\n",
    "    slope, intercept, r_value, p_value, std_err = stats.linregress(x, y)\n",
    "    return np.array([slope, intercept, r_value, p_value, std_err])"
   ]
  },
  {
   "cell_type": "code",
   "execution_count": 3,
   "id": "cda56b57-c05c-4300-867a-bca72755a98d",
   "metadata": {},
   "outputs": [],
   "source": [
    "def vectorized_linregress2(data):\n",
    "    '''\n",
    "    Package for vectorized linregress call from: \n",
    "    https://stackoverflow.com/questions/52094320/with-xarray-how-to-parallelize-1d-operations-on-a-multidimensional-dataset. \n",
    "    Not very general.\n",
    "    '''\n",
    "    \n",
    "    regressed_month = xr.apply_ufunc(\n",
    "        linregress2, data['year'], data,\n",
    "        input_core_dims=[['year'], ['year']],\n",
    "        output_core_dims=[[\"parameter\"]],\n",
    "        vectorize=True,\n",
    "        dask=\"parallelized\",\n",
    "        output_dtypes=['float64'],\n",
    "        output_sizes={\"parameter\": 5},\n",
    "                      )\n",
    "    \n",
    "    return regressed_month"
   ]
  },
  {
   "cell_type": "code",
   "execution_count": 12,
   "id": "fdba4203-cd86-4cd7-93a5-3df361039067",
   "metadata": {},
   "outputs": [],
   "source": [
    "def compute_trends_n_signif2(subset_data):\n",
    "    '''\n",
    "    Package the trend calculating lines to save space. V2 uses vectorized_linregress2\n",
    "    '''\n",
    "    # create empty arrays for needed output\n",
    "    _trends = xr.zeros_like(subset_data.groupby('time.month').mean('time')).load()\n",
    "    _rvalues = _trends.copy()\n",
    "    _pvalues = _trends.copy()\n",
    "\n",
    "    # Potentially I should be able to format this to avoid this for loop too\n",
    "    for i,_month in subset_data.groupby('time.month'):\n",
    "        print(i,end='')\n",
    "\n",
    "        _yearlydata = _month.groupby('time.year').mean('time').chunk({'year': -1}) # let the other dimensions chunk however?\n",
    "        regressed_month = vectorized_linregress2(_yearlydata)\n",
    "\n",
    "        ii = i-1 # the count starts at month 1 (January) but we need to index starting at 0\n",
    "        \n",
    "        _trends[ii] = regressed_month.isel(parameter=0)\n",
    "        _rvalues[ii] = regressed_month.isel(parameter=2)\n",
    "        _pvalues[ii] = regressed_month.isel(parameter=3)\n",
    "\n",
    "    # Calculate statistical significance\n",
    "    N = len(_yearlydata.year)\n",
    "    dof=N-2\n",
    "\n",
    "    tcrit=stats.t.ppf(0.975,dof)  ## two-sided 95%\n",
    "    t=_rvalues*np.sqrt(N-2)/np.sqrt((1-_rvalues*_rvalues))\n",
    "\n",
    "    _statsig=(1-_pvalues)*100\n",
    "    _notnull = t > tcrit # disproving the null hypothesis (slope is zero)    \n",
    "    \n",
    "    return _trends,_statsig,_notnull"
   ]
  },
  {
   "cell_type": "markdown",
   "id": "b27678aa-1c16-43f5-ad65-45ea5670b6b1",
   "metadata": {
    "tags": []
   },
   "source": [
    "## Create AIRS spectral trends file"
   ]
  },
  {
   "cell_type": "code",
   "execution_count": 5,
   "id": "0e826746-3186-42a3-83f4-3e547c0c067d",
   "metadata": {},
   "outputs": [],
   "source": [
    "airs_dir = '/glade/work/jonahshaw/obs/AIRS/'\n",
    "# airs_files = glob.glob('%s/L3OLR/**.nc' % airs_dir)\n",
    "airs_files = glob.glob('%s/proc/**.nc' % airs_dir)\n",
    "\n",
    "airs_files.sort()\n",
    "# ceres_file = 'CERES_EBAF-TOA_Ed4.1_Subset_200003-202102.nc'"
   ]
  },
  {
   "cell_type": "markdown",
   "id": "05a999d2-792c-4fb4-9d21-51d96fad02cf",
   "metadata": {},
   "source": [
    "Open all files together."
   ]
  },
  {
   "cell_type": "code",
   "execution_count": 6,
   "id": "f2a7a553-55cb-4129-8cf2-5d572f6c6c93",
   "metadata": {},
   "outputs": [],
   "source": [
    "all_airs = xr.open_mfdataset(airs_files,\n",
    "                             parallel=True)"
   ]
  },
  {
   "cell_type": "markdown",
   "id": "c8d91df2-6cc8-40b7-8687-0773f61d1d6a",
   "metadata": {},
   "source": [
    "Take even years 2003-2018 (16 total)."
   ]
  },
  {
   "cell_type": "markdown",
   "id": "4ec206a4-5ce3-4361-80e7-9df8942d5c11",
   "metadata": {},
   "source": [
    "Select the Arctic, and weight the ascending and descending orbits equally."
   ]
  },
  {
   "cell_type": "markdown",
   "id": "3ff25c1a-f748-4292-b3a8-37a351a292f9",
   "metadata": {},
   "source": [
    "#### These calculation required ~3 gb of memory (I ran with 4)"
   ]
  },
  {
   "cell_type": "code",
   "execution_count": 71,
   "id": "9f58400d-a33a-4bb9-bf2f-ad79e12149ec",
   "metadata": {},
   "outputs": [],
   "source": [
    "if not os.path.exists('%s/%s/olr_spectral_trends_lonavg.nc' % (airs_dir,'arc_proc/')):\n",
    "    \n",
    "    # Subset for efficiency\n",
    "    olr_subset = all_airs['olr_spectral'].sel(lat=slice(59,None),time=slice('2003-01-01','2018-12-31')).mean(dim='orbit_pass')\n",
    "    \n",
    "    # Calculate trends after averaging over longitudes\n",
    "    _trends_spec_olr,_statsig_spec_olr,_notnull_spec_olr = compute_trends_n_signif2(olr_subset.mean(dim='lon'))\n",
    "    \n",
    "    # Combine into a single file and save\n",
    "    all_data_spec_olr = xr.merge([_trends_spec_olr.rename('TREND'),_statsig_spec_olr.rename('STATSIG'),_notnull_spec_olr.rename('NOTNULL')])\n",
    "    all_data_spec_olr.to_netcdf('%s/%s/olr_spectral_trends_lonavg.nc' % (airs_dir,'arc_proc/'))    "
   ]
  },
  {
   "cell_type": "code",
   "execution_count": null,
   "id": "b543ca27-956e-444f-9799-016838ecb281",
   "metadata": {},
   "outputs": [],
   "source": [
    "if not os.path.exists('%s/%s/olr_clr_spectral_trends_lonavg.nc' % (airs_dir,'arc_proc/')):\n",
    "    # Subset for efficiency\n",
    "    olr_clr_subset = all_airs['olr_clr_spectral'].sel(lat=slice(59,None),time=slice('2003-01-01','2018-12-31')).mean(dim='orbit_pass')\n",
    "\n",
    "    # Calculate trends after averaging over longitudes\n",
    "    _trends_spec_olr_clr,_statsig_spec_olr_clr,_notnull_spec_olr_clr = compute_trends_n_signif2(olr_clr_subset.mean(dim='lon'))\n",
    "    \n",
    "    # Combine into a single file and save\n",
    "    all_data_spec_olr_clr = xr.merge([_trends_clr.rename('TREND'),_statsig_clr.rename('STATSIG'),_notnull_clr.rename('NOTNULL')])\n",
    "    all_data_spec_olr_clr.to_netcdf('%s/%s/olr_clr_spectral_trends_lonavg.nc' % (airs_dir,'arc_proc/'))"
   ]
  },
  {
   "cell_type": "markdown",
   "id": "26f7d837-e68a-416c-a43b-822850435ca6",
   "metadata": {},
   "source": [
    "#### Correlate individual channels\n",
    "\n",
    "This is a first step before correlating spectral channels (trends) with observations (trends)"
   ]
  },
  {
   "cell_type": "markdown",
   "id": "07a296f3-1f9e-49e6-ae3c-c7f8bc39b95d",
   "metadata": {},
   "source": [
    "Create masked arrays (either using a where statement or the numpy.ma subpackage."
   ]
  },
  {
   "cell_type": "code",
   "execution_count": 138,
   "id": "e8aea4ac-02a5-4d2b-8bf9-0e21d56d4269",
   "metadata": {},
   "outputs": [],
   "source": [
    "def calculate_spatial_correlation(cntl,test):\n",
    "    \"\"\"\n",
    "    Calculate the spatial correlation coefficient for two xarray dataarrays, weighting by gridcell area.\n",
    "    Values marked with a Nan are mutually masked.\n",
    "    \"\"\"\n",
    "    \n",
    "    _cntl = add_weights(cntl)\n",
    "       \n",
    "    mask = np.bitwise_or(xr.ufuncs.isnan(cntl),xr.ufuncs.isnan(test)) # mask means hide\n",
    "    \n",
    "    wgt = np.array(_cntl['cell_weight'])\n",
    "    wgt = np.where(~mask,wgt,np.nan) # erroring\n",
    "    \n",
    "    sumwgt = np.nansum(wgt)\n",
    "        \n",
    "    # calculate means\n",
    "    meantest = np.nansum(wgt*test)/sumwgt\n",
    "    meancntl = np.nansum(wgt*cntl)/sumwgt\n",
    "\n",
    "    # calculate variances\n",
    "    stdtest = (np.nansum(wgt*(test-meantest)**2.0)/sumwgt)**0.5\n",
    "    stdcntl = (np.nansum(wgt*(cntl-meancntl)**2.0)/sumwgt)**0.5\n",
    "\n",
    "    # calculate correlation coefficient\n",
    "    ccnum = np.nansum(wgt*(test-meantest)*(cntl-meancntl))\n",
    "    ccdem = sumwgt*stdtest*stdcntl\n",
    "    corr = ccnum/ccdem\n",
    "    \n",
    "    return corr"
   ]
  },
  {
   "cell_type": "code",
   "execution_count": 200,
   "id": "085db417-3969-48b2-a436-b0a4ef2c2f88",
   "metadata": {},
   "outputs": [
    {
     "data": {
      "text/plain": [
       "<matplotlib.collections.QuadMesh at 0x2b0cdf2c0a50>"
      ]
     },
     "execution_count": 200,
     "metadata": {},
     "output_type": "execute_result"
    },
    {
     "data": {
      "image/png": "[encoded data removed]",
      "text/plain": [
       "<Figure size 1080x576 with 4 Axes>"
      ]
     },
     "metadata": {
      "needs_background": "light"
     },
     "output_type": "display_data"
    }
   ],
   "source": [
    "fig_t,axs_t = plt.subplots(nrows=1,ncols=2,figsize=(15,8))\n",
    "\n",
    "_trends_clr[:,5,:].plot(ax=axs_t[0])\n",
    "_trends_clr[:,6,:].plot(ax=axs_t[1])"
   ]
  },
  {
   "cell_type": "code",
   "execution_count": 201,
   "id": "ed236807-2417-4669-a21c-7ffffe8d3480",
   "metadata": {},
   "outputs": [
    {
     "data": {
      "text/plain": [
       "0.9521779096529754"
      ]
     },
     "execution_count": 201,
     "metadata": {},
     "output_type": "execute_result"
    }
   ],
   "source": [
    "calculate_spatial_correlation(_trends_clr[:,5,:],_trends_clr[:,6,:])"
   ]
  },
  {
   "cell_type": "code",
   "execution_count": 202,
   "id": "3c504a9a-6501-4795-897d-d90c1002cf1b",
   "metadata": {},
   "outputs": [
    {
     "data": {
      "text/plain": [
       "1.0000000261391122"
      ]
     },
     "execution_count": 202,
     "metadata": {},
     "output_type": "execute_result"
    }
   ],
   "source": [
    "calculate_spatial_correlation(_trends_clr[:,6,:],_trends_clr[:,6,:])"
   ]
  },
  {
   "cell_type": "markdown",
   "id": "505317bd-15cf-4f0b-9e7b-f719fb3e91e2",
   "metadata": {},
   "source": [
    "This all looks good. There seems to be a small rounding error somewhere in the code, but it is less than a part in a million."
   ]
  },
  {
   "cell_type": "markdown",
   "id": "7001d416-5667-448a-82b7-64acc3d8be6d",
   "metadata": {
    "tags": []
   },
   "source": [
    "## Test spatial correlations with GISStemp data"
   ]
  },
  {
   "cell_type": "markdown",
   "id": "32e3838d-a324-4252-99fe-a613b4c17e90",
   "metadata": {},
   "source": [
    "The GISS record runs from 1880 until 2021-01, whereas CERES runs 2002-03 to 2021-02."
   ]
  },
  {
   "cell_type": "code",
   "execution_count": 203,
   "id": "49998252-ff6f-4a7f-99b7-bf89aea88203",
   "metadata": {},
   "outputs": [],
   "source": [
    "gisstemp_path = '/glade/work/jenkay/obs/GISTEMP/'"
   ]
  },
  {
   "cell_type": "code",
   "execution_count": 204,
   "id": "6c6ce4bc-c0a5-4ff4-ab8a-deec848ac96a",
   "metadata": {},
   "outputs": [],
   "source": [
    "giss1 = xr.open_dataset('%s/%s' % (gisstemp_path,'air.2x2.1200.mon.anom.comb.nc')) # longer time period here"
   ]
  },
  {
   "cell_type": "code",
   "execution_count": 205,
   "id": "687dba4a-5cc1-41b6-a986-fd511adc9767",
   "metadata": {},
   "outputs": [],
   "source": [
    "giss_tsel = giss1.sel(time=slice('2001-01','2020-12'))['air']"
   ]
  },
  {
   "cell_type": "code",
   "execution_count": 206,
   "id": "f6379d3e-e9e5-462d-a71a-a34a1a92357d",
   "metadata": {},
   "outputs": [],
   "source": [
    "giss1.close()"
   ]
  },
  {
   "cell_type": "markdown",
   "id": "f57f6a57-fbd9-407e-92de-0ad81eb41eb1",
   "metadata": {},
   "source": [
    "#### Temperature from GISStemp"
   ]
  },
  {
   "cell_type": "code",
   "execution_count": 207,
   "id": "c1de33a3-dc2b-413f-bfda-8baf4a2f1494",
   "metadata": {},
   "outputs": [],
   "source": [
    "# Subset data so computations are lighter and significance tests make sense\n",
    "gisstemp_subset = giss_tsel.sel(time=slice('2001-01-01','2020-12-31'),lat=slice(None,58)).mean('lon')"
   ]
  },
  {
   "cell_type": "code",
   "execution_count": 208,
   "id": "14781d00-2310-4889-a4cb-bda68bd5e169",
   "metadata": {},
   "outputs": [
    {
     "name": "stdout",
     "output_type": "stream",
     "text": [
      "123456789101112"
     ]
    }
   ],
   "source": [
    "gisstemp_trends,gisstemp_statsig,gisstemp_notnull = compute_trends_n_signif2(gisstemp_subset)"
   ]
  },
  {
   "cell_type": "code",
   "execution_count": 210,
   "id": "f6efa91c-4393-43dc-9fe1-384aed138f98",
   "metadata": {},
   "outputs": [
    {
     "data": {
      "text/plain": [
       "<matplotlib.collections.QuadMesh at 0x2b0cb1813b50>"
      ]
     },
     "execution_count": 210,
     "metadata": {},
     "output_type": "execute_result"
    },
    {
     "data": {
      "image/png": "[encoded data removed]",
      "text/plain": [
       "<Figure size 432x288 with 2 Axes>"
      ]
     },
     "metadata": {
      "needs_background": "light"
     },
     "output_type": "display_data"
    }
   ],
   "source": [
    "gisstemp_trends.plot()"
   ]
  },
  {
   "cell_type": "code",
   "execution_count": 213,
   "id": "a37bf708-8901-4b2d-9fa6-fa2902cca561",
   "metadata": {},
   "outputs": [
    {
     "data": {
      "text/plain": [
       "<matplotlib.contour.QuadContourSet at 0x2b0cdf88f9d0>"
      ]
     },
     "execution_count": 213,
     "metadata": {},
     "output_type": "execute_result"
    },
    {
     "data": {
      "image/png": "[encoded data removed]",
      "text/plain": [
       "<Figure size 432x288 with 1 Axes>"
      ]
     },
     "metadata": {
      "needs_background": "light"
     },
     "output_type": "display_data"
    }
   ],
   "source": [
    "plt.contourf(gisstemp_trends['month'],gisstemp_trends['lat'],gisstemp_trends.transpose('lat','month'))"
   ]
  },
  {
   "cell_type": "code",
   "execution_count": 224,
   "id": "5dfc6a76-88d7-476f-9385-3e8c93bb337c",
   "metadata": {},
   "outputs": [
    {
     "data": {
      "text/plain": [
       "<matplotlib.contour.QuadContourSet at 0x2b0cdf599350>"
      ]
     },
     "execution_count": 224,
     "metadata": {},
     "output_type": "execute_result"
    },
    {
     "data": {
      "image/png": "[encoded data removed]",
      "text/plain": [
       "<Figure size 432x288 with 1 Axes>"
      ]
     },
     "metadata": {
      "needs_background": "light"
     },
     "output_type": "display_data"
    }
   ],
   "source": [
    "plt.contourf(_trends_clr['month'],_trends_clr['lat'],_trends_clr[:,5,:].transpose('lat','month'))"
   ]
  },
  {
   "cell_type": "code",
   "execution_count": 221,
   "id": "a95eacea-7fee-4513-bdfc-70ae812f546b",
   "metadata": {},
   "outputs": [],
   "source": [
    "gisstemp_interpd = gisstemp_trends.interp_like(_trends_clr)"
   ]
  },
  {
   "cell_type": "code",
   "execution_count": 227,
   "id": "5fe07457-c9cd-4377-a48c-3b3a169c8fbf",
   "metadata": {},
   "outputs": [],
   "source": [
    "trends_reorg = _trends_clr.transpose('wnum','month','lat')"
   ]
  },
  {
   "cell_type": "code",
   "execution_count": 246,
   "id": "22b1b7d5-132b-42f9-90cc-9b88234da246",
   "metadata": {},
   "outputs": [],
   "source": [
    "rvals = {}\n",
    "rvals_list =[]\n",
    "\n",
    "for _wnum in trends_reorg:\n",
    "    \n",
    "    r = calculate_spatial_correlation(_wnum,gisstemp_interpd)\n",
    "    \n",
    "    rvals[str(_wnum.wnum.values)] = r\n",
    "    rvals_list.append(r)\n",
    "#     print(r)\n",
    "    \n",
    "#     break"
   ]
  },
  {
   "cell_type": "code",
   "execution_count": 247,
   "id": "4993d221-0202-4310-83e5-fe9c800dc36a",
   "metadata": {},
   "outputs": [
    {
     "data": {
      "text/plain": [
       "[<matplotlib.lines.Line2D at 0x2b0cdf412190>]"
      ]
     },
     "execution_count": 247,
     "metadata": {},
     "output_type": "execute_result"
    },
    {
     "data": {
      "image/png": "[encoded data removed]",
      "text/plain": [
       "<Figure size 432x288 with 1 Axes>"
      ]
     },
     "metadata": {
      "needs_background": "light"
     },
     "output_type": "display_data"
    }
   ],
   "source": [
    "plt.plot(trends_reorg.wnum,np.array(rvals_list))"
   ]
  },
  {
   "cell_type": "code",
   "execution_count": null,
   "id": "b72f7b60-c1be-4cec-b9cc-78a25ac361a9",
   "metadata": {},
   "outputs": [],
   "source": []
  }
 ],
 "metadata": {
  "kernelspec": {
   "display_name": "Python [conda env:miniconda3-cheycomp]",
   "language": "python",
   "name": "conda-env-miniconda3-cheycomp-py"
  },
  "language_info": {
   "codemirror_mode": {
    "name": "ipython",
    "version": 3
   },
   "file_extension": ".py",
   "mimetype": "text/x-python",
   "name": "python",
   "nbconvert_exporter": "python",
   "pygments_lexer": "ipython3",
   "version": "3.7.8"
  }
 },
 "nbformat": 4,
 "nbformat_minor": 5
}
