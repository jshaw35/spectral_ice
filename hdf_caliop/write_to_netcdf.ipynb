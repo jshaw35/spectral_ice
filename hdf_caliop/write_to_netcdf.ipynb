{
 "cells": [
  {
   "cell_type": "markdown",
   "metadata": {},
   "source": [
    "# Create weights for SLF observations"
   ]
  },
  {
   "cell_type": "markdown",
   "metadata": {},
   "source": [
    "### Add paths to run locally or off NIRD"
   ]
  },
  {
   "cell_type": "code",
   "execution_count": 1,
   "metadata": {},
   "outputs": [
    {
     "name": "stdout",
     "output_type": "stream",
     "text": [
      "The autoreload extension is already loaded. To reload it, use:\n",
      "  %reload_ext autoreload\n"
     ]
    }
   ],
   "source": [
    "import sys\n",
    "# Add common resources folder to path\n",
    "sys.path.append(\"/mnt/mcc-ns9600k/jonahks/git_repos/netcdf_analysis/Common/\")\n",
    "sys.path.append(\"/mnt/mcc-ns9600k/jonahks/git_repos/netcdf_analysis/\")\n",
    "sys.path.append(\"/mnt/mcc-ns9600k/jonahks/git_repos/netcdf_analysis/hdf_caliop/\")\n",
    "sys.path.append(\"/home/jonahks/git_repos/netcdf_analysis/\")\n",
    "sys.path.append(\"/home/jonahks/git_repos/netcdf_analysis/Common/\")\n",
    "\n",
    "from imports import (\n",
    "    pd, np, xr, mpl, plt, sns, os, \n",
    "    datetime, sys, crt, gridspec,\n",
    "    ccrs, metrics, Iterable\n",
    "    )\n",
    "\n",
    "from functions import (\n",
    "    masked_average, add_weights, sp_map,\n",
    "    season_mean, get_dpm, leap_year, share_ylims,\n",
    "    to_png, mute_ax\n",
    "    )\n",
    "\n",
    "from classes import SatComp_Metric, CT_SLF_Metric\n",
    "from collections import deque\n",
    "%matplotlib inline"
   ]
  },
  {
   "cell_type": "markdown",
   "metadata": {},
   "source": [
    "## Load feedback specific functions"
   ]
  },
  {
   "cell_type": "code",
   "execution_count": 2,
   "metadata": {},
   "outputs": [],
   "source": [
    "from hdf_functions import *"
   ]
  },
  {
   "cell_type": "markdown",
   "metadata": {},
   "source": [
    "### Check running location and adjust working directory appropriately."
   ]
  },
  {
   "cell_type": "code",
   "execution_count": 3,
   "metadata": {},
   "outputs": [
    {
     "name": "stdout",
     "output_type": "stream",
     "text": [
      "Running through MC2 Jupyter Hub\n",
      "Can access all directory paths: True\n"
     ]
    }
   ],
   "source": [
    "host = os.uname()[1]\n",
    "if 'jupyter' in host.split('-'): # Check if running on NIRD through the Jupyter Hub\n",
    "    print('Running through MC2 Jupyter Hub')\n",
    "    model_dir = '/mnt/mcc-ns9600k/jonahks/'\n",
    "    os.chdir(model_dir)\n",
    "\n",
    "else:  # Assume that we're running on a local machine and mounting NIRD\n",
    "    print('Running on %s, attempting to mount ns9600k/jonahks/ from NIRD' % str(host))\n",
    "    os.system('fusermount -zu ~/drivemount/')  # unmount first\n",
    "    os.system('sshfs jonahks@login.nird.sigma2.no:\"p/jonahks/\" ~/drivemount/')    # Calling mountnird from .bashrc doesn't work\n",
    "    os.chdir('/home/jonahks/drivemount/')\n",
    "    save_dir = '~/DATAOUT/'\n",
    "    save_to = os.path.expanduser(save_dir)\n",
    "\n",
    "output_dir = 'figures/'\n",
    "case_dir = 'satcomp/'   # inconsistent label compared to jupy_test\n",
    "conv_dir ='convectivephase/'\n",
    "\n",
    "# Check that each important directory can be accessed:    \n",
    "access_paths = os.path.exists(output_dir) and os.path.exists(case_dir) and os.path.exists(conv_dir)\n",
    "print('Can access all directory paths:', access_paths)"
   ]
  },
  {
   "cell_type": "code",
   "execution_count": 4,
   "metadata": {},
   "outputs": [
    {
     "name": "stdout",
     "output_type": "stream",
     "text": [
      "/mnt/mcc-ns9600k/jonahks/caliop_slf_weight\n"
     ]
    }
   ],
   "source": [
    "cd caliop_slf_weight/"
   ]
  },
  {
   "cell_type": "code",
   "execution_count": 15,
   "metadata": {},
   "outputs": [
    {
     "name": "stdout",
     "output_type": "stream",
     "text": [
      "CAL_LID_L3_Cloud_Occurrence-Standard-V1-00.2009-01A.hdf\n",
      "CAL_LID_L3_Cloud_Occurrence-Standard-V1-00.2009-01A.nc\n",
      "CAL_LID_L3_Cloud_Occurrence-Standard-V1-00.2009-02A.hdf\n",
      "CAL_LID_L3_Cloud_Occurrence-Standard-V1-00.2009-02A.nc\n",
      "CAL_LID_L3_Cloud_Occurrence-Standard-V1-00.2009-03A.hdf\n",
      "CAL_LID_L3_Cloud_Occurrence-Standard-V1-00.2009-03A.nc\n",
      "CAL_LID_L3_Cloud_Occurrence-Standard-V1-00.2009-04A.hdf\n",
      "CAL_LID_L3_Cloud_Occurrence-Standard-V1-00.2009-04A.nc\n",
      "CAL_LID_L3_Cloud_Occurrence-Standard-V1-00.2009-05A.hdf\n",
      "CAL_LID_L3_Cloud_Occurrence-Standard-V1-00.2009-05A.nc\n",
      "CAL_LID_L3_Cloud_Occurrence-Standard-V1-00.2009-06A.hdf\n",
      "CAL_LID_L3_Cloud_Occurrence-Standard-V1-00.2009-06A.nc\n",
      "CAL_LID_L3_Cloud_Occurrence-Standard-V1-00.2009-07A.hdf\n",
      "CAL_LID_L3_Cloud_Occurrence-Standard-V1-00.2009-07A.nc\n",
      "CAL_LID_L3_Cloud_Occurrence-Standard-V1-00.2009-08A.hdf\n",
      "CAL_LID_L3_Cloud_Occurrence-Standard-V1-00.2009-08A.nc\n",
      "CAL_LID_L3_Cloud_Occurrence-Standard-V1-00.2009-09A.hdf\n",
      "CAL_LID_L3_Cloud_Occurrence-Standard-V1-00.2009-09A.nc\n",
      "CAL_LID_L3_Cloud_Occurrence-Standard-V1-00.2009-10A.hdf\n",
      "CAL_LID_L3_Cloud_Occurrence-Standard-V1-00.2009-10A.nc\n",
      "CAL_LID_L3_Cloud_Occurrence-Standard-V1-00.2009-11A.hdf\n",
      "CAL_LID_L3_Cloud_Occurrence-Standard-V1-00.2009-11A.nc\n",
      "CAL_LID_L3_Cloud_Occurrence-Standard-V1-00.2009-12A.hdf\n",
      "CAL_LID_L3_Cloud_Occurrence-Standard-V1-00.2009-12A.nc\n",
      "CAL_LID_L3_Cloud_Occurrence-Standard-V1-00.2010-01A.hdf\n",
      "CAL_LID_L3_Cloud_Occurrence-Standard-V1-00.2010-01A.nc\n",
      "CAL_LID_L3_Cloud_Occurrence-Standard-V1-00.2010-02A.hdf\n",
      "CAL_LID_L3_Cloud_Occurrence-Standard-V1-00.2010-02A.nc\n",
      "CAL_LID_L3_Cloud_Occurrence-Standard-V1-00.2010-03A.hdf\n",
      "CAL_LID_L3_Cloud_Occurrence-Standard-V1-00.2010-03A.nc\n",
      "CAL_LID_L3_Cloud_Occurrence-Standard-V1-00.2010-04A.hdf\n",
      "CAL_LID_L3_Cloud_Occurrence-Standard-V1-00.2010-04A.nc\n",
      "CAL_LID_L3_Cloud_Occurrence-Standard-V1-00.2010-05A.hdf\n",
      "CAL_LID_L3_Cloud_Occurrence-Standard-V1-00.2010-05A.nc\n",
      "CAL_LID_L3_Cloud_Occurrence-Standard-V1-00.2010-06A.hdf\n",
      "CAL_LID_L3_Cloud_Occurrence-Standard-V1-00.2010-06A.nc\n",
      "CAL_LID_L3_Cloud_Occurrence-Standard-V1-00.2010-07A.hdf\n",
      "CAL_LID_L3_Cloud_Occurrence-Standard-V1-00.2010-07A.nc\n",
      "CAL_LID_L3_Cloud_Occurrence-Standard-V1-00.2010-08A.hdf\n",
      "CAL_LID_L3_Cloud_Occurrence-Standard-V1-00.2010-08A.nc\n",
      "CAL_LID_L3_Cloud_Occurrence-Standard-V1-00.2010-09A.hdf\n",
      "CAL_LID_L3_Cloud_Occurrence-Standard-V1-00.2010-09A.nc\n",
      "CAL_LID_L3_Cloud_Occurrence-Standard-V1-00.2010-10A.hdf\n",
      "CAL_LID_L3_Cloud_Occurrence-Standard-V1-00.2010-10A.nc\n",
      "CAL_LID_L3_Cloud_Occurrence-Standard-V1-00.2010-11A.hdf\n",
      "CAL_LID_L3_Cloud_Occurrence-Standard-V1-00.2010-11A.nc\n",
      "CAL_LID_L3_Cloud_Occurrence-Standard-V1-00.2010-12A.hdf\n",
      "CAL_LID_L3_Cloud_Occurrence-Standard-V1-00.2010-12A.nc\n",
      "CAL_LID_L3_Cloud_Occurrence-Standard-V1-00.2011-01A.hdf\n",
      "CAL_LID_L3_Cloud_Occurrence-Standard-V1-00.2011-01A.nc\n",
      "CAL_LID_L3_Cloud_Occurrence-Standard-V1-00.2011-02A.hdf\n",
      "CAL_LID_L3_Cloud_Occurrence-Standard-V1-00.2011-02A.nc\n",
      "CAL_LID_L3_Cloud_Occurrence-Standard-V1-00.2011-03A.hdf\n",
      "CAL_LID_L3_Cloud_Occurrence-Standard-V1-00.2011-03A.nc\n",
      "CAL_LID_L3_Cloud_Occurrence-Standard-V1-00.2011-04A.hdf\n",
      "CAL_LID_L3_Cloud_Occurrence-Standard-V1-00.2011-04A.nc\n",
      "CAL_LID_L3_Cloud_Occurrence-Standard-V1-00.2011-05A.hdf\n",
      "CAL_LID_L3_Cloud_Occurrence-Standard-V1-00.2011-05A.nc\n",
      "CAL_LID_L3_Cloud_Occurrence-Standard-V1-00.2011-06A.hdf\n",
      "CAL_LID_L3_Cloud_Occurrence-Standard-V1-00.2011-06A.nc\n",
      "CAL_LID_L3_Cloud_Occurrence-Standard-V1-00.2011-07A.hdf\n",
      "CAL_LID_L3_Cloud_Occurrence-Standard-V1-00.2011-07A.nc\n",
      "CAL_LID_L3_Cloud_Occurrence-Standard-V1-00.2011-08A.hdf\n",
      "CAL_LID_L3_Cloud_Occurrence-Standard-V1-00.2011-08A.nc\n",
      "CAL_LID_L3_Cloud_Occurrence-Standard-V1-00.2011-09A.hdf\n",
      "CAL_LID_L3_Cloud_Occurrence-Standard-V1-00.2011-09A.nc\n",
      "CAL_LID_L3_Cloud_Occurrence-Standard-V1-00.2011-10A.hdf\n",
      "CAL_LID_L3_Cloud_Occurrence-Standard-V1-00.2011-10A.nc\n",
      "CAL_LID_L3_Cloud_Occurrence-Standard-V1-00.2011-11A.hdf\n",
      "CAL_LID_L3_Cloud_Occurrence-Standard-V1-00.2011-11A.nc\n",
      "CAL_LID_L3_Cloud_Occurrence-Standard-V1-00.2011-12A.hdf\n",
      "CAL_LID_L3_Cloud_Occurrence-Standard-V1-00.2011-12A.nc\n",
      "CAL_LID_L3_Cloud_Occurrence-Standard-V1-00.2012-01A.hdf\n",
      "CAL_LID_L3_Cloud_Occurrence-Standard-V1-00.2012-01A.nc\n",
      "CAL_LID_L3_Cloud_Occurrence-Standard-V1-00.2012-02A.hdf\n",
      "CAL_LID_L3_Cloud_Occurrence-Standard-V1-00.2012-02A.nc\n",
      "CAL_LID_L3_Cloud_Occurrence-Standard-V1-00.2012-03A.hdf\n",
      "CAL_LID_L3_Cloud_Occurrence-Standard-V1-00.2012-03A.nc\n",
      "CAL_LID_L3_Cloud_Occurrence-Standard-V1-00.2012-04A.hdf\n",
      "CAL_LID_L3_Cloud_Occurrence-Standard-V1-00.2012-04A.nc\n",
      "CAL_LID_L3_Cloud_Occurrence-Standard-V1-00.2012-05A.hdf\n",
      "CAL_LID_L3_Cloud_Occurrence-Standard-V1-00.2012-05A.nc\n",
      "CAL_LID_L3_Cloud_Occurrence-Standard-V1-00.2012-06A.hdf\n",
      "CAL_LID_L3_Cloud_Occurrence-Standard-V1-00.2012-06A.nc\n",
      "CAL_LID_L3_Cloud_Occurrence-Standard-V1-00.2012-07A.hdf\n",
      "CAL_LID_L3_Cloud_Occurrence-Standard-V1-00.2012-07A.nc\n",
      "CAL_LID_L3_Cloud_Occurrence-Standard-V1-00.2012-08A.hdf\n",
      "CAL_LID_L3_Cloud_Occurrence-Standard-V1-00.2012-08A.nc\n",
      "CAL_LID_L3_Cloud_Occurrence-Standard-V1-00.2012-09A.hdf\n",
      "CAL_LID_L3_Cloud_Occurrence-Standard-V1-00.2012-09A.nc\n",
      "CAL_LID_L3_Cloud_Occurrence-Standard-V1-00.2012-10A.hdf\n",
      "CAL_LID_L3_Cloud_Occurrence-Standard-V1-00.2012-10A.nc\n",
      "CAL_LID_L3_Cloud_Occurrence-Standard-V1-00.2012-11A.hdf\n",
      "CAL_LID_L3_Cloud_Occurrence-Standard-V1-00.2012-11A.nc\n",
      "CAL_LID_L3_Cloud_Occurrence-Standard-V1-00.2012-12A.hdf\n",
      "CAL_LID_L3_Cloud_Occurrence-Standard-V1-00.2012-12A.nc\n"
     ]
    }
   ],
   "source": [
    "ls"
   ]
  },
  {
   "cell_type": "code",
   "execution_count": 13,
   "metadata": {},
   "outputs": [],
   "source": [
    "ftest = hdf_to_netcdf('CAL_LID_L3_Cloud_Occurrence-Standard-V1-00.2009-01A.hdf')"
   ]
  },
  {
   "cell_type": "code",
   "execution_count": 14,
   "metadata": {},
   "outputs": [],
   "source": [
    "files = os.listdir('/mnt/mcc-ns9600k/jonahks/caliop_slf_weight')\n",
    "os.chdir('/mnt/mcc-ns9600k/jonahks/caliop_slf_weight')\n",
    "\n",
    "for file in files:\n",
    "    if file[-4:] == '.hdf':\n",
    "        out_path = file[:-4] + '.nc'\n",
    "    #     print(out_path)\n",
    "\n",
    "        _netcdf = hdf_to_netcdf(file)\n",
    "        _netcdf.to_netcdf(out_path)\n",
    "        _netcdf.close() # prevents the kernel from crashing :)"
   ]
  },
  {
   "cell_type": "code",
   "execution_count": null,
   "metadata": {},
   "outputs": [],
   "source": []
  }
 ],
 "metadata": {
  "kernelspec": {
   "display_name": "Python 3",
   "language": "python",
   "name": "python3"
  },
  "language_info": {
   "codemirror_mode": {
    "name": "ipython",
    "version": 3
   },
   "file_extension": ".py",
   "mimetype": "text/x-python",
   "name": "python",
   "nbconvert_exporter": "python",
   "pygments_lexer": "ipython3",
   "version": "3.7.3"
  }
 },
 "nbformat": 4,
 "nbformat_minor": 4
}
