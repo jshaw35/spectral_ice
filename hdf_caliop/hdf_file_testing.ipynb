{
 "cells": [
  {
   "cell_type": "markdown",
   "metadata": {},
   "source": [
    "# Reading CALIOP files"
   ]
  },
  {
   "cell_type": "markdown",
   "metadata": {},
   "source": [
    "## Final demonstration"
   ]
  },
  {
   "cell_type": "code",
   "execution_count": 1,
   "metadata": {},
   "outputs": [],
   "source": [
    "from hdf_functions import *"
   ]
  },
  {
   "cell_type": "code",
   "execution_count": 2,
   "metadata": {},
   "outputs": [],
   "source": [
    "ftest = hdf_to_netcdf('CAL_LID_L3_Cloud_Occurrence-Standard-V1-00.2009-06A.hdf')"
   ]
  },
  {
   "cell_type": "markdown",
   "metadata": {},
   "source": [
    "## Development of functions"
   ]
  },
  {
   "cell_type": "code",
   "execution_count": 23,
   "metadata": {},
   "outputs": [],
   "source": [
    "import os\n",
    "import matplotlib as mpl\n",
    "import matplotlib.pyplot as plt\n",
    "import numpy as np\n",
    "# from mpl_toolkits.basemap import Basemap\n",
    "from matplotlib import colors\n",
    "from pyhdf.SD import SD, SDC\n",
    "\n",
    "import xarray as xr\n",
    "import pandas as pd"
   ]
  },
  {
   "cell_type": "code",
   "execution_count": 2,
   "metadata": {},
   "outputs": [],
   "source": [
    "# import numpy as np\n",
    "# import pandas as pd\n",
    "# import matplotlib.pyplot as plt\n",
    "# import xarray as xr"
   ]
  },
  {
   "cell_type": "code",
   "execution_count": 3,
   "metadata": {},
   "outputs": [],
   "source": [
    "# # Import packages\n",
    "# import os\n",
    "# import re  # regular expressions\n",
    "# import warnings\n",
    "# import matplotlib.pyplot as plt\n",
    "# import numpy as np\n",
    "# import numpy.ma as ma\n",
    "# import rasterio as rio\n",
    "# from rasterio.plot import plotting_extent\n",
    "# import geopandas as gpd\n",
    "# import earthpy as et\n",
    "# import earthpy.plot as ep\n",
    "# import earthpy.spatial as es\n",
    "# import earthpy.mask as em"
   ]
  },
  {
   "cell_type": "code",
   "execution_count": 4,
   "metadata": {},
   "outputs": [],
   "source": [
    "username = 'jshaw35'\n",
    "password = 'Sh1tmusic!earthdata'\n",
    "url = 'https://asdc.larc.nasa.gov/data/CALIPSO/LID_L3_Cloud_Occurrence-Standard-V1-00/2009/CAL_LID_L3_Cloud_Occurrence-Standard-V1-00.2009-03A.hdf'"
   ]
  },
  {
   "cell_type": "code",
   "execution_count": 5,
   "metadata": {},
   "outputs": [],
   "source": [
    "filename = 'CAL_LID_L3_Cloud_Occurrence-Standard-V1-00.2009-03A.hdf'"
   ]
  },
  {
   "cell_type": "markdown",
   "metadata": {},
   "source": [
    "### Not sure if this is working"
   ]
  },
  {
   "cell_type": "code",
   "execution_count": 9,
   "metadata": {
    "scrolled": true
   },
   "outputs": [
    {
     "ename": "KeyboardInterrupt",
     "evalue": "",
     "output_type": "error",
     "traceback": [
      "\u001b[0;31m---------------------------------------------------------------------------\u001b[0m",
      "\u001b[0;31mKeyboardInterrupt\u001b[0m                         Traceback (most recent call last)",
      "\u001b[0;32m<ipython-input-9-3d86297a83cc>\u001b[0m in \u001b[0;36m<module>\u001b[0;34m\u001b[0m\n\u001b[1;32m      2\u001b[0m \u001b[0msession\u001b[0m \u001b[0;34m=\u001b[0m \u001b[0mSession\u001b[0m\u001b[0;34m(\u001b[0m\u001b[0;34m)\u001b[0m\u001b[0;34m\u001b[0m\u001b[0;34m\u001b[0m\u001b[0m\n\u001b[1;32m      3\u001b[0m \u001b[0msession\u001b[0m\u001b[0;34m.\u001b[0m\u001b[0mauth\u001b[0m \u001b[0;34m=\u001b[0m \u001b[0;34m(\u001b[0m\u001b[0musername\u001b[0m\u001b[0;34m,\u001b[0m \u001b[0mpassword\u001b[0m\u001b[0;34m)\u001b[0m\u001b[0;34m\u001b[0m\u001b[0;34m\u001b[0m\u001b[0m\n\u001b[0;32m----> 4\u001b[0;31m \u001b[0m_redirect\u001b[0m \u001b[0;34m=\u001b[0m \u001b[0msession\u001b[0m\u001b[0;34m.\u001b[0m\u001b[0mget\u001b[0m\u001b[0;34m(\u001b[0m\u001b[0murl\u001b[0m\u001b[0;34m)\u001b[0m\u001b[0;34m\u001b[0m\u001b[0;34m\u001b[0m\u001b[0m\n\u001b[0m\u001b[1;32m      5\u001b[0m \u001b[0m_response\u001b[0m \u001b[0;34m=\u001b[0m \u001b[0msession\u001b[0m\u001b[0;34m.\u001b[0m\u001b[0mget\u001b[0m\u001b[0;34m(\u001b[0m\u001b[0m_redirect\u001b[0m\u001b[0;34m.\u001b[0m\u001b[0murl\u001b[0m\u001b[0;34m)\u001b[0m\u001b[0;34m\u001b[0m\u001b[0;34m\u001b[0m\u001b[0m\n\u001b[1;32m      6\u001b[0m \u001b[0;32mwith\u001b[0m \u001b[0mopen\u001b[0m\u001b[0;34m(\u001b[0m\u001b[0mfile_name\u001b[0m\u001b[0;34m,\u001b[0m \u001b[0;34m'wb'\u001b[0m\u001b[0;34m)\u001b[0m \u001b[0;32mas\u001b[0m \u001b[0mfile\u001b[0m\u001b[0;34m:\u001b[0m\u001b[0;34m\u001b[0m\u001b[0;34m\u001b[0m\u001b[0m\n",
      "\u001b[0;32m~/opt/anaconda3/envs/py38working/lib/python3.8/site-packages/requests/sessions.py\u001b[0m in \u001b[0;36mget\u001b[0;34m(self, url, **kwargs)\u001b[0m\n\u001b[1;32m    541\u001b[0m \u001b[0;34m\u001b[0m\u001b[0m\n\u001b[1;32m    542\u001b[0m         \u001b[0mkwargs\u001b[0m\u001b[0;34m.\u001b[0m\u001b[0msetdefault\u001b[0m\u001b[0;34m(\u001b[0m\u001b[0;34m'allow_redirects'\u001b[0m\u001b[0;34m,\u001b[0m \u001b[0;32mTrue\u001b[0m\u001b[0;34m)\u001b[0m\u001b[0;34m\u001b[0m\u001b[0;34m\u001b[0m\u001b[0m\n\u001b[0;32m--> 543\u001b[0;31m         \u001b[0;32mreturn\u001b[0m \u001b[0mself\u001b[0m\u001b[0;34m.\u001b[0m\u001b[0mrequest\u001b[0m\u001b[0;34m(\u001b[0m\u001b[0;34m'GET'\u001b[0m\u001b[0;34m,\u001b[0m \u001b[0murl\u001b[0m\u001b[0;34m,\u001b[0m \u001b[0;34m**\u001b[0m\u001b[0mkwargs\u001b[0m\u001b[0;34m)\u001b[0m\u001b[0;34m\u001b[0m\u001b[0;34m\u001b[0m\u001b[0m\n\u001b[0m\u001b[1;32m    544\u001b[0m \u001b[0;34m\u001b[0m\u001b[0m\n\u001b[1;32m    545\u001b[0m     \u001b[0;32mdef\u001b[0m \u001b[0moptions\u001b[0m\u001b[0;34m(\u001b[0m\u001b[0mself\u001b[0m\u001b[0;34m,\u001b[0m \u001b[0murl\u001b[0m\u001b[0;34m,\u001b[0m \u001b[0;34m**\u001b[0m\u001b[0mkwargs\u001b[0m\u001b[0;34m)\u001b[0m\u001b[0;34m:\u001b[0m\u001b[0;34m\u001b[0m\u001b[0;34m\u001b[0m\u001b[0m\n",
      "\u001b[0;32m~/opt/anaconda3/envs/py38working/lib/python3.8/site-packages/requests/sessions.py\u001b[0m in \u001b[0;36mrequest\u001b[0;34m(self, method, url, params, data, headers, cookies, files, auth, timeout, allow_redirects, proxies, hooks, stream, verify, cert, json)\u001b[0m\n\u001b[1;32m    528\u001b[0m         }\n\u001b[1;32m    529\u001b[0m         \u001b[0msend_kwargs\u001b[0m\u001b[0;34m.\u001b[0m\u001b[0mupdate\u001b[0m\u001b[0;34m(\u001b[0m\u001b[0msettings\u001b[0m\u001b[0;34m)\u001b[0m\u001b[0;34m\u001b[0m\u001b[0;34m\u001b[0m\u001b[0m\n\u001b[0;32m--> 530\u001b[0;31m         \u001b[0mresp\u001b[0m \u001b[0;34m=\u001b[0m \u001b[0mself\u001b[0m\u001b[0;34m.\u001b[0m\u001b[0msend\u001b[0m\u001b[0;34m(\u001b[0m\u001b[0mprep\u001b[0m\u001b[0;34m,\u001b[0m \u001b[0;34m**\u001b[0m\u001b[0msend_kwargs\u001b[0m\u001b[0;34m)\u001b[0m\u001b[0;34m\u001b[0m\u001b[0;34m\u001b[0m\u001b[0m\n\u001b[0m\u001b[1;32m    531\u001b[0m \u001b[0;34m\u001b[0m\u001b[0m\n\u001b[1;32m    532\u001b[0m         \u001b[0;32mreturn\u001b[0m \u001b[0mresp\u001b[0m\u001b[0;34m\u001b[0m\u001b[0;34m\u001b[0m\u001b[0m\n",
      "\u001b[0;32m~/opt/anaconda3/envs/py38working/lib/python3.8/site-packages/requests/sessions.py\u001b[0m in \u001b[0;36msend\u001b[0;34m(self, request, **kwargs)\u001b[0m\n\u001b[1;32m    641\u001b[0m \u001b[0;34m\u001b[0m\u001b[0m\n\u001b[1;32m    642\u001b[0m         \u001b[0;31m# Send the request\u001b[0m\u001b[0;34m\u001b[0m\u001b[0;34m\u001b[0m\u001b[0;34m\u001b[0m\u001b[0m\n\u001b[0;32m--> 643\u001b[0;31m         \u001b[0mr\u001b[0m \u001b[0;34m=\u001b[0m \u001b[0madapter\u001b[0m\u001b[0;34m.\u001b[0m\u001b[0msend\u001b[0m\u001b[0;34m(\u001b[0m\u001b[0mrequest\u001b[0m\u001b[0;34m,\u001b[0m \u001b[0;34m**\u001b[0m\u001b[0mkwargs\u001b[0m\u001b[0;34m)\u001b[0m\u001b[0;34m\u001b[0m\u001b[0;34m\u001b[0m\u001b[0m\n\u001b[0m\u001b[1;32m    644\u001b[0m \u001b[0;34m\u001b[0m\u001b[0m\n\u001b[1;32m    645\u001b[0m         \u001b[0;31m# Total elapsed time of the request (approximately)\u001b[0m\u001b[0;34m\u001b[0m\u001b[0;34m\u001b[0m\u001b[0;34m\u001b[0m\u001b[0m\n",
      "\u001b[0;32m~/opt/anaconda3/envs/py38working/lib/python3.8/site-packages/requests/adapters.py\u001b[0m in \u001b[0;36msend\u001b[0;34m(self, request, stream, timeout, verify, cert, proxies)\u001b[0m\n\u001b[1;32m    437\u001b[0m         \u001b[0;32mtry\u001b[0m\u001b[0;34m:\u001b[0m\u001b[0;34m\u001b[0m\u001b[0;34m\u001b[0m\u001b[0m\n\u001b[1;32m    438\u001b[0m             \u001b[0;32mif\u001b[0m \u001b[0;32mnot\u001b[0m \u001b[0mchunked\u001b[0m\u001b[0;34m:\u001b[0m\u001b[0;34m\u001b[0m\u001b[0;34m\u001b[0m\u001b[0m\n\u001b[0;32m--> 439\u001b[0;31m                 resp = conn.urlopen(\n\u001b[0m\u001b[1;32m    440\u001b[0m                     \u001b[0mmethod\u001b[0m\u001b[0;34m=\u001b[0m\u001b[0mrequest\u001b[0m\u001b[0;34m.\u001b[0m\u001b[0mmethod\u001b[0m\u001b[0;34m,\u001b[0m\u001b[0;34m\u001b[0m\u001b[0;34m\u001b[0m\u001b[0m\n\u001b[1;32m    441\u001b[0m                     \u001b[0murl\u001b[0m\u001b[0;34m=\u001b[0m\u001b[0murl\u001b[0m\u001b[0;34m,\u001b[0m\u001b[0;34m\u001b[0m\u001b[0;34m\u001b[0m\u001b[0m\n",
      "\u001b[0;32m~/opt/anaconda3/envs/py38working/lib/python3.8/site-packages/urllib3/connectionpool.py\u001b[0m in \u001b[0;36murlopen\u001b[0;34m(self, method, url, body, headers, retries, redirect, assert_same_host, timeout, pool_timeout, release_conn, chunked, body_pos, **response_kw)\u001b[0m\n\u001b[1;32m    668\u001b[0m \u001b[0;34m\u001b[0m\u001b[0m\n\u001b[1;32m    669\u001b[0m             \u001b[0;31m# Make the request on the httplib connection object.\u001b[0m\u001b[0;34m\u001b[0m\u001b[0;34m\u001b[0m\u001b[0;34m\u001b[0m\u001b[0m\n\u001b[0;32m--> 670\u001b[0;31m             httplib_response = self._make_request(\n\u001b[0m\u001b[1;32m    671\u001b[0m                 \u001b[0mconn\u001b[0m\u001b[0;34m,\u001b[0m\u001b[0;34m\u001b[0m\u001b[0;34m\u001b[0m\u001b[0m\n\u001b[1;32m    672\u001b[0m                 \u001b[0mmethod\u001b[0m\u001b[0;34m,\u001b[0m\u001b[0;34m\u001b[0m\u001b[0;34m\u001b[0m\u001b[0m\n",
      "\u001b[0;32m~/opt/anaconda3/envs/py38working/lib/python3.8/site-packages/urllib3/connectionpool.py\u001b[0m in \u001b[0;36m_make_request\u001b[0;34m(self, conn, method, url, timeout, chunked, **httplib_request_kw)\u001b[0m\n\u001b[1;32m    379\u001b[0m         \u001b[0;31m# Trigger any extra validation we need to do.\u001b[0m\u001b[0;34m\u001b[0m\u001b[0;34m\u001b[0m\u001b[0;34m\u001b[0m\u001b[0m\n\u001b[1;32m    380\u001b[0m         \u001b[0;32mtry\u001b[0m\u001b[0;34m:\u001b[0m\u001b[0;34m\u001b[0m\u001b[0;34m\u001b[0m\u001b[0m\n\u001b[0;32m--> 381\u001b[0;31m             \u001b[0mself\u001b[0m\u001b[0;34m.\u001b[0m\u001b[0m_validate_conn\u001b[0m\u001b[0;34m(\u001b[0m\u001b[0mconn\u001b[0m\u001b[0;34m)\u001b[0m\u001b[0;34m\u001b[0m\u001b[0;34m\u001b[0m\u001b[0m\n\u001b[0m\u001b[1;32m    382\u001b[0m         \u001b[0;32mexcept\u001b[0m \u001b[0;34m(\u001b[0m\u001b[0mSocketTimeout\u001b[0m\u001b[0;34m,\u001b[0m \u001b[0mBaseSSLError\u001b[0m\u001b[0;34m)\u001b[0m \u001b[0;32mas\u001b[0m \u001b[0me\u001b[0m\u001b[0;34m:\u001b[0m\u001b[0;34m\u001b[0m\u001b[0;34m\u001b[0m\u001b[0m\n\u001b[1;32m    383\u001b[0m             \u001b[0;31m# Py2 raises this as a BaseSSLError, Py3 raises it as socket timeout.\u001b[0m\u001b[0;34m\u001b[0m\u001b[0;34m\u001b[0m\u001b[0;34m\u001b[0m\u001b[0m\n",
      "\u001b[0;32m~/opt/anaconda3/envs/py38working/lib/python3.8/site-packages/urllib3/connectionpool.py\u001b[0m in \u001b[0;36m_validate_conn\u001b[0;34m(self, conn)\u001b[0m\n\u001b[1;32m    974\u001b[0m         \u001b[0;31m# Force connect early to allow us to validate the connection.\u001b[0m\u001b[0;34m\u001b[0m\u001b[0;34m\u001b[0m\u001b[0;34m\u001b[0m\u001b[0m\n\u001b[1;32m    975\u001b[0m         \u001b[0;32mif\u001b[0m \u001b[0;32mnot\u001b[0m \u001b[0mgetattr\u001b[0m\u001b[0;34m(\u001b[0m\u001b[0mconn\u001b[0m\u001b[0;34m,\u001b[0m \u001b[0;34m\"sock\"\u001b[0m\u001b[0;34m,\u001b[0m \u001b[0;32mNone\u001b[0m\u001b[0;34m)\u001b[0m\u001b[0;34m:\u001b[0m  \u001b[0;31m# AppEngine might not have  `.sock`\u001b[0m\u001b[0;34m\u001b[0m\u001b[0;34m\u001b[0m\u001b[0m\n\u001b[0;32m--> 976\u001b[0;31m             \u001b[0mconn\u001b[0m\u001b[0;34m.\u001b[0m\u001b[0mconnect\u001b[0m\u001b[0;34m(\u001b[0m\u001b[0;34m)\u001b[0m\u001b[0;34m\u001b[0m\u001b[0;34m\u001b[0m\u001b[0m\n\u001b[0m\u001b[1;32m    977\u001b[0m \u001b[0;34m\u001b[0m\u001b[0m\n\u001b[1;32m    978\u001b[0m         \u001b[0;32mif\u001b[0m \u001b[0;32mnot\u001b[0m \u001b[0mconn\u001b[0m\u001b[0;34m.\u001b[0m\u001b[0mis_verified\u001b[0m\u001b[0;34m:\u001b[0m\u001b[0;34m\u001b[0m\u001b[0;34m\u001b[0m\u001b[0m\n",
      "\u001b[0;32m~/opt/anaconda3/envs/py38working/lib/python3.8/site-packages/urllib3/connection.py\u001b[0m in \u001b[0;36mconnect\u001b[0;34m(self)\u001b[0m\n\u001b[1;32m    306\u001b[0m     \u001b[0;32mdef\u001b[0m \u001b[0mconnect\u001b[0m\u001b[0;34m(\u001b[0m\u001b[0mself\u001b[0m\u001b[0;34m)\u001b[0m\u001b[0;34m:\u001b[0m\u001b[0;34m\u001b[0m\u001b[0;34m\u001b[0m\u001b[0m\n\u001b[1;32m    307\u001b[0m         \u001b[0;31m# Add certificate verification\u001b[0m\u001b[0;34m\u001b[0m\u001b[0;34m\u001b[0m\u001b[0;34m\u001b[0m\u001b[0m\n\u001b[0;32m--> 308\u001b[0;31m         \u001b[0mconn\u001b[0m \u001b[0;34m=\u001b[0m \u001b[0mself\u001b[0m\u001b[0;34m.\u001b[0m\u001b[0m_new_conn\u001b[0m\u001b[0;34m(\u001b[0m\u001b[0;34m)\u001b[0m\u001b[0;34m\u001b[0m\u001b[0;34m\u001b[0m\u001b[0m\n\u001b[0m\u001b[1;32m    309\u001b[0m         \u001b[0mhostname\u001b[0m \u001b[0;34m=\u001b[0m \u001b[0mself\u001b[0m\u001b[0;34m.\u001b[0m\u001b[0mhost\u001b[0m\u001b[0;34m\u001b[0m\u001b[0;34m\u001b[0m\u001b[0m\n\u001b[1;32m    310\u001b[0m \u001b[0;34m\u001b[0m\u001b[0m\n",
      "\u001b[0;32m~/opt/anaconda3/envs/py38working/lib/python3.8/site-packages/urllib3/connection.py\u001b[0m in \u001b[0;36m_new_conn\u001b[0;34m(self)\u001b[0m\n\u001b[1;32m    157\u001b[0m \u001b[0;34m\u001b[0m\u001b[0m\n\u001b[1;32m    158\u001b[0m         \u001b[0;32mtry\u001b[0m\u001b[0;34m:\u001b[0m\u001b[0;34m\u001b[0m\u001b[0;34m\u001b[0m\u001b[0m\n\u001b[0;32m--> 159\u001b[0;31m             conn = connection.create_connection(\n\u001b[0m\u001b[1;32m    160\u001b[0m                 \u001b[0;34m(\u001b[0m\u001b[0mself\u001b[0m\u001b[0;34m.\u001b[0m\u001b[0m_dns_host\u001b[0m\u001b[0;34m,\u001b[0m \u001b[0mself\u001b[0m\u001b[0;34m.\u001b[0m\u001b[0mport\u001b[0m\u001b[0;34m)\u001b[0m\u001b[0;34m,\u001b[0m \u001b[0mself\u001b[0m\u001b[0;34m.\u001b[0m\u001b[0mtimeout\u001b[0m\u001b[0;34m,\u001b[0m \u001b[0;34m**\u001b[0m\u001b[0mextra_kw\u001b[0m\u001b[0;34m\u001b[0m\u001b[0;34m\u001b[0m\u001b[0m\n\u001b[1;32m    161\u001b[0m             )\n",
      "\u001b[0;32m~/opt/anaconda3/envs/py38working/lib/python3.8/site-packages/urllib3/util/connection.py\u001b[0m in \u001b[0;36mcreate_connection\u001b[0;34m(address, timeout, source_address, socket_options)\u001b[0m\n\u001b[1;32m     72\u001b[0m             \u001b[0;32mif\u001b[0m \u001b[0msource_address\u001b[0m\u001b[0;34m:\u001b[0m\u001b[0;34m\u001b[0m\u001b[0;34m\u001b[0m\u001b[0m\n\u001b[1;32m     73\u001b[0m                 \u001b[0msock\u001b[0m\u001b[0;34m.\u001b[0m\u001b[0mbind\u001b[0m\u001b[0;34m(\u001b[0m\u001b[0msource_address\u001b[0m\u001b[0;34m)\u001b[0m\u001b[0;34m\u001b[0m\u001b[0;34m\u001b[0m\u001b[0m\n\u001b[0;32m---> 74\u001b[0;31m             \u001b[0msock\u001b[0m\u001b[0;34m.\u001b[0m\u001b[0mconnect\u001b[0m\u001b[0;34m(\u001b[0m\u001b[0msa\u001b[0m\u001b[0;34m)\u001b[0m\u001b[0;34m\u001b[0m\u001b[0;34m\u001b[0m\u001b[0m\n\u001b[0m\u001b[1;32m     75\u001b[0m             \u001b[0;32mreturn\u001b[0m \u001b[0msock\u001b[0m\u001b[0;34m\u001b[0m\u001b[0;34m\u001b[0m\u001b[0m\n\u001b[1;32m     76\u001b[0m \u001b[0;34m\u001b[0m\u001b[0m\n",
      "\u001b[0;31mKeyboardInterrupt\u001b[0m: "
     ]
    }
   ],
   "source": [
    "from requests import Session\n",
    "session = Session()\n",
    "session.auth = (username, password)\n",
    "_redirect = session.get(url)\n",
    "_response = session.get(_redirect.url)\n",
    "with open(file_name, 'wb') as file:\n",
    "    file.write(_response._content)\n"
   ]
  },
  {
   "cell_type": "code",
   "execution_count": 4,
   "metadata": {
    "scrolled": true
   },
   "outputs": [
    {
     "name": "stdout",
     "output_type": "stream",
     "text": [
      "CAL_LID_L3_Cloud_Occurrence-Standard-V1-00.2009-06A.hdf\n",
      "file_testing.ipynb\n"
     ]
    }
   ],
   "source": [
    "ls"
   ]
  },
  {
   "cell_type": "code",
   "execution_count": 5,
   "metadata": {},
   "outputs": [],
   "source": [
    "DATAFIELD_NAME = 'Cloud_Accepted_Samples'\n",
    "FILE_NAME = 'CAL_LID_L3_Cloud_Occurrence-Standard-V1-00.2009-06A.hdf'\n",
    "hdf = SD(FILE_NAME, SDC.READ)"
   ]
  },
  {
   "cell_type": "code",
   "execution_count": 6,
   "metadata": {},
   "outputs": [
    {
     "data": {
      "text/plain": [
       "<pyhdf.SD.SDAttr at 0x7fad81ed3c40>"
      ]
     },
     "execution_count": 6,
     "metadata": {},
     "output_type": "execute_result"
    }
   ],
   "source": [
    "hdf.attr('CAL_LID_L3_Cloud_Occurrence')"
   ]
  },
  {
   "cell_type": "code",
   "execution_count": 7,
   "metadata": {
    "scrolled": true
   },
   "outputs": [],
   "source": [
    "# Read dataset.\n",
    "DATAFIELD_NAME = 'Temperature_Mean'\n",
    "data2D = hdf.select(DATAFIELD_NAME)\n",
    "data = data2D[:,0]"
   ]
  },
  {
   "cell_type": "code",
   "execution_count": 8,
   "metadata": {},
   "outputs": [
    {
     "data": {
      "text/plain": [
       "(35, 1)"
      ]
     },
     "execution_count": 8,
     "metadata": {},
     "output_type": "execute_result"
    }
   ],
   "source": [
    "hdf.info()"
   ]
  },
  {
   "cell_type": "code",
   "execution_count": 9,
   "metadata": {},
   "outputs": [],
   "source": [
    "# Potentially relevant datasets:\n",
    "# Longitude_Midpoint\n",
    "# Latitude_Midpoint\n",
    "# Altitude_Midpoint\n",
    "# Pressure_Mean\n",
    "# Pressure_Standard_Deviation\n",
    "# Temperature_Mean\n",
    "# Temperature_Standard_Deviation\n",
    "# Days_Of_Month_Observed 'latitude', 'longitude'\n",
    "# 'Cloud_Free_Samples',\n",
    "#  'Cloud_Samples',\n",
    "#  'Cloud_Rejected_Samples',\n",
    "#  'Cloud_Accepted_Samples',\n",
    "#  'Unknown_Cloud_Transparent_Samples',\n",
    "#  'Unknown_Cloud_Opaque_Samples',\n",
    "#  'Water_Cloud_Transparent_Samples',\n",
    "#  'Water_Cloud_Opaque_Samples',\n",
    "#  'Ice_Cloud_Transparent_Samples',\n",
    "#  'Ice_Cloud_Opaque_Samples',"
   ]
  },
  {
   "cell_type": "markdown",
   "metadata": {},
   "source": [
    "Cloud fraction apparently is:  \n",
    "\n",
    "cloud_accepted_samples / (cloud_accepted_samples + cloud_rejected_samples + cloud_free_samples)"
   ]
  },
  {
   "cell_type": "code",
   "execution_count": 40,
   "metadata": {},
   "outputs": [
    {
     "data": {
      "text/plain": [
       "{'Longitude_Midpoint': (('longitude',), (144,), 5, 0),\n",
       " 'Latitude_Midpoint': (('latitude',), (85,), 5, 1),\n",
       " 'Altitude_Midpoint': (('altitude',), (344,), 5, 2),\n",
       " 'Pressure_Mean': (('latitude', 'longitude', 'altitude'),\n",
       "  (85, 144, 344),\n",
       "  5,\n",
       "  3),\n",
       " 'Pressure_Standard_Deviation': (('latitude', 'longitude', 'altitude'),\n",
       "  (85, 144, 344),\n",
       "  5,\n",
       "  4),\n",
       " 'Temperature_Mean': (('latitude', 'longitude', 'altitude'),\n",
       "  (85, 144, 344),\n",
       "  5,\n",
       "  5),\n",
       " 'Temperature_Standard_Deviation': (('latitude', 'longitude', 'altitude'),\n",
       "  (85, 144, 344),\n",
       "  5,\n",
       "  6),\n",
       " 'Relative_Humidity_Mean': (('latitude', 'longitude', 'altitude'),\n",
       "  (85, 144, 344),\n",
       "  5,\n",
       "  7),\n",
       " 'Relative_Humidity_Standard_Deviation': (('latitude',\n",
       "   'longitude',\n",
       "   'altitude'),\n",
       "  (85, 144, 344),\n",
       "  5,\n",
       "  8),\n",
       " 'Tropopause_Height_Mean': (('latitude', 'longitude'), (85, 144), 5, 9),\n",
       " 'Tropopause_Height_Standard_Deviation': (('latitude', 'longitude'),\n",
       "  (85, 144),\n",
       "  5,\n",
       "  10),\n",
       " 'DEM_Surface_Elevation_Minimum': (('latitude', 'longitude'),\n",
       "  (85, 144),\n",
       "  5,\n",
       "  11),\n",
       " 'DEM_Surface_Elevation_Maximum': (('latitude', 'longitude'),\n",
       "  (85, 144),\n",
       "  5,\n",
       "  12),\n",
       " 'DEM_Surface_Elevation_Median': (('latitude', 'longitude'), (85, 144), 5, 13),\n",
       " 'Snow_Ice_Surface_Mean': (('latitude', 'longitude'), (85, 144), 5, 14),\n",
       " 'Snow_Ice_Surface_Standard_Deviation': (('latitude', 'longitude'),\n",
       "  (85, 144),\n",
       "  5,\n",
       "  15),\n",
       " 'Snow_Ice_Surface_Minimum': (('latitude', 'longitude'), (85, 144), 5, 16),\n",
       " 'Snow_Ice_Surface_Maximum': (('latitude', 'longitude'), (85, 144), 5, 17),\n",
       " 'Snow_Ice_Surface_Median': (('latitude', 'longitude'), (85, 144), 5, 18),\n",
       " 'Land_Surface_Samples': (('latitude', 'longitude'), (85, 144), 24, 19),\n",
       " 'Water_Surface_Samples': (('latitude', 'longitude'), (85, 144), 24, 20),\n",
       " 'Days_Of_Month_Observed': (('latitude', 'longitude'), (85, 144), 25, 21),\n",
       " 'Lidar_Surface_Subsurface_Samples': (('latitude', 'longitude', 'altitude'),\n",
       "  (85, 144, 344),\n",
       "  22,\n",
       "  22),\n",
       " 'Totally_Attenuated_Samples': (('latitude', 'longitude', 'altitude'),\n",
       "  (85, 144, 344),\n",
       "  22,\n",
       "  23),\n",
       " 'Cloud_Free_Samples': (('latitude', 'longitude', 'altitude'),\n",
       "  (85, 144, 344),\n",
       "  22,\n",
       "  24),\n",
       " 'Cloud_Samples': (('latitude', 'longitude', 'altitude'),\n",
       "  (85, 144, 344),\n",
       "  22,\n",
       "  25),\n",
       " 'Cloud_Rejected_Samples': (('latitude', 'longitude', 'altitude'),\n",
       "  (85, 144, 344),\n",
       "  22,\n",
       "  26),\n",
       " 'Cloud_Accepted_Samples': (('latitude', 'longitude', 'altitude'),\n",
       "  (85, 144, 344),\n",
       "  22,\n",
       "  27),\n",
       " 'Unknown_Cloud_Transparent_Samples': (('latitude', 'longitude', 'altitude'),\n",
       "  (85, 144, 344),\n",
       "  22,\n",
       "  28),\n",
       " 'Unknown_Cloud_Opaque_Samples': (('latitude', 'longitude', 'altitude'),\n",
       "  (85, 144, 344),\n",
       "  22,\n",
       "  29),\n",
       " 'Water_Cloud_Transparent_Samples': (('latitude', 'longitude', 'altitude'),\n",
       "  (85, 144, 344),\n",
       "  22,\n",
       "  30),\n",
       " 'Water_Cloud_Opaque_Samples': (('latitude', 'longitude', 'altitude'),\n",
       "  (85, 144, 344),\n",
       "  22,\n",
       "  31),\n",
       " 'Ice_Cloud_Transparent_Samples': (('latitude', 'longitude', 'altitude'),\n",
       "  (85, 144, 344),\n",
       "  22,\n",
       "  32),\n",
       " 'Ice_Cloud_Opaque_Samples': (('latitude', 'longitude', 'altitude'),\n",
       "  (85, 144, 344),\n",
       "  22,\n",
       "  33),\n",
       " 'Ice_Cloud_Optical_Depth_Histogram': (('latitude',\n",
       "   'longitude',\n",
       "   'altitude',\n",
       "   'optical_depth_scale'),\n",
       "  (85, 144, 344, 7),\n",
       "  22,\n",
       "  34)}"
      ]
     },
     "execution_count": 40,
     "metadata": {},
     "output_type": "execute_result"
    }
   ],
   "source": [
    "hdf.datasets()"
   ]
  },
  {
   "cell_type": "code",
   "execution_count": 39,
   "metadata": {
    "scrolled": true
   },
   "outputs": [
    {
     "data": {
      "text/plain": [
       "['Longitude_Midpoint',\n",
       " 'Latitude_Midpoint',\n",
       " 'Altitude_Midpoint',\n",
       " 'Pressure_Mean',\n",
       " 'Pressure_Standard_Deviation',\n",
       " 'Temperature_Mean',\n",
       " 'Temperature_Standard_Deviation',\n",
       " 'Relative_Humidity_Mean',\n",
       " 'Relative_Humidity_Standard_Deviation',\n",
       " 'Tropopause_Height_Mean',\n",
       " 'Tropopause_Height_Standard_Deviation',\n",
       " 'DEM_Surface_Elevation_Minimum',\n",
       " 'DEM_Surface_Elevation_Maximum',\n",
       " 'DEM_Surface_Elevation_Median',\n",
       " 'Snow_Ice_Surface_Mean',\n",
       " 'Snow_Ice_Surface_Standard_Deviation',\n",
       " 'Snow_Ice_Surface_Minimum',\n",
       " 'Snow_Ice_Surface_Maximum',\n",
       " 'Snow_Ice_Surface_Median',\n",
       " 'Land_Surface_Samples',\n",
       " 'Water_Surface_Samples',\n",
       " 'Days_Of_Month_Observed',\n",
       " 'Lidar_Surface_Subsurface_Samples',\n",
       " 'Totally_Attenuated_Samples',\n",
       " 'Cloud_Free_Samples',\n",
       " 'Cloud_Samples',\n",
       " 'Cloud_Rejected_Samples',\n",
       " 'Cloud_Accepted_Samples',\n",
       " 'Unknown_Cloud_Transparent_Samples',\n",
       " 'Unknown_Cloud_Opaque_Samples',\n",
       " 'Water_Cloud_Transparent_Samples',\n",
       " 'Water_Cloud_Opaque_Samples',\n",
       " 'Ice_Cloud_Transparent_Samples',\n",
       " 'Ice_Cloud_Opaque_Samples',\n",
       " 'Ice_Cloud_Optical_Depth_Histogram']"
      ]
     },
     "execution_count": 39,
     "metadata": {},
     "output_type": "execute_result"
    }
   ],
   "source": [
    "list(hdf.datasets().keys())"
   ]
  },
  {
   "cell_type": "code",
   "execution_count": 43,
   "metadata": {},
   "outputs": [
    {
     "data": {
      "text/plain": [
       "('0...32767', 3, 4, 9)"
      ]
     },
     "execution_count": 43,
     "metadata": {},
     "output_type": "execute_result"
    }
   ],
   "source": [
    "attrs[\"valid_range\"]"
   ]
  },
  {
   "cell_type": "code",
   "execution_count": 11,
   "metadata": {},
   "outputs": [],
   "source": [
    "DATAFIELD_NAME = 'Cloud_Accepted_Samples'\n",
    "FILE_NAME = 'CAL_LID_L3_Cloud_Occurrence-Standard-V1-00.2009-06A.hdf'\n",
    "hdf = SD(FILE_NAME, SDC.READ)\n",
    "        \n",
    "# Read dataset.\n",
    "data2D = hdf.select(DATAFIELD_NAME)\n",
    "data = data2D[:,:,:]\n",
    "\n",
    "# Read attributes.\n",
    "attrs = data2D.attributes(full=1)\n",
    "fva=attrs[\"fillvalue\"]\n",
    "_FillValue = fva[0]\n",
    "ua=attrs[\"units\"]\n",
    "units = ua[0]\n",
    "\n",
    "vra=attrs[\"valid_range\"]\n",
    "vra_str = vra[0]\n",
    "\n",
    "# Valid attribute is string '0.0...25.0'.\n",
    "smin, smax = vra_str.split(\"...\")\n",
    "valid_min = float(smin)\n",
    "valid_max = float(smax)\n",
    "\n",
    "invalid = np.logical_or(data > valid_max,\n",
    "                        data < valid_min)\n",
    "invalid = np.logical_or(invalid, data == _FillValue)\n",
    "data = np.where(invalid, np.nan, data)\n",
    "\n",
    "# Read geolocation datasets.\n",
    "latitude = hdf.select('Latitude_Midpoint')\n",
    "lat = latitude[:]\n",
    "\n",
    "longitude = hdf.select('Longitude_Midpoint')\n",
    "lon = longitude[:]\n",
    "\n",
    "altitude = hdf.select('Altitude_Midpoint')\n",
    "alt = altitude[:]\n",
    "\n",
    "days_observed = hdf.select('Days_Of_Month_Observed')\n",
    "days = days_observed[:,:]\n",
    "\n",
    "temperature = hdf.select('Temperature_Mean')\n",
    "temp = temperature[:,:,:]"
   ]
  },
  {
   "cell_type": "code",
   "execution_count": 44,
   "metadata": {},
   "outputs": [
    {
     "data": {
      "text/plain": [
       "{'units': ('NoUnits', 0, 4, 7),\n",
       " 'format': ('Int_16', 1, 4, 6),\n",
       " 'fillvalue': (-9999, 2, 24, 1),\n",
       " 'valid_range': ('0...32767', 3, 4, 9)}"
      ]
     },
     "execution_count": 44,
     "metadata": {},
     "output_type": "execute_result"
    }
   ],
   "source": [
    "attrs"
   ]
  },
  {
   "cell_type": "code",
   "execution_count": 209,
   "metadata": {},
   "outputs": [
    {
     "name": "stdout",
     "output_type": "stream",
     "text": [
      "CPU times: user 855 ms, sys: 301 ms, total: 1.16 s\n",
      "Wall time: 1.76 s\n"
     ]
    }
   ],
   "source": [
    "%%time\n",
    "FILE_NAME = 'CAL_LID_L3_Cloud_Occurrence-Standard-V1-00.2009-06A.hdf'\n",
    "        \n",
    "datafields = ['Pressure_Mean', 'Pressure_Standard_Deviation',\n",
    "              'Temperature_Mean', 'Temperature_Standard_Deviation',\n",
    "              'Cloud_Free_Samples','Cloud_Samples','Cloud_Rejected_Samples',\n",
    "              'Cloud_Accepted_Samples','Unknown_Cloud_Transparent_Samples',\n",
    "              'Unknown_Cloud_Opaque_Samples', 'Water_Cloud_Transparent_Samples',\n",
    "              'Water_Cloud_Opaque_Samples', 'Ice_Cloud_Transparent_Samples',\n",
    "              'Ice_Cloud_Opaque_Samples',\n",
    "             ]\n",
    "\n",
    "# datafields = ['Cloud_Accepted_Samples','Ice_Cloud_Opaque_Samples']\n",
    "\n",
    "# Open hdf file\n",
    "hdf = SD(FILE_NAME, SDC.READ)\n",
    "\n",
    "# Read geolocation datasets (and days observed)\n",
    "latitude = hdf.select('Latitude_Midpoint')\n",
    "lat = latitude[:]\n",
    "\n",
    "longitude = hdf.select('Longitude_Midpoint')\n",
    "lon = longitude[:]\n",
    "\n",
    "altitude = hdf.select('Altitude_Midpoint')\n",
    "alt = altitude[:]\n",
    "\n",
    "days_observed = hdf.select('Days_Of_Month_Observed')\n",
    "\n",
    "intdays = validate_field(days_observed) # Coded as a 32bit unsigned int\n",
    "ndays = vcalc_days(days_observed[:]) # Convert to the actual number of days\n",
    "\n",
    "var_dict = {}\n",
    "# Add to variables dictionary\n",
    "var_dict['Days_Of_Month_Observed'] = (('lat','lon'), days)\n",
    "var_dict['N_Days_Observed'] = (('lat','lon'), ndays)\n",
    "\n",
    "for field in datafields:\n",
    "    # Read dataset.\n",
    "    data3D = hdf.select(field)\n",
    "    data = validate_field(data3D)\n",
    "        \n",
    "    var_dict[field] = (('lat','lon','alt'), data)\n",
    "    \n",
    "# Create dataset\n",
    "testds = xr.Dataset(\n",
    "    var_dict,\n",
    "    coords={\n",
    "        'lat': lat,\n",
    "        'lon': lon,\n",
    "        'alt': alt,  \n",
    "    },\n",
    ")"
   ]
  },
  {
   "cell_type": "code",
   "execution_count": 214,
   "metadata": {},
   "outputs": [
    {
     "name": "stdout",
     "output_type": "stream",
     "text": [
      "CPU times: user 853 ms, sys: 324 ms, total: 1.18 s\n",
      "Wall time: 1.45 s\n"
     ]
    }
   ],
   "source": [
    "%%time\n",
    "\n",
    "out = hdf_to_netcdf('CAL_LID_L3_Cloud_Occurrence-Standard-V1-00.2009-06A.hdf')"
   ]
  },
  {
   "cell_type": "code",
   "execution_count": 212,
   "metadata": {},
   "outputs": [],
   "source": [
    "def hdf_to_netcdf(FILE_NAME):\n",
    "    '''\n",
    "    Read from CALIOP hdf file to netcdf format.\n",
    "    Could take fields as an argument and handle errors better.\n",
    "    '''\n",
    "    \n",
    "    datafields = ['Pressure_Mean', 'Pressure_Standard_Deviation',\n",
    "              'Temperature_Mean', 'Temperature_Standard_Deviation',\n",
    "              'Cloud_Free_Samples','Cloud_Samples','Cloud_Rejected_Samples',\n",
    "              'Cloud_Accepted_Samples','Unknown_Cloud_Transparent_Samples',\n",
    "              'Unknown_Cloud_Opaque_Samples', 'Water_Cloud_Transparent_Samples',\n",
    "              'Water_Cloud_Opaque_Samples', 'Ice_Cloud_Transparent_Samples',\n",
    "              'Ice_Cloud_Opaque_Samples',\n",
    "             ]\n",
    "\n",
    "    # datafields = ['Cloud_Accepted_Samples','Ice_Cloud_Opaque_Samples']\n",
    "\n",
    "    # Open hdf file\n",
    "    hdf = SD(FILE_NAME, SDC.READ)\n",
    "\n",
    "    # Read geolocation datasets (and days observed)\n",
    "    latitude = hdf.select('Latitude_Midpoint')\n",
    "    lat = latitude[:]\n",
    "\n",
    "    longitude = hdf.select('Longitude_Midpoint')\n",
    "    lon = longitude[:]\n",
    "\n",
    "    altitude = hdf.select('Altitude_Midpoint')\n",
    "    alt = altitude[:]\n",
    "\n",
    "    days_observed = hdf.select('Days_Of_Month_Observed')\n",
    "\n",
    "    intdays = validate_field(days_observed) # Coded as a 32bit unsigned int\n",
    "    ndays = vcalc_days(days_observed[:]) # Convert to the actual number of days\n",
    "\n",
    "    var_dict = {}\n",
    "    # Add to variables dictionary\n",
    "    var_dict['Days_Of_Month_Observed'] = (('lat','lon'), days)\n",
    "    var_dict['N_Days_Observed'] = (('lat','lon'), ndays)\n",
    "\n",
    "    for field in datafields:\n",
    "        # Read dataset.\n",
    "        data3D = hdf.select(field)\n",
    "        data = validate_field(data3D)\n",
    "\n",
    "        var_dict[field] = (('lat','lon','alt'), data)\n",
    "\n",
    "    # Create dataset\n",
    "    ds = xr.Dataset(\n",
    "        var_dict,\n",
    "        coords={\n",
    "            'lat': lat,\n",
    "            'lon': lon,\n",
    "            'alt': alt,  \n",
    "        },\n",
    "    )\n",
    "    \n",
    "    return ds"
   ]
  },
  {
   "cell_type": "code",
   "execution_count": 195,
   "metadata": {},
   "outputs": [],
   "source": [
    "def calc_days(uint):\n",
    "    \"Return 1 if a>b, otherwise return 0\"\n",
    "    return f'{uint:b}'.count('1')\n",
    "vcalc_days = np.vectorize(calc_days) # this is so cool!!"
   ]
  },
  {
   "cell_type": "code",
   "execution_count": 149,
   "metadata": {},
   "outputs": [],
   "source": [
    "def validate_field(hdf_selected):\n",
    "    \n",
    "    data = hdf_selected[:] # selects all regardless of the shape?\n",
    "    #^Tested with: all((hdf_selected[:,:] == hdf_selected[:]).flatten()), so good I think\n",
    "    \n",
    "    # Read attributes.\n",
    "    attrs = hdf_selected.attributes(full=1)\n",
    "\n",
    "    # Get fill values\n",
    "    fva=attrs[\"fillvalue\"]\n",
    "    _FillValue = fva[0]\n",
    "\n",
    "    # Get units\n",
    "    ua=attrs[\"units\"]\n",
    "    units = ua[0]\n",
    "\n",
    "    # Get valid range\n",
    "    vra=attrs[\"valid_range\"]\n",
    "    vra_str = vra[0]\n",
    "\n",
    "    # Valid attribute is string 'min...max'. Process from string\n",
    "    smin, smax = vra_str.split(\"...\")\n",
    "    valid_min = float(smin)\n",
    "    valid_max = float(smax)\n",
    "\n",
    "    # Invalid values\n",
    "    invalid = np.logical_or(data > valid_max,\n",
    "                            data < valid_min)\n",
    "    invalid = np.logical_or(invalid, data == _FillValue)\n",
    "    # Invalids as nan\n",
    "    data = np.where(invalid, np.nan, data)\n",
    "    \n",
    "    return data"
   ]
  },
  {
   "cell_type": "code",
   "execution_count": 81,
   "metadata": {},
   "outputs": [],
   "source": [
    "# cloud_accepted_samples / (cloud_accepted_samples + cloud_rejected_samples + cloud_free_samples)\n",
    "testds['CLDTOT'] = testds['Cloud_Accepted_Samples'] / (testds['Cloud_Accepted_Samples'] + testds['Cloud_Rejected_Samples'] + testds['Cloud_Free_Samples'])"
   ]
  },
  {
   "cell_type": "code",
   "execution_count": 123,
   "metadata": {},
   "outputs": [
    {
     "data": {
      "text/plain": [
       "<matplotlib.collections.QuadMesh at 0x7facf5820f40>"
      ]
     },
     "execution_count": 123,
     "metadata": {},
     "output_type": "execute_result"
    },
    {
     "data": {
      "image/png": "[encoded data removed]",
      "text/plain": [
       "<Figure size 432x288 with 2 Axes>"
      ]
     },
     "metadata": {
      "needs_background": "light"
     },
     "output_type": "display_data"
    }
   ],
   "source": [
    "testds['Cloud_Samples'].mean('lon').plot()"
   ]
  },
  {
   "cell_type": "code",
   "execution_count": 121,
   "metadata": {},
   "outputs": [
    {
     "data": {
      "text/plain": [
       "<matplotlib.collections.QuadMesh at 0x7fad1350a790>"
      ]
     },
     "execution_count": 121,
     "metadata": {},
     "output_type": "execute_result"
    },
    {
     "data": {
      "image/png": "[encoded data removed]",
      "text/plain": [
       "<Figure size 432x288 with 2 Axes>"
      ]
     },
     "metadata": {
      "needs_background": "light"
     },
     "output_type": "display_data"
    }
   ],
   "source": [
    "testds['Cloud_Samples'].mean('lon').plot()"
   ]
  },
  {
   "cell_type": "code",
   "execution_count": 83,
   "metadata": {},
   "outputs": [
    {
     "data": {
      "text/plain": [
       "<matplotlib.collections.QuadMesh at 0x7fad40d71100>"
      ]
     },
     "execution_count": 83,
     "metadata": {},
     "output_type": "execute_result"
    },
    {
     "data": {
      "image/png": "[encoded data removed]",
      "text/plain": [
       "<Figure size 432x288 with 2 Axes>"
      ]
     },
     "metadata": {
      "needs_background": "light"
     },
     "output_type": "display_data"
    }
   ],
   "source": [
    "testds['CLDTOT'][:,:,34].plot()"
   ]
  },
  {
   "cell_type": "code",
   "execution_count": 72,
   "metadata": {},
   "outputs": [
    {
     "data": {
      "text/html": [
       "<div><svg style=\"position: absolute; width: 0; height: 0; overflow: hidden\">\n",
       "<defs>\n",
       "<symbol id=\"icon-database\" viewBox=\"0 0 32 32\">\n",
       "<path d=\"M16 0c-8.837 0-16 2.239-16 5v4c0 2.761 7.163 5 16 5s16-2.239 16-5v-4c0-2.761-7.163-5-16-5z\"></path>\n",
       "<path d=\"M16 17c-8.837 0-16-2.239-16-5v6c0 2.761 7.163 5 16 5s16-2.239 16-5v-6c0 2.761-7.163 5-16 5z\"></path>\n",
       "<path d=\"M16 26c-8.837 0-16-2.239-16-5v6c0 2.761 7.163 5 16 5s16-2.239 16-5v-6c0 2.761-7.163 5-16 5z\"></path>\n",
       "</symbol>\n",
       "<symbol id=\"icon-file-text2\" viewBox=\"0 0 32 32\">\n",
       "<path d=\"M28.681 7.159c-0.694-0.947-1.662-2.053-2.724-3.116s-2.169-2.030-3.116-2.724c-1.612-1.182-2.393-1.319-2.841-1.319h-15.5c-1.378 0-2.5 1.121-2.5 2.5v27c0 1.378 1.122 2.5 2.5 2.5h23c1.378 0 2.5-1.122 2.5-2.5v-19.5c0-0.448-0.137-1.23-1.319-2.841zM24.543 5.457c0.959 0.959 1.712 1.825 2.268 2.543h-4.811v-4.811c0.718 0.556 1.584 1.309 2.543 2.268zM28 29.5c0 0.271-0.229 0.5-0.5 0.5h-23c-0.271 0-0.5-0.229-0.5-0.5v-27c0-0.271 0.229-0.5 0.5-0.5 0 0 15.499-0 15.5 0v7c0 0.552 0.448 1 1 1h7v19.5z\"></path>\n",
       "<path d=\"M23 26h-14c-0.552 0-1-0.448-1-1s0.448-1 1-1h14c0.552 0 1 0.448 1 1s-0.448 1-1 1z\"></path>\n",
       "<path d=\"M23 22h-14c-0.552 0-1-0.448-1-1s0.448-1 1-1h14c0.552 0 1 0.448 1 1s-0.448 1-1 1z\"></path>\n",
       "<path d=\"M23 18h-14c-0.552 0-1-0.448-1-1s0.448-1 1-1h14c0.552 0 1 0.448 1 1s-0.448 1-1 1z\"></path>\n",
       "</symbol>\n",
       "</defs>\n",
       "</svg>\n",
       "<style>/* CSS stylesheet for displaying xarray objects in jupyterlab.\n",
       " *\n",
       " */\n",
       "\n",
       ":root {\n",
       "  --xr-font-color0: var(--jp-content-font-color0, rgba(0, 0, 0, 1));\n",
       "  --xr-font-color2: var(--jp-content-font-color2, rgba(0, 0, 0, 0.54));\n",
       "  --xr-font-color3: var(--jp-content-font-color3, rgba(0, 0, 0, 0.38));\n",
       "  --xr-border-color: var(--jp-border-color2, #e0e0e0);\n",
       "  --xr-disabled-color: var(--jp-layout-color3, #bdbdbd);\n",
       "  --xr-background-color: var(--jp-layout-color0, white);\n",
       "  --xr-background-color-row-even: var(--jp-layout-color1, white);\n",
       "  --xr-background-color-row-odd: var(--jp-layout-color2, #eeeeee);\n",
       "}\n",
       "\n",
       "html[theme=dark],\n",
       "body.vscode-dark {\n",
       "  --xr-font-color0: rgba(255, 255, 255, 1);\n",
       "  --xr-font-color2: rgba(255, 255, 255, 0.54);\n",
       "  --xr-font-color3: rgba(255, 255, 255, 0.38);\n",
       "  --xr-border-color: #1F1F1F;\n",
       "  --xr-disabled-color: #515151;\n",
       "  --xr-background-color: #111111;\n",
       "  --xr-background-color-row-even: #111111;\n",
       "  --xr-background-color-row-odd: #313131;\n",
       "}\n",
       "\n",
       ".xr-wrap {\n",
       "  display: block;\n",
       "  min-width: 300px;\n",
       "  max-width: 700px;\n",
       "}\n",
       "\n",
       ".xr-text-repr-fallback {\n",
       "  /* fallback to plain text repr when CSS is not injected (untrusted notebook) */\n",
       "  display: none;\n",
       "}\n",
       "\n",
       ".xr-header {\n",
       "  padding-top: 6px;\n",
       "  padding-bottom: 6px;\n",
       "  margin-bottom: 4px;\n",
       "  border-bottom: solid 1px var(--xr-border-color);\n",
       "}\n",
       "\n",
       ".xr-header > div,\n",
       ".xr-header > ul {\n",
       "  display: inline;\n",
       "  margin-top: 0;\n",
       "  margin-bottom: 0;\n",
       "}\n",
       "\n",
       ".xr-obj-type,\n",
       ".xr-array-name {\n",
       "  margin-left: 2px;\n",
       "  margin-right: 10px;\n",
       "}\n",
       "\n",
       ".xr-obj-type {\n",
       "  color: var(--xr-font-color2);\n",
       "}\n",
       "\n",
       ".xr-sections {\n",
       "  padding-left: 0 !important;\n",
       "  display: grid;\n",
       "  grid-template-columns: 150px auto auto 1fr 20px 20px;\n",
       "}\n",
       "\n",
       ".xr-section-item {\n",
       "  display: contents;\n",
       "}\n",
       "\n",
       ".xr-section-item input {\n",
       "  display: none;\n",
       "}\n",
       "\n",
       ".xr-section-item input + label {\n",
       "  color: var(--xr-disabled-color);\n",
       "}\n",
       "\n",
       ".xr-section-item input:enabled + label {\n",
       "  cursor: pointer;\n",
       "  color: var(--xr-font-color2);\n",
       "}\n",
       "\n",
       ".xr-section-item input:enabled + label:hover {\n",
       "  color: var(--xr-font-color0);\n",
       "}\n",
       "\n",
       ".xr-section-summary {\n",
       "  grid-column: 1;\n",
       "  color: var(--xr-font-color2);\n",
       "  font-weight: 500;\n",
       "}\n",
       "\n",
       ".xr-section-summary > span {\n",
       "  display: inline-block;\n",
       "  padding-left: 0.5em;\n",
       "}\n",
       "\n",
       ".xr-section-summary-in:disabled + label {\n",
       "  color: var(--xr-font-color2);\n",
       "}\n",
       "\n",
       ".xr-section-summary-in + label:before {\n",
       "  display: inline-block;\n",
       "  content: '►';\n",
       "  font-size: 11px;\n",
       "  width: 15px;\n",
       "  text-align: center;\n",
       "}\n",
       "\n",
       ".xr-section-summary-in:disabled + label:before {\n",
       "  color: var(--xr-disabled-color);\n",
       "}\n",
       "\n",
       ".xr-section-summary-in:checked + label:before {\n",
       "  content: '▼';\n",
       "}\n",
       "\n",
       ".xr-section-summary-in:checked + label > span {\n",
       "  display: none;\n",
       "}\n",
       "\n",
       ".xr-section-summary,\n",
       ".xr-section-inline-details {\n",
       "  padding-top: 4px;\n",
       "  padding-bottom: 4px;\n",
       "}\n",
       "\n",
       ".xr-section-inline-details {\n",
       "  grid-column: 2 / -1;\n",
       "}\n",
       "\n",
       ".xr-section-details {\n",
       "  display: none;\n",
       "  grid-column: 1 / -1;\n",
       "  margin-bottom: 5px;\n",
       "}\n",
       "\n",
       ".xr-section-summary-in:checked ~ .xr-section-details {\n",
       "  display: contents;\n",
       "}\n",
       "\n",
       ".xr-array-wrap {\n",
       "  grid-column: 1 / -1;\n",
       "  display: grid;\n",
       "  grid-template-columns: 20px auto;\n",
       "}\n",
       "\n",
       ".xr-array-wrap > label {\n",
       "  grid-column: 1;\n",
       "  vertical-align: top;\n",
       "}\n",
       "\n",
       ".xr-preview {\n",
       "  color: var(--xr-font-color3);\n",
       "}\n",
       "\n",
       ".xr-array-preview,\n",
       ".xr-array-data {\n",
       "  padding: 0 5px !important;\n",
       "  grid-column: 2;\n",
       "}\n",
       "\n",
       ".xr-array-data,\n",
       ".xr-array-in:checked ~ .xr-array-preview {\n",
       "  display: none;\n",
       "}\n",
       "\n",
       ".xr-array-in:checked ~ .xr-array-data,\n",
       ".xr-array-preview {\n",
       "  display: inline-block;\n",
       "}\n",
       "\n",
       ".xr-dim-list {\n",
       "  display: inline-block !important;\n",
       "  list-style: none;\n",
       "  padding: 0 !important;\n",
       "  margin: 0;\n",
       "}\n",
       "\n",
       ".xr-dim-list li {\n",
       "  display: inline-block;\n",
       "  padding: 0;\n",
       "  margin: 0;\n",
       "}\n",
       "\n",
       ".xr-dim-list:before {\n",
       "  content: '(';\n",
       "}\n",
       "\n",
       ".xr-dim-list:after {\n",
       "  content: ')';\n",
       "}\n",
       "\n",
       ".xr-dim-list li:not(:last-child):after {\n",
       "  content: ',';\n",
       "  padding-right: 5px;\n",
       "}\n",
       "\n",
       ".xr-has-index {\n",
       "  font-weight: bold;\n",
       "}\n",
       "\n",
       ".xr-var-list,\n",
       ".xr-var-item {\n",
       "  display: contents;\n",
       "}\n",
       "\n",
       ".xr-var-item > div,\n",
       ".xr-var-item label,\n",
       ".xr-var-item > .xr-var-name span {\n",
       "  background-color: var(--xr-background-color-row-even);\n",
       "  margin-bottom: 0;\n",
       "}\n",
       "\n",
       ".xr-var-item > .xr-var-name:hover span {\n",
       "  padding-right: 5px;\n",
       "}\n",
       "\n",
       ".xr-var-list > li:nth-child(odd) > div,\n",
       ".xr-var-list > li:nth-child(odd) > label,\n",
       ".xr-var-list > li:nth-child(odd) > .xr-var-name span {\n",
       "  background-color: var(--xr-background-color-row-odd);\n",
       "}\n",
       "\n",
       ".xr-var-name {\n",
       "  grid-column: 1;\n",
       "}\n",
       "\n",
       ".xr-var-dims {\n",
       "  grid-column: 2;\n",
       "}\n",
       "\n",
       ".xr-var-dtype {\n",
       "  grid-column: 3;\n",
       "  text-align: right;\n",
       "  color: var(--xr-font-color2);\n",
       "}\n",
       "\n",
       ".xr-var-preview {\n",
       "  grid-column: 4;\n",
       "}\n",
       "\n",
       ".xr-var-name,\n",
       ".xr-var-dims,\n",
       ".xr-var-dtype,\n",
       ".xr-preview,\n",
       ".xr-attrs dt {\n",
       "  white-space: nowrap;\n",
       "  overflow: hidden;\n",
       "  text-overflow: ellipsis;\n",
       "  padding-right: 10px;\n",
       "}\n",
       "\n",
       ".xr-var-name:hover,\n",
       ".xr-var-dims:hover,\n",
       ".xr-var-dtype:hover,\n",
       ".xr-attrs dt:hover {\n",
       "  overflow: visible;\n",
       "  width: auto;\n",
       "  z-index: 1;\n",
       "}\n",
       "\n",
       ".xr-var-attrs,\n",
       ".xr-var-data {\n",
       "  display: none;\n",
       "  background-color: var(--xr-background-color) !important;\n",
       "  padding-bottom: 5px !important;\n",
       "}\n",
       "\n",
       ".xr-var-attrs-in:checked ~ .xr-var-attrs,\n",
       ".xr-var-data-in:checked ~ .xr-var-data {\n",
       "  display: block;\n",
       "}\n",
       "\n",
       ".xr-var-data > table {\n",
       "  float: right;\n",
       "}\n",
       "\n",
       ".xr-var-name span,\n",
       ".xr-var-data,\n",
       ".xr-attrs {\n",
       "  padding-left: 25px !important;\n",
       "}\n",
       "\n",
       ".xr-attrs,\n",
       ".xr-var-attrs,\n",
       ".xr-var-data {\n",
       "  grid-column: 1 / -1;\n",
       "}\n",
       "\n",
       "dl.xr-attrs {\n",
       "  padding: 0;\n",
       "  margin: 0;\n",
       "  display: grid;\n",
       "  grid-template-columns: 125px auto;\n",
       "}\n",
       "\n",
       ".xr-attrs dt,\n",
       ".xr-attrs dd {\n",
       "  padding: 0;\n",
       "  margin: 0;\n",
       "  float: left;\n",
       "  padding-right: 10px;\n",
       "  width: auto;\n",
       "}\n",
       "\n",
       ".xr-attrs dt {\n",
       "  font-weight: normal;\n",
       "  grid-column: 1;\n",
       "}\n",
       "\n",
       ".xr-attrs dt:hover span {\n",
       "  display: inline-block;\n",
       "  background: var(--xr-background-color);\n",
       "  padding-right: 10px;\n",
       "}\n",
       "\n",
       ".xr-attrs dd {\n",
       "  grid-column: 2;\n",
       "  white-space: pre-wrap;\n",
       "  word-break: break-all;\n",
       "}\n",
       "\n",
       ".xr-icon-database,\n",
       ".xr-icon-file-text2 {\n",
       "  display: inline-block;\n",
       "  vertical-align: middle;\n",
       "  width: 1em;\n",
       "  height: 1.5em !important;\n",
       "  stroke-width: 0;\n",
       "  stroke: currentColor;\n",
       "  fill: currentColor;\n",
       "}\n",
       "</style><pre class='xr-text-repr-fallback'>&lt;xarray.DataArray &#x27;alt&#x27; (alt: 344)&gt;\n",
       "array([-0.380048, -0.320144, -0.26024 , ..., 20.047157, 20.107063, 20.166965],\n",
       "      dtype=float32)\n",
       "Coordinates:\n",
       "  * alt      (alt) float32 -0.38 -0.3201 -0.2602 -0.2003 ... 20.05 20.11 20.17</pre><div class='xr-wrap' hidden><div class='xr-header'><div class='xr-obj-type'>xarray.DataArray</div><div class='xr-array-name'>'alt'</div><ul class='xr-dim-list'><li><span class='xr-has-index'>alt</span>: 344</li></ul></div><ul class='xr-sections'><li class='xr-section-item'><div class='xr-array-wrap'><input id='section-7a74c784-cfbd-4d04-a57c-6656c47115f0' class='xr-array-in' type='checkbox' checked><label for='section-7a74c784-cfbd-4d04-a57c-6656c47115f0' title='Show/hide data repr'><svg class='icon xr-icon-database'><use xlink:href='#icon-database'></use></svg></label><div class='xr-array-preview xr-preview'><span>-0.38 -0.3201 -0.2602 -0.2003 -0.1404 ... 19.99 20.05 20.11 20.17</span></div><div class='xr-array-data'><pre>array([-0.380048, -0.320144, -0.26024 , ..., 20.047157, 20.107063, 20.166965],\n",
       "      dtype=float32)</pre></div></div></li><li class='xr-section-item'><input id='section-8de9a178-323c-4e3f-aec8-a2cfd8a32960' class='xr-section-summary-in' type='checkbox'  checked><label for='section-8de9a178-323c-4e3f-aec8-a2cfd8a32960' class='xr-section-summary' >Coordinates: <span>(1)</span></label><div class='xr-section-inline-details'></div><div class='xr-section-details'><ul class='xr-var-list'><li class='xr-var-item'><div class='xr-var-name'><span class='xr-has-index'>alt</span></div><div class='xr-var-dims'>(alt)</div><div class='xr-var-dtype'>float32</div><div class='xr-var-preview xr-preview'>-0.38 -0.3201 ... 20.11 20.17</div><input id='attrs-fa374c8f-3b93-4ad8-a5c6-4e577b144994' class='xr-var-attrs-in' type='checkbox' disabled><label for='attrs-fa374c8f-3b93-4ad8-a5c6-4e577b144994' title='Show/Hide attributes'><svg class='icon xr-icon-file-text2'><use xlink:href='#icon-file-text2'></use></svg></label><input id='data-99faee6b-8ea5-4da1-a11a-8a868305b906' class='xr-var-data-in' type='checkbox'><label for='data-99faee6b-8ea5-4da1-a11a-8a868305b906' title='Show/Hide data repr'><svg class='icon xr-icon-database'><use xlink:href='#icon-database'></use></svg></label><div class='xr-var-attrs'><dl class='xr-attrs'></dl></div><div class='xr-var-data'><pre>array([-0.380048, -0.320144, -0.26024 , ..., 20.047157, 20.107063, 20.166965],\n",
       "      dtype=float32)</pre></div></li></ul></div></li><li class='xr-section-item'><input id='section-cdaf4b3e-8ae2-4b76-8c4c-96f8de2a1388' class='xr-section-summary-in' type='checkbox' disabled ><label for='section-cdaf4b3e-8ae2-4b76-8c4c-96f8de2a1388' class='xr-section-summary'  title='Expand/collapse section'>Attributes: <span>(0)</span></label><div class='xr-section-inline-details'></div><div class='xr-section-details'><dl class='xr-attrs'></dl></div></li></ul></div></div>"
      ],
      "text/plain": [
       "<xarray.DataArray 'alt' (alt: 344)>\n",
       "array([-0.380048, -0.320144, -0.26024 , ..., 20.047157, 20.107063, 20.166965],\n",
       "      dtype=float32)\n",
       "Coordinates:\n",
       "  * alt      (alt) float32 -0.38 -0.3201 -0.2602 -0.2003 ... 20.05 20.11 20.17"
      ]
     },
     "execution_count": 72,
     "metadata": {},
     "output_type": "execute_result"
    }
   ],
   "source": [
    "testds.alt"
   ]
  },
  {
   "cell_type": "code",
   "execution_count": 67,
   "metadata": {},
   "outputs": [
    {
     "data": {
      "text/plain": [
       "{'Cloud_Accepted_Samples': (('lat', 'lon', 'alt'),\n",
       "  array([[[  nan,   nan,   nan, ...,   nan,   nan,   nan],\n",
       "          [  nan,   nan,   nan, ...,   nan,   nan,   nan],\n",
       "          [  nan,   nan,   nan, ...,   nan,   nan,   nan],\n",
       "          ...,\n",
       "          [  nan,   nan,   nan, ...,   nan,   nan,   nan],\n",
       "          [  nan,   nan,   nan, ...,   nan,   nan,   nan],\n",
       "          [  nan,   nan,   nan, ...,   nan,   nan,   nan]],\n",
       "  \n",
       "         [[   0.,    0.,    0., ..., 1468., 1468., 1468.],\n",
       "          [   0.,    0.,    0., ..., 1542., 1542., 1542.],\n",
       "          [   0.,    0.,    0., ..., 1610., 1610., 1610.],\n",
       "          ...,\n",
       "          [   0.,    0.,    0., ..., 1469., 1469., 1467.],\n",
       "          [   0.,    0.,    0., ..., 1483., 1468., 1455.],\n",
       "          [   0.,    0.,    0., ..., 1382., 1382., 1382.]],\n",
       "  \n",
       "         [[   0.,    0.,    0., ..., 1336., 1336., 1336.],\n",
       "          [   0.,    0.,    0., ..., 1218., 1218., 1218.],\n",
       "          [   0.,    0.,    0., ..., 1143., 1143., 1143.],\n",
       "          ...,\n",
       "          [   0.,    0.,    0., ..., 1424., 1424., 1424.],\n",
       "          [   0.,    0.,    0., ..., 1365., 1335., 1335.],\n",
       "          [   0.,    0.,    0., ..., 1217., 1217., 1202.]],\n",
       "  \n",
       "         ...,\n",
       "  \n",
       "         [[   0.,    0.,    0., ...,    0.,    0.,    0.],\n",
       "          [   0.,    0.,    0., ...,    0.,    0.,    0.],\n",
       "          [   0.,    0.,    0., ...,    0.,    0.,    0.],\n",
       "          ...,\n",
       "          [   0.,    0.,    0., ...,    0.,    0.,    0.],\n",
       "          [   0.,    0.,    0., ...,    0.,    0.,    0.],\n",
       "          [   0.,    0.,    0., ...,    0.,    0.,    0.]],\n",
       "  \n",
       "         [[   0.,    0.,    0., ...,    0.,    0.,    0.],\n",
       "          [   0.,    0.,    0., ...,    0.,    0.,    0.],\n",
       "          [   0.,    0.,    0., ...,    0.,    0.,    0.],\n",
       "          ...,\n",
       "          [   0.,    0.,    0., ...,    0.,    0.,    0.],\n",
       "          [   0.,    0.,    0., ...,    0.,    0.,    0.],\n",
       "          [   0.,    0.,    0., ...,    0.,    0.,    0.]],\n",
       "  \n",
       "         [[  nan,   nan,   nan, ...,   nan,   nan,   nan],\n",
       "          [  nan,   nan,   nan, ...,   nan,   nan,   nan],\n",
       "          [  nan,   nan,   nan, ...,   nan,   nan,   nan],\n",
       "          ...,\n",
       "          [  nan,   nan,   nan, ...,   nan,   nan,   nan],\n",
       "          [  nan,   nan,   nan, ...,   nan,   nan,   nan],\n",
       "          [  nan,   nan,   nan, ...,   nan,   nan,   nan]]]))}"
      ]
     },
     "execution_count": 67,
     "metadata": {},
     "output_type": "execute_result"
    }
   ],
   "source": [
    "var_dict"
   ]
  },
  {
   "cell_type": "code",
   "execution_count": null,
   "metadata": {},
   "outputs": [],
   "source": [
    "var_dict = {}"
   ]
  },
  {
   "cell_type": "code",
   "execution_count": 65,
   "metadata": {},
   "outputs": [
    {
     "ename": "SyntaxError",
     "evalue": "'break' outside loop (<ipython-input-65-57283acb9061>, line 48)",
     "output_type": "error",
     "traceback": [
      "\u001b[0;36m  File \u001b[0;32m\"<ipython-input-65-57283acb9061>\"\u001b[0;36m, line \u001b[0;32m48\u001b[0m\n\u001b[0;31m    break\u001b[0m\n\u001b[0m    ^\u001b[0m\n\u001b[0;31mSyntaxError\u001b[0m\u001b[0;31m:\u001b[0m 'break' outside loop\n"
     ]
    }
   ],
   "source": [
    "testds = xr.Dataset(\n",
    "    {\"cloud_accpt\": (('lat','lon','alt') ,data)},\n",
    "    coords={\n",
    "        'lat': lat,\n",
    "        'lon': lon,\n",
    "        'alt': alt,  \n",
    "    },\n",
    ")"
   ]
  },
  {
   "cell_type": "code",
   "execution_count": 57,
   "metadata": {},
   "outputs": [
    {
     "data": {
      "text/plain": [
       "array([[[  nan,   nan,   nan, ...,   nan,   nan,   nan],\n",
       "        [  nan,   nan,   nan, ...,   nan,   nan,   nan],\n",
       "        [  nan,   nan,   nan, ...,   nan,   nan,   nan],\n",
       "        ...,\n",
       "        [  nan,   nan,   nan, ...,   nan,   nan,   nan],\n",
       "        [  nan,   nan,   nan, ...,   nan,   nan,   nan],\n",
       "        [  nan,   nan,   nan, ...,   nan,   nan,   nan]],\n",
       "\n",
       "       [[   0.,    0.,    0., ..., 1468., 1468., 1468.],\n",
       "        [   0.,    0.,    0., ..., 1542., 1542., 1542.],\n",
       "        [   0.,    0.,    0., ..., 1610., 1610., 1610.],\n",
       "        ...,\n",
       "        [   0.,    0.,    0., ..., 1469., 1469., 1467.],\n",
       "        [   0.,    0.,    0., ..., 1483., 1468., 1455.],\n",
       "        [   0.,    0.,    0., ..., 1382., 1382., 1382.]],\n",
       "\n",
       "       [[   0.,    0.,    0., ..., 1336., 1336., 1336.],\n",
       "        [   0.,    0.,    0., ..., 1218., 1218., 1218.],\n",
       "        [   0.,    0.,    0., ..., 1143., 1143., 1143.],\n",
       "        ...,\n",
       "        [   0.,    0.,    0., ..., 1424., 1424., 1424.],\n",
       "        [   0.,    0.,    0., ..., 1365., 1335., 1335.],\n",
       "        [   0.,    0.,    0., ..., 1217., 1217., 1202.]],\n",
       "\n",
       "       ...,\n",
       "\n",
       "       [[   0.,    0.,    0., ...,    0.,    0.,    0.],\n",
       "        [   0.,    0.,    0., ...,    0.,    0.,    0.],\n",
       "        [   0.,    0.,    0., ...,    0.,    0.,    0.],\n",
       "        ...,\n",
       "        [   0.,    0.,    0., ...,    0.,    0.,    0.],\n",
       "        [   0.,    0.,    0., ...,    0.,    0.,    0.],\n",
       "        [   0.,    0.,    0., ...,    0.,    0.,    0.]],\n",
       "\n",
       "       [[   0.,    0.,    0., ...,    0.,    0.,    0.],\n",
       "        [   0.,    0.,    0., ...,    0.,    0.,    0.],\n",
       "        [   0.,    0.,    0., ...,    0.,    0.,    0.],\n",
       "        ...,\n",
       "        [   0.,    0.,    0., ...,    0.,    0.,    0.],\n",
       "        [   0.,    0.,    0., ...,    0.,    0.,    0.],\n",
       "        [   0.,    0.,    0., ...,    0.,    0.,    0.]],\n",
       "\n",
       "       [[  nan,   nan,   nan, ...,   nan,   nan,   nan],\n",
       "        [  nan,   nan,   nan, ...,   nan,   nan,   nan],\n",
       "        [  nan,   nan,   nan, ...,   nan,   nan,   nan],\n",
       "        ...,\n",
       "        [  nan,   nan,   nan, ...,   nan,   nan,   nan],\n",
       "        [  nan,   nan,   nan, ...,   nan,   nan,   nan],\n",
       "        [  nan,   nan,   nan, ...,   nan,   nan,   nan]]])"
      ]
     },
     "execution_count": 57,
     "metadata": {},
     "output_type": "execute_result"
    }
   ],
   "source": [
    "data"
   ]
  },
  {
   "cell_type": "code",
   "execution_count": 15,
   "metadata": {},
   "outputs": [],
   "source": [
    "Lon,Lat = np.meshgrid(lon,lat)"
   ]
  },
  {
   "cell_type": "code",
   "execution_count": 17,
   "metadata": {},
   "outputs": [],
   "source": [
    "zmean = np.mean(data,axis=2)\n",
    "zsum = np.sum(data,axis=2)"
   ]
  },
  {
   "cell_type": "code",
   "execution_count": 62,
   "metadata": {},
   "outputs": [],
   "source": [
    "test2 = np.mean(data,axis=1)"
   ]
  },
  {
   "cell_type": "code",
   "execution_count": 63,
   "metadata": {},
   "outputs": [
    {
     "data": {
      "text/plain": [
       "(85, 344)"
      ]
     },
     "execution_count": 63,
     "metadata": {},
     "output_type": "execute_result"
    }
   ],
   "source": [
    "test2.shape"
   ]
  },
  {
   "cell_type": "code",
   "execution_count": null,
   "metadata": {},
   "outputs": [],
   "source": [
    "plt.plot()"
   ]
  },
  {
   "cell_type": "code",
   "execution_count": 58,
   "metadata": {},
   "outputs": [
    {
     "data": {
      "text/plain": [
       "<matplotlib.collections.PolyCollection at 0x7fad70c64ee0>"
      ]
     },
     "execution_count": 58,
     "metadata": {},
     "output_type": "execute_result"
    },
    {
     "data": {
      "image/png": "[encoded data removed]",
      "text/plain": [
       "<Figure size 432x288 with 1 Axes>"
      ]
     },
     "metadata": {
      "needs_background": "light"
     },
     "output_type": "display_data"
    }
   ],
   "source": [
    "plt.pcolor(Lon,Lat, data[:,:,160])"
   ]
  },
  {
   "cell_type": "code",
   "execution_count": 19,
   "metadata": {},
   "outputs": [
    {
     "data": {
      "text/plain": [
       "<matplotlib.collections.PolyCollection at 0x7fad86b0d370>"
      ]
     },
     "execution_count": 19,
     "metadata": {},
     "output_type": "execute_result"
    },
    {
     "data": {
      "image/png": "[encoded data removed]",
      "text/plain": [
       "<Figure size 432x288 with 1 Axes>"
      ]
     },
     "metadata": {
      "needs_background": "light"
     },
     "output_type": "display_data"
    }
   ],
   "source": [
    "plt.pcolor(Lon,Lat, zsum)"
   ]
  },
  {
   "cell_type": "code",
   "execution_count": 30,
   "metadata": {},
   "outputs": [
    {
     "data": {
      "text/plain": [
       "array([-84., -82., -80., -78., -76., -74., -72., -70., -68., -66., -64.,\n",
       "       -62., -60., -58., -56., -54., -52., -50., -48., -46., -44., -42.,\n",
       "       -40., -38., -36., -34., -32., -30., -28., -26., -24., -22., -20.,\n",
       "       -18., -16., -14., -12., -10.,  -8.,  -6.,  -4.,  -2.,   0.,   2.,\n",
       "         4.,   6.,   8.,  10.,  12.,  14.,  16.,  18.,  20.,  22.,  24.,\n",
       "        26.,  28.,  30.,  32.,  34.,  36.,  38.,  40.,  42.,  44.,  46.,\n",
       "        48.,  50.,  52.,  54.,  56.,  58.,  60.,  62.,  64.,  66.,  68.,\n",
       "        70.,  72.,  74.,  76.,  78.,  80.,  82.,  84.], dtype=float32)"
      ]
     },
     "execution_count": 30,
     "metadata": {},
     "output_type": "execute_result"
    }
   ],
   "source": [
    "lat"
   ]
  },
  {
   "cell_type": "code",
   "execution_count": 34,
   "metadata": {},
   "outputs": [
    {
     "data": {
      "text/plain": [
       "(344,)"
      ]
     },
     "execution_count": 34,
     "metadata": {},
     "output_type": "execute_result"
    }
   ],
   "source": [
    "alt.shape"
   ]
  },
  {
   "cell_type": "code",
   "execution_count": 35,
   "metadata": {},
   "outputs": [],
   "source": [
    "testds = xr.Dataset(\n",
    "    {\"cloud_accpt\": (('lat','lon','alt') ,data)},\n",
    "    coords={\n",
    "        'lat': lat,\n",
    "        'lon': lon,\n",
    "        'alt': alt,  \n",
    "    },\n",
    ")"
   ]
  },
  {
   "cell_type": "code",
   "execution_count": 37,
   "metadata": {},
   "outputs": [
    {
     "data": {
      "text/plain": [
       "<matplotlib.collections.QuadMesh at 0x7fad822ad190>"
      ]
     },
     "execution_count": 37,
     "metadata": {},
     "output_type": "execute_result"
    },
    {
     "data": {
      "image/png": "[encoded data removed]",
      "text/plain": [
       "<Figure size 432x288 with 2 Axes>"
      ]
     },
     "metadata": {
      "needs_background": "light"
     },
     "output_type": "display_data"
    }
   ],
   "source": [
    "testds['cloud_accpt'].mean(dim='alt').plot()"
   ]
  },
  {
   "cell_type": "code",
   "execution_count": 24,
   "metadata": {},
   "outputs": [],
   "source": [
    "ds = xr.Dataset(\n",
    "    {\"foo\": ((\"x\", \"y\"), np.random.rand(4, 5))},\n",
    "    coords={\n",
    "        \"x\": [10, 20, 30, 40],\n",
    "        \"y\": pd.date_range(\"2000-01-01\", periods=5),\n",
    "        \"z\": (\"x\", list(\"abcd\")),\n",
    "    },\n",
    ")"
   ]
  },
  {
   "cell_type": "code",
   "execution_count": 64,
   "metadata": {},
   "outputs": [
    {
     "ename": "ValueError",
     "evalue": "x and y must be the same size",
     "output_type": "error",
     "traceback": [
      "\u001b[0;31m---------------------------------------------------------------------------\u001b[0m",
      "\u001b[0;31mValueError\u001b[0m                                Traceback (most recent call last)",
      "\u001b[0;32m<ipython-input-64-96fdc98eac60>\u001b[0m in \u001b[0;36m<module>\u001b[0;34m\u001b[0m\n\u001b[0;32m----> 1\u001b[0;31m plt.scatter(lon, lat, c=data[:,:,0], s=1, cmap=plt.cm.jet,\n\u001b[0m\u001b[1;32m      2\u001b[0m           edgecolors=None, linewidth=0)\n\u001b[1;32m      3\u001b[0m \u001b[0mcb\u001b[0m \u001b[0;34m=\u001b[0m \u001b[0mm\u001b[0m\u001b[0;34m.\u001b[0m\u001b[0mcolorbar\u001b[0m\u001b[0;34m(\u001b[0m\u001b[0;34m)\u001b[0m\u001b[0;34m\u001b[0m\u001b[0;34m\u001b[0m\u001b[0m\n\u001b[1;32m      4\u001b[0m \u001b[0mcb\u001b[0m\u001b[0;34m.\u001b[0m\u001b[0mset_label\u001b[0m\u001b[0;34m(\u001b[0m\u001b[0munits\u001b[0m\u001b[0;34m)\u001b[0m\u001b[0;34m\u001b[0m\u001b[0;34m\u001b[0m\u001b[0m\n",
      "\u001b[0;32m~/opt/anaconda3/envs/hdf4/lib/python3.8/site-packages/matplotlib/pyplot.py\u001b[0m in \u001b[0;36mscatter\u001b[0;34m(x, y, s, c, marker, cmap, norm, vmin, vmax, alpha, linewidths, verts, edgecolors, plotnonfinite, data, **kwargs)\u001b[0m\n\u001b[1;32m   2809\u001b[0m         \u001b[0mverts\u001b[0m\u001b[0;34m=\u001b[0m\u001b[0mcbook\u001b[0m\u001b[0;34m.\u001b[0m\u001b[0mdeprecation\u001b[0m\u001b[0;34m.\u001b[0m\u001b[0m_deprecated_parameter\u001b[0m\u001b[0;34m,\u001b[0m\u001b[0;34m\u001b[0m\u001b[0;34m\u001b[0m\u001b[0m\n\u001b[1;32m   2810\u001b[0m         edgecolors=None, *, plotnonfinite=False, data=None, **kwargs):\n\u001b[0;32m-> 2811\u001b[0;31m     __ret = gca().scatter(\n\u001b[0m\u001b[1;32m   2812\u001b[0m         \u001b[0mx\u001b[0m\u001b[0;34m,\u001b[0m \u001b[0my\u001b[0m\u001b[0;34m,\u001b[0m \u001b[0ms\u001b[0m\u001b[0;34m=\u001b[0m\u001b[0ms\u001b[0m\u001b[0;34m,\u001b[0m \u001b[0mc\u001b[0m\u001b[0;34m=\u001b[0m\u001b[0mc\u001b[0m\u001b[0;34m,\u001b[0m \u001b[0mmarker\u001b[0m\u001b[0;34m=\u001b[0m\u001b[0mmarker\u001b[0m\u001b[0;34m,\u001b[0m \u001b[0mcmap\u001b[0m\u001b[0;34m=\u001b[0m\u001b[0mcmap\u001b[0m\u001b[0;34m,\u001b[0m \u001b[0mnorm\u001b[0m\u001b[0;34m=\u001b[0m\u001b[0mnorm\u001b[0m\u001b[0;34m,\u001b[0m\u001b[0;34m\u001b[0m\u001b[0;34m\u001b[0m\u001b[0m\n\u001b[1;32m   2813\u001b[0m         \u001b[0mvmin\u001b[0m\u001b[0;34m=\u001b[0m\u001b[0mvmin\u001b[0m\u001b[0;34m,\u001b[0m \u001b[0mvmax\u001b[0m\u001b[0;34m=\u001b[0m\u001b[0mvmax\u001b[0m\u001b[0;34m,\u001b[0m \u001b[0malpha\u001b[0m\u001b[0;34m=\u001b[0m\u001b[0malpha\u001b[0m\u001b[0;34m,\u001b[0m \u001b[0mlinewidths\u001b[0m\u001b[0;34m=\u001b[0m\u001b[0mlinewidths\u001b[0m\u001b[0;34m,\u001b[0m\u001b[0;34m\u001b[0m\u001b[0;34m\u001b[0m\u001b[0m\n",
      "\u001b[0;32m~/opt/anaconda3/envs/hdf4/lib/python3.8/site-packages/matplotlib/__init__.py\u001b[0m in \u001b[0;36minner\u001b[0;34m(ax, data, *args, **kwargs)\u001b[0m\n\u001b[1;32m   1563\u001b[0m     \u001b[0;32mdef\u001b[0m \u001b[0minner\u001b[0m\u001b[0;34m(\u001b[0m\u001b[0max\u001b[0m\u001b[0;34m,\u001b[0m \u001b[0;34m*\u001b[0m\u001b[0margs\u001b[0m\u001b[0;34m,\u001b[0m \u001b[0mdata\u001b[0m\u001b[0;34m=\u001b[0m\u001b[0;32mNone\u001b[0m\u001b[0;34m,\u001b[0m \u001b[0;34m**\u001b[0m\u001b[0mkwargs\u001b[0m\u001b[0;34m)\u001b[0m\u001b[0;34m:\u001b[0m\u001b[0;34m\u001b[0m\u001b[0;34m\u001b[0m\u001b[0m\n\u001b[1;32m   1564\u001b[0m         \u001b[0;32mif\u001b[0m \u001b[0mdata\u001b[0m \u001b[0;32mis\u001b[0m \u001b[0;32mNone\u001b[0m\u001b[0;34m:\u001b[0m\u001b[0;34m\u001b[0m\u001b[0;34m\u001b[0m\u001b[0m\n\u001b[0;32m-> 1565\u001b[0;31m             \u001b[0;32mreturn\u001b[0m \u001b[0mfunc\u001b[0m\u001b[0;34m(\u001b[0m\u001b[0max\u001b[0m\u001b[0;34m,\u001b[0m \u001b[0;34m*\u001b[0m\u001b[0mmap\u001b[0m\u001b[0;34m(\u001b[0m\u001b[0msanitize_sequence\u001b[0m\u001b[0;34m,\u001b[0m \u001b[0margs\u001b[0m\u001b[0;34m)\u001b[0m\u001b[0;34m,\u001b[0m \u001b[0;34m**\u001b[0m\u001b[0mkwargs\u001b[0m\u001b[0;34m)\u001b[0m\u001b[0;34m\u001b[0m\u001b[0;34m\u001b[0m\u001b[0m\n\u001b[0m\u001b[1;32m   1566\u001b[0m \u001b[0;34m\u001b[0m\u001b[0m\n\u001b[1;32m   1567\u001b[0m         \u001b[0mbound\u001b[0m \u001b[0;34m=\u001b[0m \u001b[0mnew_sig\u001b[0m\u001b[0;34m.\u001b[0m\u001b[0mbind\u001b[0m\u001b[0;34m(\u001b[0m\u001b[0max\u001b[0m\u001b[0;34m,\u001b[0m \u001b[0;34m*\u001b[0m\u001b[0margs\u001b[0m\u001b[0;34m,\u001b[0m \u001b[0;34m**\u001b[0m\u001b[0mkwargs\u001b[0m\u001b[0;34m)\u001b[0m\u001b[0;34m\u001b[0m\u001b[0;34m\u001b[0m\u001b[0m\n",
      "\u001b[0;32m~/opt/anaconda3/envs/hdf4/lib/python3.8/site-packages/matplotlib/cbook/deprecation.py\u001b[0m in \u001b[0;36mwrapper\u001b[0;34m(*args, **kwargs)\u001b[0m\n\u001b[1;32m    356\u001b[0m                 \u001b[0;34mf\"%(removal)s.  If any parameter follows {name!r}, they \"\u001b[0m\u001b[0;34m\u001b[0m\u001b[0;34m\u001b[0m\u001b[0m\n\u001b[1;32m    357\u001b[0m                 f\"should be pass as keyword, not positionally.\")\n\u001b[0;32m--> 358\u001b[0;31m         \u001b[0;32mreturn\u001b[0m \u001b[0mfunc\u001b[0m\u001b[0;34m(\u001b[0m\u001b[0;34m*\u001b[0m\u001b[0margs\u001b[0m\u001b[0;34m,\u001b[0m \u001b[0;34m**\u001b[0m\u001b[0mkwargs\u001b[0m\u001b[0;34m)\u001b[0m\u001b[0;34m\u001b[0m\u001b[0;34m\u001b[0m\u001b[0m\n\u001b[0m\u001b[1;32m    359\u001b[0m \u001b[0;34m\u001b[0m\u001b[0m\n\u001b[1;32m    360\u001b[0m     \u001b[0;32mreturn\u001b[0m \u001b[0mwrapper\u001b[0m\u001b[0;34m\u001b[0m\u001b[0;34m\u001b[0m\u001b[0m\n",
      "\u001b[0;32m~/opt/anaconda3/envs/hdf4/lib/python3.8/site-packages/matplotlib/axes/_axes.py\u001b[0m in \u001b[0;36mscatter\u001b[0;34m(self, x, y, s, c, marker, cmap, norm, vmin, vmax, alpha, linewidths, verts, edgecolors, plotnonfinite, **kwargs)\u001b[0m\n\u001b[1;32m   4389\u001b[0m         \u001b[0my\u001b[0m \u001b[0;34m=\u001b[0m \u001b[0mnp\u001b[0m\u001b[0;34m.\u001b[0m\u001b[0mma\u001b[0m\u001b[0;34m.\u001b[0m\u001b[0mravel\u001b[0m\u001b[0;34m(\u001b[0m\u001b[0my\u001b[0m\u001b[0;34m)\u001b[0m\u001b[0;34m\u001b[0m\u001b[0;34m\u001b[0m\u001b[0m\n\u001b[1;32m   4390\u001b[0m         \u001b[0;32mif\u001b[0m \u001b[0mx\u001b[0m\u001b[0;34m.\u001b[0m\u001b[0msize\u001b[0m \u001b[0;34m!=\u001b[0m \u001b[0my\u001b[0m\u001b[0;34m.\u001b[0m\u001b[0msize\u001b[0m\u001b[0;34m:\u001b[0m\u001b[0;34m\u001b[0m\u001b[0;34m\u001b[0m\u001b[0m\n\u001b[0;32m-> 4391\u001b[0;31m             \u001b[0;32mraise\u001b[0m \u001b[0mValueError\u001b[0m\u001b[0;34m(\u001b[0m\u001b[0;34m\"x and y must be the same size\"\u001b[0m\u001b[0;34m)\u001b[0m\u001b[0;34m\u001b[0m\u001b[0;34m\u001b[0m\u001b[0m\n\u001b[0m\u001b[1;32m   4392\u001b[0m \u001b[0;34m\u001b[0m\u001b[0m\n\u001b[1;32m   4393\u001b[0m         \u001b[0;32mif\u001b[0m \u001b[0ms\u001b[0m \u001b[0;32mis\u001b[0m \u001b[0;32mNone\u001b[0m\u001b[0;34m:\u001b[0m\u001b[0;34m\u001b[0m\u001b[0;34m\u001b[0m\u001b[0m\n",
      "\u001b[0;31mValueError\u001b[0m: x and y must be the same size"
     ]
    },
    {
     "data": {
      "image/png": "[encoded data removed]",
      "text/plain": [
       "<Figure size 432x288 with 1 Axes>"
      ]
     },
     "metadata": {
      "needs_background": "light"
     },
     "output_type": "display_data"
    }
   ],
   "source": [
    "plt.scatter(lon, lat, c=data, s=1, cmap=plt.cm.jet,\n",
    "          edgecolors=None, linewidth=0)\n",
    "cb = m.colorbar()\n",
    "cb.set_label(units)"
   ]
  },
  {
   "cell_type": "code",
   "execution_count": 36,
   "metadata": {},
   "outputs": [
    {
     "data": {
      "text/plain": [
       "array([-84., -82., -80., -78., -76., -74., -72., -70., -68., -66., -64.,\n",
       "       -62., -60., -58., -56., -54., -52., -50., -48., -46., -44., -42.,\n",
       "       -40., -38., -36., -34., -32., -30., -28., -26., -24., -22., -20.,\n",
       "       -18., -16., -14., -12., -10.,  -8.,  -6.,  -4.,  -2.,   0.,   2.,\n",
       "         4.,   6.,   8.,  10.,  12.,  14.,  16.,  18.,  20.,  22.,  24.,\n",
       "        26.,  28.,  30.,  32.,  34.,  36.,  38.,  40.,  42.,  44.,  46.,\n",
       "        48.,  50.,  52.,  54.,  56.,  58.,  60.,  62.,  64.,  66.,  68.,\n",
       "        70.,  72.,  74.,  76.,  78.,  80.,  82.,  84.], dtype=float32)"
      ]
     },
     "execution_count": 36,
     "metadata": {},
     "output_type": "execute_result"
    }
   ],
   "source": [
    "latitude[:]"
   ]
  },
  {
   "cell_type": "code",
   "execution_count": 32,
   "metadata": {},
   "outputs": [
    {
     "data": {
      "text/plain": [
       "array([[  nan,   nan,   nan, ...,   nan,   nan,   nan],\n",
       "       [   0.,    0.,    0., ..., 1468., 1468., 1468.],\n",
       "       [   0.,    0.,    0., ..., 1336., 1336., 1336.],\n",
       "       ...,\n",
       "       [   0.,    0.,    0., ...,    0.,    0.,    0.],\n",
       "       [   0.,    0.,    0., ...,    0.,    0.,    0.],\n",
       "       [  nan,   nan,   nan, ...,   nan,   nan,   nan]])"
      ]
     },
     "execution_count": 32,
     "metadata": {},
     "output_type": "execute_result"
    }
   ],
   "source": [
    "np.where(invalid, np.nan, data)"
   ]
  },
  {
   "cell_type": "code",
   "execution_count": 20,
   "metadata": {},
   "outputs": [
    {
     "data": {
      "text/plain": [
       "array([[ True,  True,  True, ...,  True,  True,  True],\n",
       "       [False, False, False, ..., False, False, False],\n",
       "       [False, False, False, ..., False, False, False],\n",
       "       ...,\n",
       "       [False, False, False, ..., False, False, False],\n",
       "       [False, False, False, ..., False, False, False],\n",
       "       [ True,  True,  True, ...,  True,  True,  True]])"
      ]
     },
     "execution_count": 20,
     "metadata": {},
     "output_type": "execute_result"
    }
   ],
   "source": [
    "invalid"
   ]
  },
  {
   "cell_type": "code",
   "execution_count": 45,
   "metadata": {},
   "outputs": [
    {
     "data": {
      "text/plain": [
       "(85, 144, 344)"
      ]
     },
     "execution_count": 45,
     "metadata": {},
     "output_type": "execute_result"
    }
   ],
   "source": [
    "invalid.shape"
   ]
  },
  {
   "cell_type": "code",
   "execution_count": 19,
   "metadata": {},
   "outputs": [
    {
     "data": {
      "text/plain": [
       "array([ True,  True,  True, ...,  True,  True,  True])"
      ]
     },
     "execution_count": 19,
     "metadata": {},
     "output_type": "execute_result"
    }
   ],
   "source": [
    "np.reshape(invalid,(85*344,))"
   ]
  },
  {
   "cell_type": "code",
   "execution_count": 14,
   "metadata": {},
   "outputs": [
    {
     "data": {
      "text/plain": [
       "(array([  0,   1,   2,   3,   4,   5,   6,   7,   8,   9,  10,  11,  12,\n",
       "         13,  14,  15,  16,  17,  18,  19,  20,  21,  22,  23,  24,  25,\n",
       "         26,  27,  28,  29,  30,  31,  32,  33,  34,  35,  36,  37,  38,\n",
       "         39,  40,  41,  42,  43,  44,  45,  46,  47,  48,  49,  50,  51,\n",
       "         52,  53,  54,  55,  56,  57,  58,  59,  60,  61,  62,  63,  64,\n",
       "         65,  66,  67,  68,  69,  70,  71,  72,  73,  74,  75,  76,  77,\n",
       "         78,  79,  80,  81,  82,  83,  84,  85,  86,  87,  88,  89,  90,\n",
       "         91,  92,  93,  94,  95,  96,  97,  98,  99, 100, 101, 102, 103,\n",
       "        104, 105, 106, 107, 108, 109, 110, 111, 112, 113, 114, 115, 116,\n",
       "        117, 118, 119, 120, 121, 122, 123, 124, 125, 126, 127, 128, 129,\n",
       "        130, 131, 132, 133, 134, 135, 136, 137, 138, 139, 140, 141, 142,\n",
       "        143, 144, 145, 146, 147, 148, 149, 150, 151, 152, 153, 154, 155,\n",
       "        156, 157, 158, 159, 160, 161, 162, 163, 164, 165, 166, 167, 168,\n",
       "        169, 170, 171, 172, 173, 174, 175, 176, 177, 178, 179, 180, 181,\n",
       "        182, 183, 184, 185, 186, 187, 188, 189, 190, 191, 192, 193, 194,\n",
       "        195, 196, 197, 198, 199, 200, 201, 202, 203, 204, 205, 206, 207,\n",
       "        208, 209, 210, 211, 212, 213, 214, 215, 216, 217, 218, 219, 220,\n",
       "        221, 222, 223, 224, 225, 226, 227, 228, 229, 230, 231, 232, 233,\n",
       "        234, 235, 236, 237, 238, 239, 240, 241, 242, 243, 244, 245, 246,\n",
       "        247, 248, 249, 250, 251, 252, 253, 254, 255, 256, 257, 258, 259,\n",
       "        260, 261, 262, 263, 264, 265, 266, 267, 268, 269, 270, 271, 272,\n",
       "        273, 274, 275, 276, 277, 278, 279, 280, 281, 282, 283, 284, 285,\n",
       "        286, 287, 288, 289, 290, 291, 292, 293, 294, 295, 296, 297, 298,\n",
       "        299, 300, 301, 302, 303, 304, 305, 306, 307, 308, 309, 310, 311,\n",
       "        312, 313, 314, 315, 316, 317, 318, 319, 320, 321, 322, 323, 324,\n",
       "        325, 326, 327, 328, 329, 330, 331, 332, 333, 334, 335, 336, 337,\n",
       "        338, 339, 340, 341, 342, 343, 344, 345, 346, 347, 348, 349, 350,\n",
       "        351, 352, 353, 354, 355, 356, 357, 358, 359, 360, 361, 362, 363,\n",
       "        364, 365, 366, 367, 368, 369, 370, 371, 372, 373, 374, 375, 376,\n",
       "        377, 378, 379, 380, 381, 382, 383, 384, 385, 386, 387, 388, 389,\n",
       "        390, 391, 392, 393, 394, 395, 396, 397, 398, 399, 400, 401, 402,\n",
       "        403, 404, 405, 406, 407, 408, 409, 410, 411, 412, 413, 414, 415,\n",
       "        416, 417, 418, 419, 420, 421, 422, 423, 424, 425, 426, 427, 428,\n",
       "        429, 430, 431, 432, 433, 434, 435, 436, 437, 438, 439, 440, 441,\n",
       "        442, 443, 444, 445, 446, 447, 448, 449, 450, 451, 452, 453, 454,\n",
       "        455, 456, 457, 458, 459, 460, 461, 462, 463, 464, 465, 466, 467,\n",
       "        468, 469, 470, 471, 472, 473, 474, 475, 476, 477, 478, 479, 480,\n",
       "        481, 482, 483, 484, 485, 486, 487, 488, 489, 490, 491, 492, 493,\n",
       "        494, 495, 496, 497, 498, 499, 500, 501, 502, 503, 504, 505, 506,\n",
       "        507, 508, 509, 510, 511, 512, 513, 514, 515, 516, 517, 518, 519,\n",
       "        520, 521, 522, 523, 524, 525, 526, 527, 528, 529, 530, 531, 532,\n",
       "        533, 534, 535, 536, 537, 538, 539, 540, 541, 542, 543, 544, 545,\n",
       "        546, 547, 548, 549, 550, 551, 552, 553, 554, 555, 556, 557, 558,\n",
       "        559, 560, 561, 562, 563, 564, 565, 566, 567, 568, 569, 570, 571,\n",
       "        572, 573, 574, 575, 576, 577, 578, 579, 580, 581, 582, 583, 584,\n",
       "        585, 586, 587, 588, 589, 590, 591, 592, 593, 594, 595, 596, 597,\n",
       "        598, 599, 600, 601, 602, 603, 604, 605, 606, 607, 608, 609, 610,\n",
       "        611, 612, 613, 614, 615, 616, 617, 618, 619, 620, 621, 622, 623,\n",
       "        624, 625, 626, 627, 628, 629, 630, 631, 632, 633, 634, 635, 636,\n",
       "        637, 638, 639, 640, 641, 642, 643, 644, 645, 646, 647, 648, 649,\n",
       "        650, 651, 652, 653, 654, 655, 656, 657, 658, 659, 660, 661, 662,\n",
       "        663, 664, 665, 666, 667, 668, 669, 670, 671, 672, 673, 674, 675,\n",
       "        676, 677, 678, 679, 680, 681, 682, 683, 684, 685, 686, 687]),)"
      ]
     },
     "execution_count": 14,
     "metadata": {},
     "output_type": "execute_result"
    }
   ],
   "source": [
    "np.where(data[invalid])"
   ]
  },
  {
   "cell_type": "code",
   "execution_count": 29,
   "metadata": {},
   "outputs": [
    {
     "data": {
      "text/plain": [
       "(688,)"
      ]
     },
     "execution_count": 29,
     "metadata": {},
     "output_type": "execute_result"
    }
   ],
   "source": [
    "np.where(data[invalid])[0].shape"
   ]
  },
  {
   "cell_type": "code",
   "execution_count": null,
   "metadata": {},
   "outputs": [],
   "source": [
    "m = Basemap(projection='cyl', resolution='l',\n",
    "            llcrnrlat=-90, urcrnrlat=90,\n",
    "            llcrnrlon=-180, urcrnrlon=180)\n",
    "m.drawcoastlines(linewidth=0.5)\n",
    "m.drawparallels(np.arange(-90, 91, 45))\n",
    "m.drawmeridians(np.arange(-180, 180, 45), labels=[True,False,False,True])\n",
    "m.scatter(lon, lat, c=data, s=1, cmap=plt.cm.jet,\n",
    "          edgecolors=None, linewidth=0)\n",
    "cb = m.colorbar()\n",
    "cb.set_label(units)\n",
    "\n",
    "basename = os.path.basename(FILE_NAME)\n",
    "# There is no long_name attribute on dataset.\n",
    "longname = DATAFIELD_NAME\n",
    "plt.title('{0}\\n{1}'.format(basename, longname))\n",
    "plt.show()"
   ]
  },
  {
   "cell_type": "code",
   "execution_count": null,
   "metadata": {},
   "outputs": [],
   "source": [
    "\"\"\"\n",
    "Copyright (C) 2018 The HDF Group\n",
    "\n",
    "This example code illustrates how to access and visualize a LaRC CALIPSO file \n",
    "in file in Python.\n",
    "\n",
    "If you have any questions, suggestions, or comments on this example, please use\n",
    "the HDF-EOS Forum (http://hdfeos.org/forums).  If you would like to see an\n",
    "example of any other NASA HDF/HDF-EOS data product that is not listed in the\n",
    "HDF-EOS Comprehensive Examples page (http://hdfeos.org/zoo), feel free to\n",
    "contact us at eoshelp@hdfgroup.org or post it at the HDF-EOS Forum\n",
    "(http://hdfeos.org/forums).\n",
    "\n",
    "Usage:  save this script and run\n",
    "\n",
    "    python CAL_LID_L2_05kmAPro-Standard-V4-10.2007-03-06T09-29-19ZD.hdf.py\n",
    "\n",
    "The HDF file must be in your current working directory.\n",
    "\n",
    "Last Update: 2018-02-15\n",
    "\"\"\"\n",
    "import os\n",
    "import matplotlib as mpl\n",
    "import matplotlib.pyplot as plt\n",
    "import numpy as np\n",
    "from mpl_toolkits.basemap import Basemap\n",
    "from matplotlib import colors\n",
    "from pyhdf.SD import SD, SDC\n",
    "\n",
    "DATAFIELD_NAME = 'Column_Optical_Depth_Cloud_532'\n",
    "FILE_NAME = 'CAL_LID_L2_05kmAPro-Standard-V4-10.2007-03-06T09-29-19ZD.hdf'\n",
    "hdf = SD(FILE_NAME, SDC.READ)\n",
    "        \n",
    "# Read dataset.\n",
    "data2D = hdf.select(DATAFIELD_NAME)\n",
    "data = data2D[:,0]\n",
    "\n",
    "# Read attributes.\n",
    "attrs = data2D.attributes(full=1)\n",
    "fva=attrs[\"fillvalue\"]\n",
    "_FillValue = fva[0]\n",
    "ua=attrs[\"units\"]\n",
    "units = ua[0]\n",
    "\n",
    "vra=attrs[\"valid_range\"]\n",
    "vra_str = vra[0]\n",
    "\n",
    "# Valid attribute is string '0.0...25.0'.\n",
    "smin, smax = vra_str.split(\"...\")\n",
    "valid_min = float(smin)\n",
    "valid_max = float(smax)\n",
    "\n",
    "invalid = np.logical_or(data > valid_max,\n",
    "                        data < valid_min)\n",
    "invalid = np.logical_or(invalid, data == _FillValue)\n",
    "data[invalid] = np.nan\n",
    "\n",
    "# Read geolocation datasets.\n",
    "latitude = hdf.select('Latitude')\n",
    "lat = latitude[:,0]\n",
    "\n",
    "longitude = hdf.select('Longitude')\n",
    "lon = longitude[:,0]\n",
    "\n",
    "m = Basemap(projection='cyl', resolution='l',\n",
    "            llcrnrlat=-90, urcrnrlat=90,\n",
    "            llcrnrlon=-180, urcrnrlon=180)\n",
    "m.drawcoastlines(linewidth=0.5)\n",
    "m.drawparallels(np.arange(-90, 91, 45))\n",
    "m.drawmeridians(np.arange(-180, 180, 45), labels=[True,False,False,True])\n",
    "m.scatter(lon, lat, c=data, s=1, cmap=plt.cm.jet,\n",
    "          edgecolors=None, linewidth=0)\n",
    "cb = m.colorbar()\n",
    "cb.set_label(units)\n",
    "\n",
    "basename = os.path.basename(FILE_NAME)\n",
    "# There is no long_name attribute on dataset.\n",
    "longname = DATAFIELD_NAME\n",
    "plt.title('{0}\\n{1}'.format(basename, longname))\n",
    "plt.show()"
   ]
  },
  {
   "cell_type": "code",
   "execution_count": null,
   "metadata": {},
   "outputs": [],
   "source": [
    "fig = plt.gcf()\n",
    "\n",
    "pngfile = \"{0}.py.png\".format(basename)\n",
    "fig.savefig(pngfile)"
   ]
  }
 ],
 "metadata": {
  "kernelspec": {
   "display_name": "Python 3",
   "language": "python",
   "name": "python3"
  },
  "language_info": {
   "codemirror_mode": {
    "name": "ipython",
    "version": 3
   },
   "file_extension": ".py",
   "mimetype": "text/x-python",
   "name": "python",
   "nbconvert_exporter": "python",
   "pygments_lexer": "ipython3",
   "version": "3.7.3"
  }
 },
 "nbformat": 4,
 "nbformat_minor": 4
}
